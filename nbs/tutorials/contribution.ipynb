{
 "cells": [
  {
   "cell_type": "markdown",
   "metadata": {},
   "source": [
    "# Contribute to cfnet\n",
    "\n",
    "> How to contribute to `cfnet` "
   ]
  },
  {
   "cell_type": "code",
   "execution_count": 27,
   "metadata": {},
   "outputs": [],
   "source": [
    "#| hide\n",
    "from cfnet.import_essentials import *\n",
    "from nbdev.showdoc import show_doc\n"
   ]
  },
  {
   "cell_type": "markdown",
   "metadata": {},
   "source": [
    "This library uses [nbdev](https://nbdev.fast.ai) for development. \n",
    "We love great flexibility offered by jupyter notebook, \n",
    "and [nbdev](https://nbdev.fast.ai) in addressing limitations of using Notebook in developing large-scale projects \n",
    "(e.g., sync between notebooks and python modules, documentations).\n",
    "\n",
    "Here, we only cover basis of our development procedure.\n",
    "For an in-depth use of [nbdev](https://nbdev.fast.ai), please refer to the [nbdev tutorial](https://nbdev.fast.ai/tutorials/).\n",
    "Following links are particularly useful:\n",
    "\n",
    "* [A step-by-step tutorial on using nbdev](https://nbdev.fast.ai/tutorials/tutorial.html)\n",
    "* [How to write code in Jupyter Notebook](https://nbdev.fast.ai/tutorials/best_practices.html)\n"
   ]
  },
  {
   "cell_type": "markdown",
   "metadata": {},
   "source": [
    "## Write Code in Jupyter Notebook\n",
    "\n",
    "Note that nbdev provides a [best practice guidline](https://nbdev.fast.ai/tutorials/best_practices.html) \n",
    "to writing code in Jupyter Notebooks. \n",
    "Here, we present some of the most important steps.\n"
   ]
  },
  {
   "cell_type": "markdown",
   "metadata": {},
   "source": [
    "#### Export Cell to Python Module \n",
    "\n",
    "`#| export` marks code cells (in Notebook; `.ipynb`) to be exported to Python Module (`.py`).\n",
    "By default, this cell will be exported to the file defined in `#| default_exp file_name`\n",
    "(usually presented upfront).\n",
    "\n",
    "\n",
    "For example, the below function will be exported to the Python module.\n",
    "\n",
    "```python\n",
    "#| export\n",
    "def func(args):\n",
    "    ...\n",
    "```\n",
    "\n",
    "We can also specify files to be exported.\n",
    "\n",
    "```python\n",
    "#| export file_name.py\n",
    "def func(args):\n",
    "    ...\n",
    "```\n"
   ]
  },
  {
   "cell_type": "markdown",
   "metadata": {},
   "source": [
    "For private functions/objects, we can use `#| exporti`. \n",
    "In this way, the code will still be exported to the file, but not included in `__all__`.\n",
    "\n",
    "\n",
    "More about [directives](https://nbdev.fast.ai/explanations/directives.html).\n"
   ]
  },
  {
   "cell_type": "markdown",
   "metadata": {},
   "source": [
    "#### Write Test Cases\n",
    "\n"
   ]
  },
  {
   "cell_type": "markdown",
   "metadata": {},
   "source": [
    "It is desirable to write some unit tests for each function and object.\n",
    "[nbdev](https://nbdev.fast.ai) recommends to write test cases after implementing a feature.\n",
    "A normal cell is considered for testing.\n",
    "\n",
    "For example, let's consider a function which adds up all the inputs: "
   ]
  },
  {
   "cell_type": "code",
   "execution_count": 28,
   "metadata": {},
   "outputs": [],
   "source": [
    "def add_numbers(*args):\n",
    "    return sum(args)"
   ]
  },
  {
   "cell_type": "markdown",
   "metadata": {},
   "source": [
    "To test this function, we write unit tests via `assert`."
   ]
  },
  {
   "cell_type": "code",
   "execution_count": 13,
   "metadata": {},
   "outputs": [],
   "source": [
    "# check correctness\n",
    "assert add_numbers(1, 2, 3) == 6\n",
    "# check types\n",
    "assert type(add_numbers(1, 2, 3)) == int\n",
    "assert type(add_numbers(1., 2, 3)) == float"
   ]
  },
  {
   "cell_type": "markdown",
   "metadata": {},
   "source": [
    ":::{.callout-note}\n",
    "Note that all the test cases should be quickly run.\n",
    "If a cell takes a long time to run (e.g., model training),\n",
    "mark the cell as `#| eval: false` to skip this cell.\n",
    ":::\n"
   ]
  },
  {
   "cell_type": "markdown",
   "metadata": {},
   "source": [
    "#### Documentation\n",
    "\n",
    "**Doc string.**\n",
    "\n"
   ]
  },
  {
   "cell_type": "code",
   "execution_count": 22,
   "metadata": {},
   "outputs": [],
   "source": [
    "from __future__ import annotations"
   ]
  },
  {
   "cell_type": "code",
   "execution_count": 25,
   "metadata": {},
   "outputs": [],
   "source": [
    "def validate_configs(\n",
    "    configs: dict|BaseParser, # A configuration of the model/data.\n",
    "    config_cls: BaseParser # The desired configuration class.\n",
    ") -> BaseParser:\n",
    "    \"\"\"return a valid configuration object.\"\"\"\n",
    "    ...\n"
   ]
  },
  {
   "cell_type": "markdown",
   "metadata": {},
   "source": [
    "nbdev will automatically render the documentation:"
   ]
  },
  {
   "cell_type": "code",
   "execution_count": 26,
   "metadata": {},
   "outputs": [
    {
     "data": {
      "text/markdown": [
       "---\n",
       "\n",
       "[source](https://github.com/birkhoffg/cfnet/tree/master/blob/master/cfnet/utils.py#L11){target=\"_blank\" style=\"float:right; font-size:smaller\"}\n",
       "\n",
       "### validate_configs\n",
       "\n",
       ">      validate_configs (configs:Union[dict,pydantic.main.BaseModel],\n",
       ">                        config_cls:pydantic.main.BaseModel)\n",
       "\n",
       "return a valid configuration object.\n",
       "\n",
       "|    | **Type** | **Details** |\n",
       "| -- | -------- | ----------- |\n",
       "| configs | dict \\| BaseParser | A configuration of the model/data. |\n",
       "| config_cls | BaseParser | The desired configuration class. |\n",
       "| **Returns** | **BaseParser** |  |"
      ],
      "text/plain": [
       "---\n",
       "\n",
       "[source](https://github.com/birkhoffg/cfnet/tree/master/blob/master/cfnet/utils.py#L11){target=\"_blank\" style=\"float:right; font-size:smaller\"}\n",
       "\n",
       "### validate_configs\n",
       "\n",
       ">      validate_configs (configs:Union[dict,pydantic.main.BaseModel],\n",
       ">                        config_cls:pydantic.main.BaseModel)\n",
       "\n",
       "return a valid configuration object.\n",
       "\n",
       "|    | **Type** | **Details** |\n",
       "| -- | -------- | ----------- |\n",
       "| configs | dict \\| BaseParser | A configuration of the model/data. |\n",
       "| config_cls | BaseParser | The desired configuration class. |\n",
       "| **Returns** | **BaseParser** |  |"
      ]
     },
     "execution_count": 26,
     "metadata": {},
     "output_type": "execute_result"
    }
   ],
   "source": [
    "#| eval: false\n",
    "show_doc(validate_configs)"
   ]
  },
  {
   "cell_type": "markdown",
   "metadata": {},
   "source": [
    "\n",
    "**Callout.** We can also use [callout](https://quarto.org/docs/authoring/callouts.html) for clear documentations.\n",
    "\n",
    "```markdown\n",
    ":::{.callout-note}\n",
    "Note that there are five types of callouts, including:\n",
    "`note`, `warning`, `important`, `tip`, and `caution`.\n",
    ":::\n",
    "```\n",
    "\n",
    "which renders:\n",
    "\n",
    ":::{.callout-note}\n",
    "Note that there are five types of callouts, including:\n",
    "`note`, `warning`, `important`, `tip`, and `caution`.\n",
    ":::"
   ]
  },
  {
   "cell_type": "markdown",
   "metadata": {},
   "source": [
    "## Two-way Sync between Notebooks (`.ipynb`) and Python Code (`.py`)"
   ]
  },
  {
   "cell_type": "markdown",
   "metadata": {},
   "source": [
    "## Preparing a Code Commit"
   ]
  },
  {
   "cell_type": "markdown",
   "metadata": {},
   "source": [
    "## PR Submission"
   ]
  }
 ],
 "metadata": {
  "kernelspec": {
   "display_name": "Python 3.7.12 ('nbdev2')",
   "language": "python",
   "name": "python3"
  },
  "language_info": {
   "codemirror_mode": {
    "name": "ipython",
    "version": 3
   },
   "file_extension": ".py",
   "mimetype": "text/x-python",
   "name": "python",
   "nbconvert_exporter": "python",
   "pygments_lexer": "ipython3",
   "version": "3.7.12"
  },
  "orig_nbformat": 4,
  "vscode": {
   "interpreter": {
    "hash": "3f450d1f6173d6d96822a65433f2c9ed0b856da53e162bc0666cdf9645c72e1e"
   }
  }
 },
 "nbformat": 4,
 "nbformat_minor": 2
}
