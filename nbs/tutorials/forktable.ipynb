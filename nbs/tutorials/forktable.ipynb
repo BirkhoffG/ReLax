{
 "cells": [
  {
   "attachments": {},
   "cell_type": "markdown",
   "metadata": {},
   "source": [
    "# Benchmarking to 10M Dataset\n",
    "\n",
    "- skip_showdoc: true\n",
    "- skip_exec: true"
   ]
  },
  {
   "cell_type": "code",
   "execution_count": null,
   "metadata": {},
   "outputs": [],
   "source": [
    "from relax.import_essentials import *\n",
    "from relax.data import *\n",
    "from relax.module import *\n",
    "import datasets as hfds\n",
    "from relax.trainer import train_model, TrainingConfigs\n",
    "from relax.utils import *\n",
    "from relax._ckpt_manager import load_checkpoint, save_checkpoint"
   ]
  },
  {
   "cell_type": "code",
   "execution_count": null,
   "metadata": {},
   "outputs": [
    {
     "name": "stderr",
     "output_type": "stream",
     "text": [
      "Found cached dataset parquet (/home/birk/.cache/huggingface/datasets/birkhoffg___parquet/birkhoffg--folktables-acs-income-bc190711a423bf3e/0.0.0/2a3b91fbd88a2c90d1dbbb32b460cf621d31bd5b05b934492fdef7d8d6f236ec)\n"
     ]
    },
    {
     "data": {
      "application/vnd.jupyter.widget-view+json": {
       "model_id": "150251f99c1143188c54c84aaf06421c",
       "version_major": 2,
       "version_minor": 0
      },
      "text/plain": [
       "  0%|          | 0/2 [00:00<?, ?it/s]"
      ]
     },
     "metadata": {},
     "output_type": "display_data"
    }
   ],
   "source": [
    "ds = hfds.load_dataset(\"birkhoffg/folktables-acs-income\")"
   ]
  },
  {
   "cell_type": "code",
   "execution_count": null,
   "metadata": {},
   "outputs": [],
   "source": [
    "def hfds_to_dm(\n",
    "    dataset: hfds.Dataset, \n",
    "    configs: TabularDataModuleConfigs\n",
    ") -> TabularDataModule:\n",
    "    train_df = dataset[\"train\"].to_pandas()\n",
    "    test_df = dataset[\"test\"].to_pandas()\n",
    "    df = pd.concat([train_df, test_df])\n",
    "    if \"__index_level_0__\" in df.columns:\n",
    "        df = df.drop(columns=[\"__index_level_0__\"])\n",
    "    print('df is loaded')\n",
    "    dm = TabularDataModule(configs, df)\n",
    "    return dm"
   ]
  },
  {
   "cell_type": "code",
   "execution_count": null,
   "metadata": {},
   "outputs": [],
   "source": [
    "configs = TabularDataModuleConfigs(\n",
    "    data_dir='',\n",
    "    data_name='forktable',\n",
    "    continous_cols=['AGEP', 'OCCP', 'POBP', 'RELP', 'WKHP'],\n",
    "    discret_cols=['COW', 'SCHL', 'MAR', 'SEX', 'RAC1P', 'STATE', 'YEAR'],\n",
    "    # sample_frac=0.1\n",
    ")"
   ]
  },
  {
   "cell_type": "code",
   "execution_count": null,
   "metadata": {},
   "outputs": [
    {
     "name": "stdout",
     "output_type": "stream",
     "text": [
      "df is loaded\n"
     ]
    },
    {
     "name": "stderr",
     "output_type": "stream",
     "text": [
      "/home/birk/mambaforge-pypy3/envs/nbdev2/lib/python3.8/site-packages/sklearn/preprocessing/_encoders.py:868: FutureWarning: `sparse` was renamed to `sparse_output` in version 1.2 and will be removed in 1.4. `sparse_output` is ignored unless you leave `sparse` to its default value.\n",
      "  warnings.warn(\n"
     ]
    }
   ],
   "source": [
    "dm = hfds_to_dm(ds, configs)"
   ]
  },
  {
   "cell_type": "code",
   "execution_count": null,
   "metadata": {},
   "outputs": [],
   "source": [
    "module = PredictiveTrainingModule({\n",
    "    'lr': 1e-3,\n",
    "    'sizes': [110, 110, 50, 10],\n",
    "    'dropout': 0.3,\n",
    "})"
   ]
  },
  {
   "cell_type": "code",
   "execution_count": null,
   "metadata": {},
   "outputs": [
    {
     "name": "stderr",
     "output_type": "stream",
     "text": [
      "Epoch 9: 100%|██████████| 28694/28694 [02:57<00:00, 161.59batch/s, train/train_loss_1=0.0623]\n"
     ]
    }
   ],
   "source": [
    "params, _ = train_model(\n",
    "    module, dm, TrainingConfigs(\n",
    "        n_epochs=10, batch_size=256, monitor_metrics='val/val_accuracy',\n",
    "        max_n_checkpoints=1\n",
    "    )\n",
    ")"
   ]
  },
  {
   "cell_type": "code",
   "execution_count": null,
   "metadata": {},
   "outputs": [],
   "source": [
    "train_X, train_y = dm.train_dataset[:]\n",
    "test_X, test_y = dm.test_dataset[:]"
   ]
  },
  {
   "cell_type": "code",
   "execution_count": null,
   "metadata": {},
   "outputs": [],
   "source": [
    "y_pred = module.pred_fn(test_X, params, jrand.PRNGKey(0)).round()\n",
    "(y_pred == test_y).mean()"
   ]
  }
 ],
 "metadata": {
  "kernelspec": {
   "display_name": "python3",
   "language": "python",
   "name": "python3"
  }
 },
 "nbformat": 4,
 "nbformat_minor": 2
}
