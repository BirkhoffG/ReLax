{
 "cells": [
  {
   "attachments": {},
   "cell_type": "markdown",
   "id": "e5562079",
   "metadata": {},
   "source": [
    "# Get started\n",
    "\n",
    "> A basic tutorial over key features in `ReLax`"
   ]
  },
  {
   "cell_type": "markdown",
   "id": "0333ebd6",
   "metadata": {},
   "source": [
    "## Import Data\n",
    "\n",
    "To import data, we use `TabularDataModule` to load the data. First we setup the input `data_configs` for the module. `data_configs` has 6 attributes:\n",
    "- `data_dir` should be the directory of your data.\n",
    "- `data_name` is the name of your data.\n",
    "- `batch_size` is the batch size of your data.\n",
    "- `continous_cols` for continuous/numeric values in the data.\n",
    "- `discret_cols` for discret values in the data. It will be converted to one-hot encoding for training purpose.\n",
    "- `imutable_cols` for imutable values in the data."
   ]
  },
  {
   "cell_type": "code",
   "execution_count": null,
   "id": "1cd2d0e7",
   "metadata": {},
   "outputs": [],
   "source": [
    "#| all_slow"
   ]
  },
  {
   "cell_type": "code",
   "execution_count": null,
   "id": "f52ae0e8",
   "metadata": {},
   "outputs": [],
   "source": [
    "from relax.import_essentials import *"
   ]
  },
  {
   "cell_type": "code",
   "execution_count": null,
   "id": "6c53d3f7",
   "metadata": {},
   "outputs": [],
   "source": [
    "data_configs = {\n",
    "    \"data_dir\": \"../assets/data/s_adult.csv\",\n",
    "    \"data_name\": \"adult\",\n",
    "    \"continous_cols\": [\"age\",\"hours_per_week\"],\n",
    "    \"discret_cols\": [\"workclass\",\"education\",\"marital_status\",\"occupation\",\"race\",\"gender\"],\n",
    "    \"imutable_cols\": [\"race\",\"gender\"]\n",
    "}\n"
   ]
  },
  {
   "cell_type": "markdown",
   "id": "27264c46",
   "metadata": {},
   "source": [
    "Then we pass `data_configs` to `TabularDataModule` to load the data"
   ]
  },
  {
   "cell_type": "code",
   "execution_count": null,
   "id": "81b793d9",
   "metadata": {},
   "outputs": [],
   "source": [
    "from relax.data import TabularDataModule"
   ]
  },
  {
   "cell_type": "code",
   "execution_count": null,
   "id": "f55fb3bd",
   "metadata": {},
   "outputs": [],
   "source": [
    "dm = TabularDataModule(data_configs)"
   ]
  },
  {
   "cell_type": "markdown",
   "id": "a88d0645",
   "metadata": {},
   "source": [
    "## Train the Machine Learning Classifier\n",
    "\n",
    "Now we have the data loaded, we need to specify the classifier.\n",
    "\n",
    "1. Specify the machine learning model configurations `m_configs`. `m_configs` has 3 atributes:\n",
    "\n",
    "- `lr` is learning rate\n",
    "- `sizes` shape of the machine learning model\n",
    "- `dropout_rate` is dropout rate"
   ]
  },
  {
   "cell_type": "code",
   "execution_count": null,
   "id": "0db4d409",
   "metadata": {},
   "outputs": [],
   "source": [
    "m_configs = {\n",
    "    'lr': 0.003,\n",
    "    \"sizes\": [50, 10, 50],\n",
    "    \"batch_size\": 256,\n",
    "    \"dropout_rate\": 0.3\n",
    "}"
   ]
  },
  {
   "cell_type": "markdown",
   "id": "50896230",
   "metadata": {},
   "source": [
    "2. Pass `m_configs` to our classification model."
   ]
  },
  {
   "cell_type": "code",
   "execution_count": null,
   "id": "bb856d9e",
   "metadata": {},
   "outputs": [],
   "source": [
    "from relax.module import PredictiveTrainingModule"
   ]
  },
  {
   "cell_type": "code",
   "execution_count": null,
   "id": "fa61b402",
   "metadata": {},
   "outputs": [],
   "source": [
    "training_module = PredictiveTrainingModule(m_configs)"
   ]
  },
  {
   "cell_type": "code",
   "execution_count": null,
   "id": "595fa0bb",
   "metadata": {},
   "outputs": [],
   "source": [
    "t_configs = {\n",
    "    'n_epochs': 10,\n",
    "    'monitor_metrics': 'val/val_loss',\n",
    "    'logger_name': 'pred',\n",
    "    \"batch_size\": 256\n",
    "}"
   ]
  },
  {
   "cell_type": "markdown",
   "id": "89b2013e",
   "metadata": {},
   "source": [
    "4. Pass `training_module`, `dm`, and `t_configs` we have specified above to train the model."
   ]
  },
  {
   "cell_type": "code",
   "execution_count": null,
   "id": "a9dd8145",
   "metadata": {},
   "outputs": [
    {
     "name": "stderr",
     "output_type": "stream",
     "text": [
      "WARNING:absl:No GPU/TPU found, falling back to CPU. (Set TF_CPP_MIN_LOG_LEVEL=0 and rerun for more info.)\n",
      "Epoch 9: 100%|██████████| 96/96 [00:01<00:00, 87.87batch/s, train/train_loss_1=0.038] \n"
     ]
    }
   ],
   "source": [
    "from relax.trainer import train_model\n",
    "\n",
    "params, opt_state = train_model(\n",
    "    training_module, dm, t_configs\n",
    ")"
   ]
  },
  {
   "cell_type": "markdown",
   "id": "59b03845",
   "metadata": {},
   "source": [
    "Here we use `params` to store the parameters after training. "
   ]
  },
  {
   "cell_type": "markdown",
   "id": "4d1f2129",
   "metadata": {},
   "source": [
    "## Generate Counterfactual Examples\n"
   ]
  },
  {
   "cell_type": "markdown",
   "id": "9bb7dffb",
   "metadata": {},
   "source": [
    "1. Setup the predict function from previous training."
   ]
  },
  {
   "cell_type": "code",
   "execution_count": null,
   "id": "53581cb9",
   "metadata": {},
   "outputs": [],
   "source": [
    "pred_fn = lambda x: training_module.forward(\n",
    "    params, random.PRNGKey(0), x, is_training=False)"
   ]
  },
  {
   "cell_type": "markdown",
   "id": "63983b31",
   "metadata": {},
   "source": [
    "2. Setup the counterfactual configurations. `n_steps` and `lr` are the hyperparameters."
   ]
  },
  {
   "cell_type": "code",
   "execution_count": null,
   "id": "97d5aff0",
   "metadata": {},
   "outputs": [],
   "source": [
    "cf_configs = {\n",
    "    'n_steps': 1000,\n",
    "    'lr': 0.001\n",
    "}"
   ]
  },
  {
   "cell_type": "markdown",
   "id": "8fdd2aee",
   "metadata": {},
   "source": [
    "3. Setup the counterfactual method. Here we use `VanillaCF`."
   ]
  },
  {
   "cell_type": "code",
   "execution_count": null,
   "id": "075f0c9b",
   "metadata": {},
   "outputs": [],
   "source": [
    "from relax.methods import VanillaCF\n",
    "\n",
    "cf_exp = VanillaCF(cf_configs)"
   ]
  },
  {
   "cell_type": "markdown",
   "id": "333e627f",
   "metadata": {},
   "source": [
    "4. Generate counterfactual examples."
   ]
  },
  {
   "cell_type": "code",
   "execution_count": null,
   "id": "bc711d94",
   "metadata": {},
   "outputs": [
    {
     "name": "stderr",
     "output_type": "stream",
     "text": [
      "100%|██████████| 1000/1000 [00:05<00:00, 182.98it/s]\n"
     ]
    }
   ],
   "source": [
    "from relax.evaluate import generate_cf_explanations\n",
    "\n",
    "cf_results = generate_cf_explanations(cf_exp, dm, pred_fn)"
   ]
  },
  {
   "cell_type": "markdown",
   "id": "7b704058",
   "metadata": {},
   "source": [
    "## Benchmark the Counterfactual Method"
   ]
  },
  {
   "cell_type": "markdown",
   "id": "7e47bd23",
   "metadata": {},
   "source": [
    "After we obtain the counterfactual results, we can use  `benchmark_cfs` to evaluate the accuracy, validity, and proximity of the counterfactual example."
   ]
  },
  {
   "cell_type": "code",
   "execution_count": null,
   "id": "ef28a753",
   "metadata": {},
   "outputs": [],
   "source": [
    "from relax.evaluate import benchmark_cfs"
   ]
  },
  {
   "cell_type": "code",
   "execution_count": null,
   "id": "220009e4",
   "metadata": {},
   "outputs": [
    {
     "data": {
      "text/html": [
       "<div>\n",
       "<style scoped>\n",
       "    .dataframe tbody tr th:only-of-type {\n",
       "        vertical-align: middle;\n",
       "    }\n",
       "\n",
       "    .dataframe tbody tr th {\n",
       "        vertical-align: top;\n",
       "    }\n",
       "\n",
       "    .dataframe thead th {\n",
       "        text-align: right;\n",
       "    }\n",
       "</style>\n",
       "<table border=\"1\" class=\"dataframe\">\n",
       "  <thead>\n",
       "    <tr style=\"text-align: right;\">\n",
       "      <th></th>\n",
       "      <th></th>\n",
       "      <th>acc</th>\n",
       "      <th>validity</th>\n",
       "      <th>proximity</th>\n",
       "    </tr>\n",
       "  </thead>\n",
       "  <tbody>\n",
       "    <tr>\n",
       "      <th>adult</th>\n",
       "      <th>VanillaCF</th>\n",
       "      <td>0.825574</td>\n",
       "      <td>0.866724</td>\n",
       "      <td>7.6325455</td>\n",
       "    </tr>\n",
       "  </tbody>\n",
       "</table>\n",
       "</div>"
      ],
      "text/plain": [
       "                      acc  validity  proximity\n",
       "adult VanillaCF  0.825574  0.866724  7.6325455"
      ]
     },
     "execution_count": null,
     "metadata": {},
     "output_type": "execute_result"
    }
   ],
   "source": [
    "benchmark_cfs([cf_results])"
   ]
  }
 ],
 "metadata": {
  "kernelspec": {
   "display_name": "nbdev2",
   "language": "python",
   "name": "python3"
  }
 },
 "nbformat": 4,
 "nbformat_minor": 5
}
