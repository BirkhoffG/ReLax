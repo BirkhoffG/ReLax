{
 "cells": [
  {
   "cell_type": "markdown",
   "metadata": {},
   "source": [
    "# Installation\n",
    "\n",
    "> A tutorial on installing `relax`"
   ]
  },
  {
   "cell_type": "markdown",
   "metadata": {},
   "source": [
    ":::{.callout-tip}\n",
    "TL;DR: If you just want to run `relax`, please just install via Pypi.\n",
    "\n",
    "```bash\n",
    "pip install relax\n",
    "```\n",
    ":::\n"
   ]
  },
  {
   "cell_type": "markdown",
   "metadata": {},
   "source": [
    ":::{.callout-warning}\n",
    "`relax` only support installation on Linux and macOS \n",
    "(as no official built are released by `jax` for Windows).\n",
    "\n",
    "Windows users should use `relax` on CPU and GPU via the \n",
    "[Windows Subsystem for Linux](https://docs.microsoft.com/en-us/windows/wsl/about).\n",
    ":::"
   ]
  },
  {
   "cell_type": "markdown",
   "metadata": {},
   "source": [
    "`relax` is built on top of [Jax](https://jax.readthedocs.io/en/latest/index.html). \n",
    "It also uses [Pytorch](https://pytorch.org/) to load data.\n",
    "\n",
    "\n"
   ]
  },
  {
   "cell_type": "markdown",
   "metadata": {},
   "source": [
    "#### Running on CPU\n",
    "If you only need to run relax on CPU, you can simply install via pip or clone the GitHub project.\n",
    "\n",
    "Installation via PyPI:\n",
    "\n",
    "```bash\n",
    "pip install relax\n",
    "```\n",
    "\n",
    "Editable Install:\n",
    "\n",
    "```bash\n",
    "git clone https://github.com/BirkhoffG/relax.git\n",
    "pip install -e relax\n",
    "```\n",
    "\n",
    "#### Running on GPU or TPU\n",
    "TODO\n",
    "\n",
    "If you wish to run relax on GPU or TPU, \n",
    "please first install this library via `pip install relax`.\n",
    "\n",
    "Then, you should install the right GPU or TPU version of Jax by following steps in the install guidelines.\n",
    "\n"
   ]
  },
  {
   "attachments": {},
   "cell_type": "markdown",
   "metadata": {},
   "source": [
    "#### Contributor of `relax`\n",
    "\n",
    "TODO\n",
    "\n",
    "See [nbdev installation](https://nbdev.fast.ai/tutorials/tutorial.html#install-quarto).\n"
   ]
  }
 ],
 "metadata": {
  "kernelspec": {
   "display_name": "Python 3.7.12 ('nbdev2')",
   "language": "python",
   "name": "python3"
  }
 },
 "nbformat": 4,
 "nbformat_minor": 2
}
