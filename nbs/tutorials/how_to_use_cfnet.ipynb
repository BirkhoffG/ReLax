{
 "cells": [
  {
   "cell_type": "markdown",
   "id": "e5562079",
   "metadata": {},
   "source": [
    "# How to use CFNet\n",
    "## 1. Import Data\n",
    "To import data, we use `TabularDataModule` to load the data. First we setup the input `data_configs` for the module. `data_configs` has 6 attributes:\n",
    "- `data_dir` should be the directory of your data.\n",
    "- `data_name` is the name of your data.\n",
    "- `batch_size` is the batch size of your data.\n",
    "- `continous_cols` for continuous/numeric values in the data.\n",
    "- `discret_cols` for discret values in the data. It will be converted to one-hot encoding for training purpose.\n",
    "- `imutable_cols` for imutable values in the data."
   ]
  },
  {
   "cell_type": "code",
   "execution_count": 1,
   "id": "6c53d3f7",
   "metadata": {},
   "outputs": [],
   "source": [
    "from cfnet.import_essentials import *\n",
    "\n",
    "data_configs = {\n",
    "    \"data_dir\": \"assets/data/s_adult.csv\",\n",
    "    \"data_name\": \"adult\",\n",
    "    \"batch_size\": 256,\n",
    "    \"continous_cols\": [\"age\",\"hours_per_week\"],\n",
    "    \"discret_cols\": [\"workclass\",\"education\",\"marital_status\",\"occupation\",\"race\",\"gender\"],\n",
    "    \"imutable_cols\": [\"race\",\"gender\"]\n",
    "}\n"
   ]
  },
  {
   "cell_type": "markdown",
   "id": "27264c46",
   "metadata": {},
   "source": [
    "Then we pass `data_configs` to `TabularDataModule` to load the data"
   ]
  },
  {
   "cell_type": "code",
   "execution_count": 2,
   "id": "f55fb3bd",
   "metadata": {},
   "outputs": [],
   "source": [
    "from cfnet.datasets import TabularDataModule\n",
    "\n",
    "dm = TabularDataModule(data_configs)"
   ]
  },
  {
   "cell_type": "markdown",
   "id": "a88d0645",
   "metadata": {},
   "source": [
    "## 2. Train the Machine Learning Classifier\n",
    "Now we have the data loaded, we need to specify the classifier.\n",
    "1. Specify the machine learning model configurations `m_configs`. `m_configs` has 3 atributes:\n",
    "- `lr` is learning rate\n",
    "- `sizes` shape of the machine learning model\n",
    "- `dropout_rate` is dropout rate"
   ]
  },
  {
   "cell_type": "code",
   "execution_count": 3,
   "id": "0db4d409",
   "metadata": {},
   "outputs": [],
   "source": [
    "m_configs = {\n",
    "    'lr': 0.003,\n",
    "    \"sizes\": [50, 10, 50],\n",
    "    \"dropout_rate\": 0.3\n",
    "}"
   ]
  },
  {
   "cell_type": "markdown",
   "id": "50896230",
   "metadata": {},
   "source": [
    "2. Pass `m_configs` to our classification model."
   ]
  },
  {
   "cell_type": "code",
   "execution_count": 4,
   "id": "fa61b402",
   "metadata": {},
   "outputs": [],
   "source": [
    "from cfnet.training_module import PredictiveTrainingModule\n",
    "\n",
    "training_module = PredictiveTrainingModule(m_configs)"
   ]
  },
  {
   "cell_type": "markdown",
   "id": "c55d6a1c",
   "metadata": {},
   "source": []
  },
  {
   "cell_type": "code",
   "execution_count": 5,
   "id": "595fa0bb",
   "metadata": {},
   "outputs": [],
   "source": [
    "t_configs = {\n",
    "    'n_epochs': 10,\n",
    "    'monitor_metrics': 'val/val_loss',\n",
    "    'logger_name': 'pred'\n",
    "}"
   ]
  },
  {
   "cell_type": "markdown",
   "id": "89b2013e",
   "metadata": {},
   "source": [
    "4. Pass `training_module`, `dm`, and `t_configs` we have specified above to train the model."
   ]
  },
  {
   "cell_type": "code",
   "execution_count": 6,
   "id": "a9dd8145",
   "metadata": {},
   "outputs": [
    {
     "name": "stderr",
     "output_type": "stream",
     "text": [
      "/Users/chuck/PycharmProjects/cfnet-master/cfnet/_ckpt_manager.py:14: FutureWarning: jax.tree_leaves is deprecated, and will be removed in a future release. Use jax.tree_util.tree_leaves instead.\n",
      "  for x in jax.tree_leaves(state):\n",
      "Epoch 9: 100%|██████████| 96/96 [00:00<00:00, 102.33batch/s, train/train_loss_1=0.0728]\n"
     ]
    }
   ],
   "source": [
    "from cfnet.train import train_model\n",
    "\n",
    "params, opt_state = train_model(\n",
    "    training_module, dm, t_configs\n",
    ")"
   ]
  },
  {
   "cell_type": "markdown",
   "id": "59b03845",
   "metadata": {},
   "source": [
    "Here we use `params` to store the parameters after training. "
   ]
  },
  {
   "cell_type": "markdown",
   "id": "4d1f2129",
   "metadata": {},
   "source": [
    "## 3. Generate Counterfactual Examples\n"
   ]
  },
  {
   "cell_type": "markdown",
   "id": "9bb7dffb",
   "metadata": {},
   "source": []
  },
  {
   "cell_type": "code",
   "execution_count": 7,
   "id": "53581cb9",
   "metadata": {},
   "outputs": [],
   "source": [
    "pred_fn = lambda x: training_module.forward(\n",
    "    params, random.PRNGKey(0), x, is_training=False)"
   ]
  },
  {
   "cell_type": "markdown",
   "source": [
    "2. Steup the counterfactual configurations. `n_steps` and `lr` are the hyperparameters."
   ],
   "metadata": {
    "collapsed": false
   }
  },
  {
   "cell_type": "code",
   "execution_count": 10,
   "outputs": [],
   "source": [
    "cf_configs = {\n",
    "    'n_steps': 1000,\n",
    "    'lr': 0.001\n",
    "}"
   ],
   "metadata": {
    "collapsed": false
   }
  },
  {
   "cell_type": "markdown",
   "id": "8fdd2aee",
   "metadata": {},
   "source": [
    "3. Setup the counterfactual method. Here we use `VanillaCF`."
   ]
  },
  {
   "cell_type": "code",
   "execution_count": 19,
   "id": "075f0c9b",
   "metadata": {},
   "outputs": [
    {
     "name": "stdout",
     "output_type": "stream",
     "text": [
      "0\n"
     ]
    }
   ],
   "source": [
    "from cfnet.methods import VanillaCF\n",
    "\n",
    "cf_exp = VanillaCF(cf_configs)"
   ]
  },
  {
   "cell_type": "markdown",
   "source": [
    "4. Generate counterfactual examples."
   ],
   "metadata": {
    "collapsed": false
   }
  },
  {
   "cell_type": "code",
   "execution_count": 21,
   "id": "bc711d94",
   "metadata": {},
   "outputs": [
    {
     "name": "stderr",
     "output_type": "stream",
     "text": [
      "100%|██████████| 1000/1000 [00:05<00:00, 195.41it/s]\n"
     ]
    },
    {
     "data": {
      "text/plain": "array([[0.34246576, 0.39795917, 0.        , ..., 1.        , 0.        ,\n        1.        ],\n       [0.5205479 , 0.3469388 , 0.        , ..., 0.        , 1.        ,\n        0.        ],\n       [0.47945204, 0.4489796 , 0.        , ..., 1.        , 1.        ,\n        0.        ],\n       ...,\n       [0.05479452, 0.09183674, 1.        , ..., 1.        , 0.        ,\n        1.        ],\n       [0.09589041, 0.39795917, 0.        , ..., 1.        , 0.        ,\n        1.        ],\n       [0.39726028, 0.39795917, 0.        , ..., 1.        , 1.        ,\n        0.        ]], dtype=float32)"
     },
     "metadata": {},
     "output_type": "display_data"
    }
   ],
   "source": [
    "from cfnet.evaluate import generate_cf_results_local_exp\n",
    "\n",
    "cf_results = generate_cf_results_local_exp(cf_exp, dm, pred_fn)\n",
    "\n",
    "display(cf_results.X)"
   ]
  },
  {
   "cell_type": "markdown",
   "id": "7b704058",
   "metadata": {},
   "source": [
    "## 4. Benchmark the Counterfactual Method"
   ]
  },
  {
   "cell_type": "markdown",
   "source": [
    "After we obtain the counterfactual results, we can use  `benchmark_cfs` to evaluate the accuracy, validity, and proximity of the counterfactual example."
   ],
   "metadata": {
    "collapsed": false
   }
  },
  {
   "cell_type": "code",
   "execution_count": 13,
   "id": "220009e4",
   "metadata": {},
   "outputs": [
    {
     "data": {
      "text/plain": "                      acc  validity  proximity\nadult VanillaCF  0.825943  0.901732    8.09617",
      "text/html": "<div>\n<style scoped>\n    .dataframe tbody tr th:only-of-type {\n        vertical-align: middle;\n    }\n\n    .dataframe tbody tr th {\n        vertical-align: top;\n    }\n\n    .dataframe thead th {\n        text-align: right;\n    }\n</style>\n<table border=\"1\" class=\"dataframe\">\n  <thead>\n    <tr style=\"text-align: right;\">\n      <th></th>\n      <th></th>\n      <th>acc</th>\n      <th>validity</th>\n      <th>proximity</th>\n    </tr>\n  </thead>\n  <tbody>\n    <tr>\n      <th>adult</th>\n      <th>VanillaCF</th>\n      <td>0.825943</td>\n      <td>0.901732</td>\n      <td>8.09617</td>\n    </tr>\n  </tbody>\n</table>\n</div>"
     },
     "execution_count": 13,
     "metadata": {},
     "output_type": "execute_result"
    }
   ],
   "source": [
    "from cfnet.evaluate import benchmark_cfs\n",
    "\n",
    "benchmark_cfs([cf_results])"
   ]
  }
 ],
 "metadata": {
  "interpreter": {
   "hash": "31f2aee4e71d21fbe5cf8b01ff0e069b9275f58929596ceb00d14d90e3e16cd6"
  },
  "kernelspec": {
   "display_name": "Python 3.8.9 64-bit",
   "language": "python",
   "name": "python3"
  },
  "language_info": {
   "codemirror_mode": {
    "name": "ipython",
    "version": 3
   },
   "file_extension": ".py",
   "mimetype": "text/x-python",
   "name": "python",
   "nbconvert_exporter": "python",
   "pygments_lexer": "ipython3",
   "version": "3.9.6"
  }
 },
 "nbformat": 4,
 "nbformat_minor": 5
}
