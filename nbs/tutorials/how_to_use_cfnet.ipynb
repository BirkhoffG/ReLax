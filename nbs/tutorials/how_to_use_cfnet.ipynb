{
 "cells": [
  {
   "cell_type": "markdown",
   "id": "e5562079",
   "metadata": {},
   "source": [
    "# How to use CFNet\n",
    "## 1. Import Data\n",
    "To import data, we use `TabularDataModule` to load the data. First we setup the input `data_configs` for the module. `data_configs` has 6 attributes:\n",
    "- `data_dir` should be the directory of your data.\n",
    "- `data_name` is the name of your data.\n",
    "- `batch_size` is the batch size of your data.\n",
    "- `continous_cols` for continuous/numeric values in the data.\n",
    "- `discret_cols` for discret values in the data. It will be converted to one-hot encoding for training purpose.\n",
    "- `imutable_cols` for imutable values in the data."
   ]
  },
  {
   "cell_type": "code",
   "execution_count": null,
   "id": "6c53d3f7",
   "metadata": {},
   "outputs": [
    {
     "ename": "ModuleNotFoundError",
     "evalue": "No module named 'pandas'",
     "output_type": "error",
     "traceback": [
      "\u001B[0;31m---------------------------------------------------------------------------\u001B[0m",
      "\u001B[0;31mModuleNotFoundError\u001B[0m                       Traceback (most recent call last)",
      "Input \u001B[0;32mIn [7]\u001B[0m, in \u001B[0;36m<cell line: 3>\u001B[0;34m()\u001B[0m\n\u001B[1;32m      1\u001B[0m \u001B[38;5;28;01mimport\u001B[39;00m \u001B[38;5;21;01msys\u001B[39;00m\n\u001B[1;32m      2\u001B[0m sys\u001B[38;5;241m.\u001B[39mpath\u001B[38;5;241m.\u001B[39mappend(\u001B[38;5;124m\"\u001B[39m\u001B[38;5;124m..\u001B[39m\u001B[38;5;124m\"\u001B[39m)\n\u001B[0;32m----> 3\u001B[0m \u001B[38;5;28;01mfrom\u001B[39;00m \u001B[38;5;21;01mcfnet\u001B[39;00m\u001B[38;5;21;01m.\u001B[39;00m\u001B[38;5;21;01mimport_essentials\u001B[39;00m \u001B[38;5;28;01mimport\u001B[39;00m \u001B[38;5;241m*\u001B[39m\n\u001B[1;32m      5\u001B[0m data_configs \u001B[38;5;241m=\u001B[39m {\n\u001B[1;32m      6\u001B[0m     \u001B[38;5;124m\"\u001B[39m\u001B[38;5;124mdata_dir\u001B[39m\u001B[38;5;124m\"\u001B[39m: \u001B[38;5;124m\"\u001B[39m\u001B[38;5;124massets/data/s_adult.csv\u001B[39m\u001B[38;5;124m\"\u001B[39m,\n\u001B[1;32m      7\u001B[0m     \u001B[38;5;124m\"\u001B[39m\u001B[38;5;124mdata_name\u001B[39m\u001B[38;5;124m\"\u001B[39m: \u001B[38;5;124m\"\u001B[39m\u001B[38;5;124madult\u001B[39m\u001B[38;5;124m\"\u001B[39m,\n\u001B[0;32m   (...)\u001B[0m\n\u001B[1;32m     11\u001B[0m     \u001B[38;5;124m\"\u001B[39m\u001B[38;5;124mimutable_cols\u001B[39m\u001B[38;5;124m\"\u001B[39m: [\u001B[38;5;124m\"\u001B[39m\u001B[38;5;124mrace\u001B[39m\u001B[38;5;124m\"\u001B[39m,\u001B[38;5;124m\"\u001B[39m\u001B[38;5;124mgender\u001B[39m\u001B[38;5;124m\"\u001B[39m]\n\u001B[1;32m     12\u001B[0m }\n",
      "File \u001B[0;32m~/PycharmProjects/cfnet/cfnet/import_essentials.py:3\u001B[0m, in \u001B[0;36m<module>\u001B[0;34m\u001B[0m\n\u001B[1;32m      1\u001B[0m \u001B[38;5;66;03m# Cell\u001B[39;00m\n\u001B[1;32m      2\u001B[0m \u001B[38;5;66;03m# https://github.com/fastai/fastai/blob/master/fastai/imports.py\u001B[39;00m\n\u001B[0;32m----> 3\u001B[0m \u001B[38;5;28;01mimport\u001B[39;00m \u001B[38;5;21;01mmatplotlib\u001B[39;00m\u001B[38;5;21;01m.\u001B[39;00m\u001B[38;5;21;01mpyplot\u001B[39;00m \u001B[38;5;28;01mas\u001B[39;00m \u001B[38;5;21;01mplt\u001B[39;00m\u001B[38;5;241m,\u001B[39m\u001B[38;5;21;01mnumpy\u001B[39;00m \u001B[38;5;28;01mas\u001B[39;00m \u001B[38;5;21;01mnp\u001B[39;00m\u001B[38;5;241m,\u001B[39m\u001B[38;5;21;01mpandas\u001B[39;00m \u001B[38;5;28;01mas\u001B[39;00m \u001B[38;5;21;01mpd\u001B[39;00m\u001B[38;5;241m,\u001B[39m\u001B[38;5;21;01mscipy\u001B[39;00m\n\u001B[1;32m      4\u001B[0m \u001B[38;5;28;01mfrom\u001B[39;00m \u001B[38;5;21;01mtyping\u001B[39;00m \u001B[38;5;28;01mimport\u001B[39;00m Union,Optional,Dict,List,Tuple,Sequence,Mapping,Callable,Iterable,Any,NamedTuple\n\u001B[1;32m      5\u001B[0m \u001B[38;5;28;01mimport\u001B[39;00m \u001B[38;5;21;01mio\u001B[39;00m\u001B[38;5;241m,\u001B[39m\u001B[38;5;21;01moperator\u001B[39;00m\u001B[38;5;241m,\u001B[39m\u001B[38;5;21;01msys\u001B[39;00m\u001B[38;5;241m,\u001B[39m\u001B[38;5;21;01mos\u001B[39;00m\u001B[38;5;241m,\u001B[39m\u001B[38;5;21;01mre\u001B[39;00m\u001B[38;5;241m,\u001B[39m\u001B[38;5;21;01mmimetypes\u001B[39;00m\u001B[38;5;241m,\u001B[39m\u001B[38;5;21;01mcsv\u001B[39;00m\u001B[38;5;241m,\u001B[39m\u001B[38;5;21;01mitertools\u001B[39;00m\u001B[38;5;241m,\u001B[39m\u001B[38;5;21;01mjson\u001B[39;00m\u001B[38;5;241m,\u001B[39m\u001B[38;5;21;01mshutil\u001B[39;00m\u001B[38;5;241m,\u001B[39m\u001B[38;5;21;01mglob\u001B[39;00m\u001B[38;5;241m,\u001B[39m\u001B[38;5;21;01mpickle\u001B[39;00m\u001B[38;5;241m,\u001B[39m\u001B[38;5;21;01mtarfile\u001B[39;00m\u001B[38;5;241m,\u001B[39m\u001B[38;5;21;01mcollections\u001B[39;00m\n",
      "\u001B[0;31mModuleNotFoundError\u001B[0m: No module named 'pandas'"
     ]
    }
   ],
   "source": [
    "from cfnet.import_essentials import *\n",
    "\n",
    "data_configs = {\n",
    "    \"data_dir\": \"assets/data/s_adult.csv\",\n",
    "    \"data_name\": \"adult\",\n",
    "    \"batch_size\": 256,\n",
    "    \"continous_cols\": [\"age\",\"hours_per_week\"],\n",
    "    \"discret_cols\": [\"workclass\",\"education\",\"marital_status\",\"occupation\",\"race\",\"gender\"],\n",
    "    \"imutable_cols\": [\"race\",\"gender\"]\n",
    "}\n"
   ]
  },
  {
   "cell_type": "markdown",
   "id": "27264c46",
   "metadata": {},
   "source": [
    "Then we pass `data_configs` to `TabularDataModule` to load the data"
   ]
  },
  {
   "cell_type": "code",
   "execution_count": null,
   "id": "f55fb3bd",
   "metadata": {},
   "outputs": [],
   "source": [
    "from cfnet.datasets import TabularDataModule\n",
    "\n",
    "dm = TabularDataModule(data_configs)"
   ]
  },
  {
   "cell_type": "markdown",
   "id": "a88d0645",
   "metadata": {},
   "source": [
    "## 2. Train the Machine Learning Classifier\n",
    "Now we have the data loaded, we need to specify the classifier.\n",
    "1. Specify the machine learning model configurations `m_configs`. `m_configs` has 3 atributes:\n",
    "- `lr` is learning rate\n",
    "- `sizes` shape of the machine learning model\n",
    "- `dropout_rate` is dropout rate"
   ]
  },
  {
   "cell_type": "code",
   "execution_count": null,
   "id": "0db4d409",
   "metadata": {},
   "outputs": [],
   "source": [
    "m_configs = {\n",
    "    'lr': 0.003,\n",
    "    \"sizes\": [50, 10, 50],\n",
    "    \"dropout_rate\": 0.3\n",
    "}"
   ]
  },
  {
   "cell_type": "markdown",
   "id": "50896230",
   "metadata": {},
   "source": [
    "2. Pass `m_configs` to our classification model."
   ]
  },
  {
   "cell_type": "code",
   "execution_count": null,
   "id": "fa61b402",
   "metadata": {},
   "outputs": [],
   "source": [
    "from cfnet.training_module import PredictiveTrainingModule\n",
    "\n",
    "training_module = PredictiveTrainingModule(m_configs)"
   ]
  },
  {
   "cell_type": "markdown",
   "id": "c55d6a1c",
   "metadata": {},
   "source": []
  },
  {
   "cell_type": "code",
   "execution_count": null,
   "id": "595fa0bb",
   "metadata": {},
   "outputs": [],
   "source": [
    "t_configs = {\n",
    "    'n_epochs': 10,\n",
    "    'monitor_metrics': 'val/val_loss',\n",
    "    'logger_name': 'pred'\n",
    "}"
   ]
  },
  {
   "cell_type": "markdown",
   "id": "89b2013e",
   "metadata": {},
   "source": [
    "4. Pass `training_module`, `dm`, and `t_configs` we have specified above to train the model."
   ]
  },
  {
   "cell_type": "code",
   "execution_count": null,
   "id": "a9dd8145",
   "metadata": {},
   "outputs": [],
   "source": [
    "from cfnet.train import train_model\n",
    "\n",
    "params, opt_state = train_model(\n",
    "    training_module, dm, t_configs\n",
    ")"
   ]
  },
  {
   "cell_type": "markdown",
   "id": "59b03845",
   "metadata": {},
   "source": [
    "Here we use `params` to store the parameters after training. "
   ]
  },
  {
   "cell_type": "markdown",
   "id": "4d1f2129",
   "metadata": {},
   "source": [
    "## 3. Generate Counterfactual Examples\n"
   ]
  },
  {
   "cell_type": "markdown",
   "id": "9bb7dffb",
   "metadata": {},
   "source": []
  },
  {
   "cell_type": "code",
   "execution_count": null,
   "id": "53581cb9",
   "metadata": {},
   "outputs": [],
   "source": [
    "pred_fn = lambda x: training_module.forward(\n",
    "    params, random.PRNGKey(0), x, is_training=False)"
   ]
  },
  {
   "cell_type": "markdown",
   "metadata": {},
   "source": [
    "2. Steup the counterfactual configurations. `n_steps` and `lr` are the hyperparameters."
   ]
  },
  {
   "cell_type": "code",
   "execution_count": null,
   "metadata": {},
   "outputs": [],
   "source": [
    "cf_configs = {\n",
    "    'n_steps': 1000,\n",
    "    'lr': 0.001\n",
    "}"
   ]
  },
  {
   "cell_type": "markdown",
   "id": "8fdd2aee",
   "metadata": {},
   "source": [
    "3. Setup the counterfactual method. Here we use `VanillaCF`."
   ]
  },
  {
   "cell_type": "code",
   "execution_count": null,
   "id": "075f0c9b",
   "metadata": {},
   "outputs": [
    {
     "ename": "ModuleNotFoundError",
     "evalue": "No module named 'pandas'",
     "output_type": "error",
     "traceback": [
      "\u001B[0;31m---------------------------------------------------------------------------\u001B[0m",
      "\u001B[0;31mModuleNotFoundError\u001B[0m                       Traceback (most recent call last)",
      "Input \u001B[0;32mIn [11]\u001B[0m, in \u001B[0;36m<cell line: 1>\u001B[0;34m()\u001B[0m\n\u001B[0;32m----> 1\u001B[0m \u001B[38;5;28;01mfrom\u001B[39;00m \u001B[38;5;21;01mcfnet\u001B[39;00m\u001B[38;5;21;01m.\u001B[39;00m\u001B[38;5;21;01mmethods\u001B[39;00m \u001B[38;5;28;01mimport\u001B[39;00m VanillaCF\n\u001B[1;32m      3\u001B[0m cf_exp \u001B[38;5;241m=\u001B[39m VanillaCF(cf_configs)\n",
      "File \u001B[0;32m~/PycharmProjects/cfnet/cfnet/methods/__init__.py:1\u001B[0m, in \u001B[0;36m<module>\u001B[0;34m\u001B[0m\n\u001B[0;32m----> 1\u001B[0m \u001B[38;5;28;01mfrom\u001B[39;00m \u001B[38;5;21;01m.\u001B[39;00m\u001B[38;5;21;01mvanilla\u001B[39;00m \u001B[38;5;28;01mimport\u001B[39;00m VanillaCF, VanillaCFConfig\n\u001B[1;32m      2\u001B[0m \u001B[38;5;28;01mfrom\u001B[39;00m \u001B[38;5;21;01m.\u001B[39;00m\u001B[38;5;21;01mdiverse\u001B[39;00m \u001B[38;5;28;01mimport\u001B[39;00m DiverseCFConfig, DiverseCF\n\u001B[1;32m      3\u001B[0m \u001B[38;5;28;01mfrom\u001B[39;00m \u001B[38;5;21;01m.\u001B[39;00m\u001B[38;5;21;01mproto\u001B[39;00m \u001B[38;5;28;01mimport\u001B[39;00m ProtoCFConfig, ProtoCF\n",
      "File \u001B[0;32m~/PycharmProjects/cfnet/cfnet/methods/vanilla.py:7\u001B[0m, in \u001B[0;36m<module>\u001B[0;34m\u001B[0m\n\u001B[1;32m      4\u001B[0m __all__ \u001B[38;5;241m=\u001B[39m [\u001B[38;5;124m'\u001B[39m\u001B[38;5;124mVanillaCFConfig\u001B[39m\u001B[38;5;124m'\u001B[39m, \u001B[38;5;124m'\u001B[39m\u001B[38;5;124mVanillaCF\u001B[39m\u001B[38;5;124m'\u001B[39m]\n\u001B[1;32m      6\u001B[0m \u001B[38;5;66;03m# %% ../../nbs/05_methods.vanilla.ipynb 3\u001B[39;00m\n\u001B[0;32m----> 7\u001B[0m \u001B[38;5;28;01mfrom\u001B[39;00m \u001B[38;5;21;01m.\u001B[39;00m\u001B[38;5;21;01m.\u001B[39;00m\u001B[38;5;21;01mimport_essentials\u001B[39;00m \u001B[38;5;28;01mimport\u001B[39;00m \u001B[38;5;241m*\u001B[39m\n\u001B[1;32m      8\u001B[0m \u001B[38;5;28;01mfrom\u001B[39;00m \u001B[38;5;21;01m.\u001B[39;00m\u001B[38;5;21;01m.\u001B[39;00m\u001B[38;5;21;01minterfaces\u001B[39;00m \u001B[38;5;28;01mimport\u001B[39;00m BaseCFExplanationModule, LocalCFExplanationModule\n\u001B[1;32m      9\u001B[0m \u001B[38;5;28;01mfrom\u001B[39;00m \u001B[38;5;21;01m.\u001B[39;00m\u001B[38;5;21;01m.\u001B[39;00m\u001B[38;5;21;01mdatasets\u001B[39;00m \u001B[38;5;28;01mimport\u001B[39;00m TabularDataModule\n",
      "File \u001B[0;32m~/PycharmProjects/cfnet/cfnet/import_essentials.py:3\u001B[0m, in \u001B[0;36m<module>\u001B[0;34m\u001B[0m\n\u001B[1;32m      1\u001B[0m \u001B[38;5;66;03m# Cell\u001B[39;00m\n\u001B[1;32m      2\u001B[0m \u001B[38;5;66;03m# https://github.com/fastai/fastai/blob/master/fastai/imports.py\u001B[39;00m\n\u001B[0;32m----> 3\u001B[0m \u001B[38;5;28;01mimport\u001B[39;00m \u001B[38;5;21;01mmatplotlib\u001B[39;00m\u001B[38;5;21;01m.\u001B[39;00m\u001B[38;5;21;01mpyplot\u001B[39;00m \u001B[38;5;28;01mas\u001B[39;00m \u001B[38;5;21;01mplt\u001B[39;00m\u001B[38;5;241m,\u001B[39m\u001B[38;5;21;01mnumpy\u001B[39;00m \u001B[38;5;28;01mas\u001B[39;00m \u001B[38;5;21;01mnp\u001B[39;00m\u001B[38;5;241m,\u001B[39m\u001B[38;5;21;01mpandas\u001B[39;00m \u001B[38;5;28;01mas\u001B[39;00m \u001B[38;5;21;01mpd\u001B[39;00m\u001B[38;5;241m,\u001B[39m\u001B[38;5;21;01mscipy\u001B[39;00m\n\u001B[1;32m      4\u001B[0m \u001B[38;5;28;01mfrom\u001B[39;00m \u001B[38;5;21;01mtyping\u001B[39;00m \u001B[38;5;28;01mimport\u001B[39;00m Union,Optional,Dict,List,Tuple,Sequence,Mapping,Callable,Iterable,Any,NamedTuple\n\u001B[1;32m      5\u001B[0m \u001B[38;5;28;01mimport\u001B[39;00m \u001B[38;5;21;01mio\u001B[39;00m\u001B[38;5;241m,\u001B[39m\u001B[38;5;21;01moperator\u001B[39;00m\u001B[38;5;241m,\u001B[39m\u001B[38;5;21;01msys\u001B[39;00m\u001B[38;5;241m,\u001B[39m\u001B[38;5;21;01mos\u001B[39;00m\u001B[38;5;241m,\u001B[39m\u001B[38;5;21;01mre\u001B[39;00m\u001B[38;5;241m,\u001B[39m\u001B[38;5;21;01mmimetypes\u001B[39;00m\u001B[38;5;241m,\u001B[39m\u001B[38;5;21;01mcsv\u001B[39;00m\u001B[38;5;241m,\u001B[39m\u001B[38;5;21;01mitertools\u001B[39;00m\u001B[38;5;241m,\u001B[39m\u001B[38;5;21;01mjson\u001B[39;00m\u001B[38;5;241m,\u001B[39m\u001B[38;5;21;01mshutil\u001B[39;00m\u001B[38;5;241m,\u001B[39m\u001B[38;5;21;01mglob\u001B[39;00m\u001B[38;5;241m,\u001B[39m\u001B[38;5;21;01mpickle\u001B[39;00m\u001B[38;5;241m,\u001B[39m\u001B[38;5;21;01mtarfile\u001B[39;00m\u001B[38;5;241m,\u001B[39m\u001B[38;5;21;01mcollections\u001B[39;00m\n",
      "\u001B[0;31mModuleNotFoundError\u001B[0m: No module named 'pandas'"
     ]
    }
   ],
   "source": [
    "from cfnet.methods import VanillaCF\n",
    "\n",
    "cf_exp = VanillaCF(cf_configs)"
   ]
  },
  {
   "cell_type": "markdown",
   "metadata": {},
   "source": [
    "4. Generate counterfactual examples."
   ]
  },
  {
   "cell_type": "code",
   "execution_count": null,
   "id": "bc711d94",
   "metadata": {},
   "outputs": [
    {
     "ename": "ModuleNotFoundError",
     "evalue": "No module named 'matplotlib'",
     "output_type": "error",
     "traceback": [
      "\u001B[0;31m---------------------------------------------------------------------------\u001B[0m",
      "\u001B[0;31mModuleNotFoundError\u001B[0m                       Traceback (most recent call last)",
      "Input \u001B[0;32mIn [2]\u001B[0m, in \u001B[0;36m<cell line: 1>\u001B[0;34m()\u001B[0m\n\u001B[0;32m----> 1\u001B[0m \u001B[38;5;28;01mfrom\u001B[39;00m \u001B[38;5;21;01mcfnet\u001B[39;00m\u001B[38;5;21;01m.\u001B[39;00m\u001B[38;5;21;01mevaluate\u001B[39;00m \u001B[38;5;28;01mimport\u001B[39;00m generate_cf_results_local_exp\n\u001B[1;32m      3\u001B[0m cf_results \u001B[38;5;241m=\u001B[39m generate_cf_results_local_exp(cf_exp, dm, pred_fn)\n\u001B[1;32m      5\u001B[0m display(cf_results\u001B[38;5;241m.\u001B[39mX)\n",
      "File \u001B[0;32m~/PycharmProjects/cfnet/cfnet/evaluate.py:10\u001B[0m, in \u001B[0;36m<module>\u001B[0;34m\u001B[0m\n\u001B[1;32m      4\u001B[0m __all__ \u001B[38;5;241m=\u001B[39m [\u001B[38;5;124m'\u001B[39m\u001B[38;5;124mmetrics2fn\u001B[39m\u001B[38;5;124m'\u001B[39m, \u001B[38;5;124m'\u001B[39m\u001B[38;5;124mDEFAULT_METRICS\u001B[39m\u001B[38;5;124m'\u001B[39m, \u001B[38;5;124m'\u001B[39m\u001B[38;5;124mCFExplanationResults\u001B[39m\u001B[38;5;124m'\u001B[39m, \u001B[38;5;124m'\u001B[39m\u001B[38;5;124mgenerate_cf_results\u001B[39m\u001B[38;5;124m'\u001B[39m, \u001B[38;5;124m'\u001B[39m\u001B[38;5;124mgenerate_cf_results_local_exp\u001B[39m\u001B[38;5;124m'\u001B[39m,\n\u001B[1;32m      5\u001B[0m            \u001B[38;5;124m'\u001B[39m\u001B[38;5;124mgenerate_cf_results_cfnet\u001B[39m\u001B[38;5;124m'\u001B[39m, \u001B[38;5;124m'\u001B[39m\u001B[38;5;124mcompute_predictive_acc\u001B[39m\u001B[38;5;124m'\u001B[39m, \u001B[38;5;124m'\u001B[39m\u001B[38;5;124mcompute_validity\u001B[39m\u001B[38;5;124m'\u001B[39m, \u001B[38;5;124m'\u001B[39m\u001B[38;5;124mcompute_proximity\u001B[39m\u001B[38;5;124m'\u001B[39m,\n\u001B[1;32m      6\u001B[0m            \u001B[38;5;124m'\u001B[39m\u001B[38;5;124mcompute_sparsity\u001B[39m\u001B[38;5;124m'\u001B[39m, \u001B[38;5;124m'\u001B[39m\u001B[38;5;124mcompute_manifold_dist\u001B[39m\u001B[38;5;124m'\u001B[39m, \u001B[38;5;124m'\u001B[39m\u001B[38;5;124mget_runtime\u001B[39m\u001B[38;5;124m'\u001B[39m, \u001B[38;5;124m'\u001B[39m\u001B[38;5;124mcompute_so_validity\u001B[39m\u001B[38;5;124m'\u001B[39m, \u001B[38;5;124m'\u001B[39m\u001B[38;5;124mcompute_so_proximity\u001B[39m\u001B[38;5;124m'\u001B[39m,\n\u001B[1;32m      7\u001B[0m            \u001B[38;5;124m'\u001B[39m\u001B[38;5;124mcompute_so_sparsity\u001B[39m\u001B[38;5;124m'\u001B[39m, \u001B[38;5;124m'\u001B[39m\u001B[38;5;124mevaluate_cfs\u001B[39m\u001B[38;5;124m'\u001B[39m, \u001B[38;5;124m'\u001B[39m\u001B[38;5;124mbenchmark_cfs\u001B[39m\u001B[38;5;124m'\u001B[39m]\n\u001B[1;32m      9\u001B[0m \u001B[38;5;66;03m# %% ../nbs/06_evaluate.ipynb 3\u001B[39;00m\n\u001B[0;32m---> 10\u001B[0m \u001B[38;5;28;01mfrom\u001B[39;00m \u001B[38;5;21;01m.\u001B[39;00m\u001B[38;5;21;01mimport_essentials\u001B[39;00m \u001B[38;5;28;01mimport\u001B[39;00m \u001B[38;5;241m*\u001B[39m\n\u001B[1;32m     11\u001B[0m \u001B[38;5;28;01mfrom\u001B[39;00m \u001B[38;5;21;01m.\u001B[39;00m\u001B[38;5;21;01mtrain\u001B[39;00m \u001B[38;5;28;01mimport\u001B[39;00m train_model, TensorboardLogger\n\u001B[1;32m     12\u001B[0m \u001B[38;5;28;01mfrom\u001B[39;00m \u001B[38;5;21;01m.\u001B[39;00m\u001B[38;5;21;01mdatasets\u001B[39;00m \u001B[38;5;28;01mimport\u001B[39;00m TabularDataModule\n",
      "File \u001B[0;32m~/PycharmProjects/cfnet/cfnet/import_essentials.py:3\u001B[0m, in \u001B[0;36m<module>\u001B[0;34m\u001B[0m\n\u001B[1;32m      1\u001B[0m \u001B[38;5;66;03m# Cell\u001B[39;00m\n\u001B[1;32m      2\u001B[0m \u001B[38;5;66;03m# https://github.com/fastai/fastai/blob/master/fastai/imports.py\u001B[39;00m\n\u001B[0;32m----> 3\u001B[0m \u001B[38;5;28;01mimport\u001B[39;00m \u001B[38;5;21;01mmatplotlib\u001B[39;00m\u001B[38;5;21;01m.\u001B[39;00m\u001B[38;5;21;01mpyplot\u001B[39;00m \u001B[38;5;28;01mas\u001B[39;00m \u001B[38;5;21;01mplt\u001B[39;00m\u001B[38;5;241m,\u001B[39m\u001B[38;5;21;01mnumpy\u001B[39;00m \u001B[38;5;28;01mas\u001B[39;00m \u001B[38;5;21;01mnp\u001B[39;00m\u001B[38;5;241m,\u001B[39m\u001B[38;5;21;01mpandas\u001B[39;00m \u001B[38;5;28;01mas\u001B[39;00m \u001B[38;5;21;01mpd\u001B[39;00m\u001B[38;5;241m,\u001B[39m\u001B[38;5;21;01mscipy\u001B[39;00m\n\u001B[1;32m      4\u001B[0m \u001B[38;5;28;01mfrom\u001B[39;00m \u001B[38;5;21;01mtyping\u001B[39;00m \u001B[38;5;28;01mimport\u001B[39;00m Union,Optional,Dict,List,Tuple,Sequence,Mapping,Callable,Iterable,Any,NamedTuple\n\u001B[1;32m      5\u001B[0m \u001B[38;5;28;01mimport\u001B[39;00m \u001B[38;5;21;01mio\u001B[39;00m\u001B[38;5;241m,\u001B[39m\u001B[38;5;21;01moperator\u001B[39;00m\u001B[38;5;241m,\u001B[39m\u001B[38;5;21;01msys\u001B[39;00m\u001B[38;5;241m,\u001B[39m\u001B[38;5;21;01mos\u001B[39;00m\u001B[38;5;241m,\u001B[39m\u001B[38;5;21;01mre\u001B[39;00m\u001B[38;5;241m,\u001B[39m\u001B[38;5;21;01mmimetypes\u001B[39;00m\u001B[38;5;241m,\u001B[39m\u001B[38;5;21;01mcsv\u001B[39;00m\u001B[38;5;241m,\u001B[39m\u001B[38;5;21;01mitertools\u001B[39;00m\u001B[38;5;241m,\u001B[39m\u001B[38;5;21;01mjson\u001B[39;00m\u001B[38;5;241m,\u001B[39m\u001B[38;5;21;01mshutil\u001B[39;00m\u001B[38;5;241m,\u001B[39m\u001B[38;5;21;01mglob\u001B[39;00m\u001B[38;5;241m,\u001B[39m\u001B[38;5;21;01mpickle\u001B[39;00m\u001B[38;5;241m,\u001B[39m\u001B[38;5;21;01mtarfile\u001B[39;00m\u001B[38;5;241m,\u001B[39m\u001B[38;5;21;01mcollections\u001B[39;00m\n",
      "\u001B[0;31mModuleNotFoundError\u001B[0m: No module named 'matplotlib'"
     ]
    }
   ],
   "source": [
    "from cfnet.evaluate import generate_cf_results_local_exp\n",
    "\n",
    "cf_results = generate_cf_results_local_exp(cf_exp, dm, pred_fn)\n",
    "\n",
    "display(cf_results.X)"
   ]
  },
  {
   "cell_type": "markdown",
   "id": "7b704058",
   "metadata": {},
   "source": [
    "## 4. Benchmark the Counterfactual Method"
   ]
  },
  {
   "cell_type": "markdown",
   "metadata": {},
   "source": [
    "After we obtain the counterfactual results, we can use  `benchmark_cfs` to evaluate the accuracy, validity, and proximity of the counterfactual example."
   ]
  },
  {
   "cell_type": "code",
   "execution_count": null,
   "id": "220009e4",
   "metadata": {},
   "outputs": [
    {
     "ename": "ModuleNotFoundError",
     "evalue": "No module named 'matplotlib'",
     "output_type": "error",
     "traceback": [
      "\u001B[0;31m---------------------------------------------------------------------------\u001B[0m",
      "\u001B[0;31mModuleNotFoundError\u001B[0m                       Traceback (most recent call last)",
      "Input \u001B[0;32mIn [3]\u001B[0m, in \u001B[0;36m<cell line: 1>\u001B[0;34m()\u001B[0m\n\u001B[0;32m----> 1\u001B[0m \u001B[38;5;28;01mfrom\u001B[39;00m \u001B[38;5;21;01mcfnet\u001B[39;00m\u001B[38;5;21;01m.\u001B[39;00m\u001B[38;5;21;01mevaluate\u001B[39;00m \u001B[38;5;28;01mimport\u001B[39;00m benchmark_cfs\n\u001B[1;32m      3\u001B[0m benchmark_cfs([cf_results])\n",
      "File \u001B[0;32m~/PycharmProjects/cfnet/cfnet/evaluate.py:10\u001B[0m, in \u001B[0;36m<module>\u001B[0;34m\u001B[0m\n\u001B[1;32m      4\u001B[0m __all__ \u001B[38;5;241m=\u001B[39m [\u001B[38;5;124m'\u001B[39m\u001B[38;5;124mmetrics2fn\u001B[39m\u001B[38;5;124m'\u001B[39m, \u001B[38;5;124m'\u001B[39m\u001B[38;5;124mDEFAULT_METRICS\u001B[39m\u001B[38;5;124m'\u001B[39m, \u001B[38;5;124m'\u001B[39m\u001B[38;5;124mCFExplanationResults\u001B[39m\u001B[38;5;124m'\u001B[39m, \u001B[38;5;124m'\u001B[39m\u001B[38;5;124mgenerate_cf_results\u001B[39m\u001B[38;5;124m'\u001B[39m, \u001B[38;5;124m'\u001B[39m\u001B[38;5;124mgenerate_cf_results_local_exp\u001B[39m\u001B[38;5;124m'\u001B[39m,\n\u001B[1;32m      5\u001B[0m            \u001B[38;5;124m'\u001B[39m\u001B[38;5;124mgenerate_cf_results_cfnet\u001B[39m\u001B[38;5;124m'\u001B[39m, \u001B[38;5;124m'\u001B[39m\u001B[38;5;124mcompute_predictive_acc\u001B[39m\u001B[38;5;124m'\u001B[39m, \u001B[38;5;124m'\u001B[39m\u001B[38;5;124mcompute_validity\u001B[39m\u001B[38;5;124m'\u001B[39m, \u001B[38;5;124m'\u001B[39m\u001B[38;5;124mcompute_proximity\u001B[39m\u001B[38;5;124m'\u001B[39m,\n\u001B[1;32m      6\u001B[0m            \u001B[38;5;124m'\u001B[39m\u001B[38;5;124mcompute_sparsity\u001B[39m\u001B[38;5;124m'\u001B[39m, \u001B[38;5;124m'\u001B[39m\u001B[38;5;124mcompute_manifold_dist\u001B[39m\u001B[38;5;124m'\u001B[39m, \u001B[38;5;124m'\u001B[39m\u001B[38;5;124mget_runtime\u001B[39m\u001B[38;5;124m'\u001B[39m, \u001B[38;5;124m'\u001B[39m\u001B[38;5;124mcompute_so_validity\u001B[39m\u001B[38;5;124m'\u001B[39m, \u001B[38;5;124m'\u001B[39m\u001B[38;5;124mcompute_so_proximity\u001B[39m\u001B[38;5;124m'\u001B[39m,\n\u001B[1;32m      7\u001B[0m            \u001B[38;5;124m'\u001B[39m\u001B[38;5;124mcompute_so_sparsity\u001B[39m\u001B[38;5;124m'\u001B[39m, \u001B[38;5;124m'\u001B[39m\u001B[38;5;124mevaluate_cfs\u001B[39m\u001B[38;5;124m'\u001B[39m, \u001B[38;5;124m'\u001B[39m\u001B[38;5;124mbenchmark_cfs\u001B[39m\u001B[38;5;124m'\u001B[39m]\n\u001B[1;32m      9\u001B[0m \u001B[38;5;66;03m# %% ../nbs/06_evaluate.ipynb 3\u001B[39;00m\n\u001B[0;32m---> 10\u001B[0m \u001B[38;5;28;01mfrom\u001B[39;00m \u001B[38;5;21;01m.\u001B[39;00m\u001B[38;5;21;01mimport_essentials\u001B[39;00m \u001B[38;5;28;01mimport\u001B[39;00m \u001B[38;5;241m*\u001B[39m\n\u001B[1;32m     11\u001B[0m \u001B[38;5;28;01mfrom\u001B[39;00m \u001B[38;5;21;01m.\u001B[39;00m\u001B[38;5;21;01mtrain\u001B[39;00m \u001B[38;5;28;01mimport\u001B[39;00m train_model, TensorboardLogger\n\u001B[1;32m     12\u001B[0m \u001B[38;5;28;01mfrom\u001B[39;00m \u001B[38;5;21;01m.\u001B[39;00m\u001B[38;5;21;01mdatasets\u001B[39;00m \u001B[38;5;28;01mimport\u001B[39;00m TabularDataModule\n",
      "File \u001B[0;32m~/PycharmProjects/cfnet/cfnet/import_essentials.py:3\u001B[0m, in \u001B[0;36m<module>\u001B[0;34m\u001B[0m\n\u001B[1;32m      1\u001B[0m \u001B[38;5;66;03m# Cell\u001B[39;00m\n\u001B[1;32m      2\u001B[0m \u001B[38;5;66;03m# https://github.com/fastai/fastai/blob/master/fastai/imports.py\u001B[39;00m\n\u001B[0;32m----> 3\u001B[0m \u001B[38;5;28;01mimport\u001B[39;00m \u001B[38;5;21;01mmatplotlib\u001B[39;00m\u001B[38;5;21;01m.\u001B[39;00m\u001B[38;5;21;01mpyplot\u001B[39;00m \u001B[38;5;28;01mas\u001B[39;00m \u001B[38;5;21;01mplt\u001B[39;00m\u001B[38;5;241m,\u001B[39m\u001B[38;5;21;01mnumpy\u001B[39;00m \u001B[38;5;28;01mas\u001B[39;00m \u001B[38;5;21;01mnp\u001B[39;00m\u001B[38;5;241m,\u001B[39m\u001B[38;5;21;01mpandas\u001B[39;00m \u001B[38;5;28;01mas\u001B[39;00m \u001B[38;5;21;01mpd\u001B[39;00m\u001B[38;5;241m,\u001B[39m\u001B[38;5;21;01mscipy\u001B[39;00m\n\u001B[1;32m      4\u001B[0m \u001B[38;5;28;01mfrom\u001B[39;00m \u001B[38;5;21;01mtyping\u001B[39;00m \u001B[38;5;28;01mimport\u001B[39;00m Union,Optional,Dict,List,Tuple,Sequence,Mapping,Callable,Iterable,Any,NamedTuple\n\u001B[1;32m      5\u001B[0m \u001B[38;5;28;01mimport\u001B[39;00m \u001B[38;5;21;01mio\u001B[39;00m\u001B[38;5;241m,\u001B[39m\u001B[38;5;21;01moperator\u001B[39;00m\u001B[38;5;241m,\u001B[39m\u001B[38;5;21;01msys\u001B[39;00m\u001B[38;5;241m,\u001B[39m\u001B[38;5;21;01mos\u001B[39;00m\u001B[38;5;241m,\u001B[39m\u001B[38;5;21;01mre\u001B[39;00m\u001B[38;5;241m,\u001B[39m\u001B[38;5;21;01mmimetypes\u001B[39;00m\u001B[38;5;241m,\u001B[39m\u001B[38;5;21;01mcsv\u001B[39;00m\u001B[38;5;241m,\u001B[39m\u001B[38;5;21;01mitertools\u001B[39;00m\u001B[38;5;241m,\u001B[39m\u001B[38;5;21;01mjson\u001B[39;00m\u001B[38;5;241m,\u001B[39m\u001B[38;5;21;01mshutil\u001B[39;00m\u001B[38;5;241m,\u001B[39m\u001B[38;5;21;01mglob\u001B[39;00m\u001B[38;5;241m,\u001B[39m\u001B[38;5;21;01mpickle\u001B[39;00m\u001B[38;5;241m,\u001B[39m\u001B[38;5;21;01mtarfile\u001B[39;00m\u001B[38;5;241m,\u001B[39m\u001B[38;5;21;01mcollections\u001B[39;00m\n",
      "\u001B[0;31mModuleNotFoundError\u001B[0m: No module named 'matplotlib'"
     ]
    }
   ],
   "source": [
    "from cfnet.evaluate import benchmark_cfs\n",
    "\n",
    "benchmark_cfs([cf_results])"
   ]
  },
  {
   "cell_type": "code",
   "execution_count": null,
   "metadata": {},
   "outputs": [],
   "source": []
  }
 ],
 "metadata": {
  "kernelspec": {
   "display_name": "Python 3.8.9 64-bit",
   "language": "python",
   "name": "python3"
  }
 },
 "nbformat": 4,
 "nbformat_minor": 5
}
