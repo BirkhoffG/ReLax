{
 "cells": [
  {
   "cell_type": "markdown",
   "id": "e5562079",
   "metadata": {},
   "source": [
    "# How to use CFNet\n",
    "## 1. Import Data\n",
    "To import data, we use `TabularDataModule` to load the data. First we setup the input `data_configs` for the module. `data_configs` has 6 attributes:\n",
    "- `data_dir` should be the directory of your data.\n",
    "- `data_name` is the name of your data.\n",
    "- `batch_size` is the batch size of your data.\n",
    "- `continous_cols` for continuous/numeric values in the data.\n",
    "- `discret_cols` for discret values in the data. It will be converted to one-hot encoding for training purpose.\n",
    "- `imutable_cols` for imutable values in the data."
   ]
  },
  {
   "cell_type": "code",
   "execution_count": null,
   "id": "6c53d3f7",
   "metadata": {},
   "outputs": [],
   "source": [
    "from cfnet.import_essentials import *\n",
    "\n",
    "data_configs = {\n",
    "    \"data_dir\": \"../assets/data/s_adult.csv\",\n",
    "    \"data_name\": \"adult\",\n",
    "    \"batch_size\": 256,\n",
    "    \"continous_cols\": [\"age\",\"hours_per_week\"],\n",
    "    \"discret_cols\": [\"workclass\",\"education\",\"marital_status\",\"occupation\",\"race\",\"gender\"],\n",
    "    \"imutable_cols\": [\"race\",\"gender\"]\n",
    "}\n"
   ]
  },
  {
   "cell_type": "markdown",
   "id": "27264c46",
   "metadata": {},
   "source": [
    "Then we pass `data_configs` to `TabularDataModule` to load the data"
   ]
  },
  {
   "cell_type": "code",
   "execution_count": null,
   "id": "f55fb3bd",
   "metadata": {},
   "outputs": [],
   "source": [
    "from cfnet.datasets import TabularDataModule\n",
    "\n",
    "dm = TabularDataModule(data_configs)"
   ]
  },
  {
   "cell_type": "markdown",
   "id": "a88d0645",
   "metadata": {},
   "source": [
    "## 2. Train the Machine Learning Classifier\n",
    "Now we have the data loaded, we need to specify the classifier.\n",
    "1. Specify the machine learning model configurations `m_configs`. `m_configs` has 3 atributes:\n",
    "- `lr` is learning rate\n",
    "- `sizes` shape of the machine learning model\n",
    "- `dropout_rate` is dropout rate"
   ]
  },
  {
   "cell_type": "code",
   "execution_count": null,
   "id": "0db4d409",
   "metadata": {},
   "outputs": [],
   "source": [
    "m_configs = {\n",
    "    'lr': 0.003,\n",
    "    \"sizes\": [50, 10, 50],\n",
    "    \"dropout_rate\": 0.3\n",
    "}"
   ]
  },
  {
   "cell_type": "markdown",
   "id": "50896230",
   "metadata": {},
   "source": [
    "2. Pass `m_configs` to our classification model."
   ]
  },
  {
   "cell_type": "code",
   "execution_count": null,
   "id": "fa61b402",
   "metadata": {},
   "outputs": [],
   "source": [
    "from cfnet.training_module import PredictiveTrainingModule\n",
    "\n",
    "training_module = PredictiveTrainingModule(m_configs)"
   ]
  },
  {
   "cell_type": "markdown",
   "id": "c55d6a1c",
   "metadata": {},
   "source": []
  },
  {
   "cell_type": "code",
   "execution_count": null,
   "id": "595fa0bb",
   "metadata": {},
   "outputs": [],
   "source": [
    "t_configs = {\n",
    "    'n_epochs': 10,\n",
    "    'monitor_metrics': 'val/val_loss',\n",
    "    'logger_name': 'pred'\n",
    "}"
   ]
  },
  {
   "cell_type": "markdown",
   "id": "89b2013e",
   "metadata": {},
   "source": [
    "4. Pass `training_module`, `dm`, and `t_configs` we have specified above to train the model."
   ]
  },
  {
   "cell_type": "code",
   "execution_count": null,
   "id": "a9dd8145",
   "metadata": {},
   "outputs": [
    {
     "name": "stderr",
     "output_type": "stream",
     "text": [
      "/Users/chuck/PycharmProjects/cfnet/cfnet/_ckpt_manager.py:14: FutureWarning: jax.tree_leaves is deprecated, and will be removed in a future release. Use jax.tree_util.tree_leaves instead.\n",
      "  for x in jax.tree_leaves(state):\n",
      "Epoch 9: 100%|██████████| 96/96 [00:00<00:00, 115.00batch/s, train/train_loss_1=0.0544]\n"
     ]
    }
   ],
   "source": [
    "from cfnet.train import train_model\n",
    "\n",
    "params, opt_state = train_model(\n",
    "    training_module, dm, t_configs\n",
    ")"
   ]
  },
  {
   "cell_type": "markdown",
   "id": "59b03845",
   "metadata": {},
   "source": [
    "Here we use `params` to store the parameters after training. "
   ]
  },
  {
   "cell_type": "markdown",
   "id": "4d1f2129",
   "metadata": {},
   "source": [
    "## 3. Generate Counterfactual Examples\n"
   ]
  },
  {
   "cell_type": "markdown",
   "id": "9bb7dffb",
   "metadata": {},
   "source": [
    "1. Setup the predict function from previous training."
   ]
  },
  {
   "cell_type": "code",
   "execution_count": null,
   "id": "53581cb9",
   "metadata": {},
   "outputs": [],
   "source": [
    "pred_fn = lambda x: training_module.forward(\n",
    "    params, random.PRNGKey(0), x, is_training=False)"
   ]
  },
  {
   "cell_type": "markdown",
   "metadata": {},
   "source": [
    "2. Setup the counterfactual configurations. `n_steps` and `lr` are the hyperparameters."
   ]
  },
  {
   "cell_type": "code",
   "execution_count": null,
   "metadata": {},
   "outputs": [],
   "source": [
    "cf_configs = {\n",
    "    'n_steps': 1000,\n",
    "    'lr': 0.001\n",
    "}"
   ]
  },
  {
   "cell_type": "markdown",
   "id": "8fdd2aee",
   "metadata": {},
   "source": [
    "3. Setup the counterfactual method. Here we use `VanillaCF`."
   ]
  },
  {
   "cell_type": "code",
   "execution_count": null,
   "id": "075f0c9b",
   "metadata": {},
   "outputs": [],
   "source": [
    "from cfnet.methods import VanillaCF\n",
    "\n",
    "cf_exp = VanillaCF(cf_configs)"
   ]
  },
  {
   "cell_type": "markdown",
   "metadata": {},
   "source": [
    "4. Generate counterfactual examples."
   ]
  },
  {
   "cell_type": "code",
   "execution_count": null,
   "id": "bc711d94",
   "metadata": {},
   "outputs": [
    {
     "ename": "NameError",
     "evalue": "name 'dm' is not defined",
     "output_type": "error",
     "traceback": [
      "\u001b[0;31m---------------------------------------------------------------------------\u001b[0m",
      "\u001b[0;31mNameError\u001b[0m                                 Traceback (most recent call last)",
      "Input \u001b[0;32mIn [5]\u001b[0m, in \u001b[0;36m<cell line: 3>\u001b[0;34m()\u001b[0m\n\u001b[1;32m      1\u001b[0m \u001b[38;5;28;01mfrom\u001b[39;00m \u001b[38;5;21;01mcfnet\u001b[39;00m\u001b[38;5;21;01m.\u001b[39;00m\u001b[38;5;21;01mevaluate\u001b[39;00m \u001b[38;5;28;01mimport\u001b[39;00m generate_cf_results_local_exp\n\u001b[0;32m----> 3\u001b[0m cf_results \u001b[38;5;241m=\u001b[39m generate_cf_results_local_exp(cf_exp, \u001b[43mdm\u001b[49m, pred_fn)\n\u001b[1;32m      5\u001b[0m display(cf_results\u001b[38;5;241m.\u001b[39mX)\n",
      "\u001b[0;31mNameError\u001b[0m: name 'dm' is not defined"
     ]
    }
   ],
   "source": [
    "from cfnet.evaluate import generate_cf_results_local_exp\n",
    "\n",
    "cf_results = generate_cf_results_local_exp(cf_exp, dm, pred_fn)\n",
    "\n",
    "display(cf_results.X)"
   ]
  },
  {
   "cell_type": "markdown",
   "id": "7b704058",
   "metadata": {},
   "source": [
    "## 4. Benchmark the Counterfactual Method"
   ]
  },
  {
   "cell_type": "markdown",
   "metadata": {},
   "source": [
    "After we obtain the counterfactual results, we can use  `benchmark_cfs` to evaluate the accuracy, validity, and proximity of the counterfactual example."
   ]
  },
  {
   "cell_type": "code",
   "execution_count": null,
   "id": "220009e4",
   "metadata": {},
   "outputs": [
    {
     "ename": "NameError",
     "evalue": "name 'cf_results' is not defined",
     "output_type": "error",
     "traceback": [
      "\u001b[0;31m---------------------------------------------------------------------------\u001b[0m",
      "\u001b[0;31mNameError\u001b[0m                                 Traceback (most recent call last)",
      "Input \u001b[0;32mIn [6]\u001b[0m, in \u001b[0;36m<cell line: 3>\u001b[0;34m()\u001b[0m\n\u001b[1;32m      1\u001b[0m \u001b[38;5;28;01mfrom\u001b[39;00m \u001b[38;5;21;01mcfnet\u001b[39;00m\u001b[38;5;21;01m.\u001b[39;00m\u001b[38;5;21;01mevaluate\u001b[39;00m \u001b[38;5;28;01mimport\u001b[39;00m benchmark_cfs\n\u001b[0;32m----> 3\u001b[0m benchmark_cfs([\u001b[43mcf_results\u001b[49m])\n",
      "\u001b[0;31mNameError\u001b[0m: name 'cf_results' is not defined"
     ]
    }
   ],
   "source": [
    "from cfnet.evaluate import benchmark_cfs\n",
    "\n",
    "benchmark_cfs([cf_results])"
   ]
  }
 ],
 "metadata": {
  "kernelspec": {
   "display_name": "Python 3.8.9 64-bit",
   "language": "python",
   "name": "python3"
  }
 },
 "nbformat": 4,
 "nbformat_minor": 5
}
