{
 "cells": [
  {
   "cell_type": "code",
   "execution_count": null,
   "metadata": {},
   "outputs": [],
   "source": [
    "from __future__ import annotations\n",
    "import relax\n",
    "from relax.data import load_data, TabularDataModule\n",
    "from relax.evaluate import generate_cf_explanations, benchmark_cfs\n",
    "from relax.methods import CounterNet\n",
    "from relax.import_essentials import *"
   ]
  },
  {
   "cell_type": "code",
   "execution_count": null,
   "metadata": {},
   "outputs": [],
   "source": [
    "def gumbel_softmax(rng, logits, tau=1., axis=-1):\n",
    "  \"\"\"Sample from the Gumbel softmax / concrete distribution.\"\"\"\n",
    "  \n",
    "  gumbel_noise = jax.random.gumbel(rng, logits.shape)\n",
    "  return jax.nn.softmax((logits + gumbel_noise) / tau, axis=axis)"
   ]
  },
  {
   "cell_type": "code",
   "execution_count": null,
   "metadata": {},
   "outputs": [],
   "source": [
    "def softmax(\n",
    "    x: jnp.DeviceArray,\n",
    "    axis: int | Tuple[int, ...] = None,\n",
    "    beta: float = 1.0\n",
    ")  -> jnp.DeviceArray:\n",
    "\n",
    "    x = x * beta\n",
    "    x_max = jnp.max(x, axis, keepdims=True)\n",
    "    unnormalized = jnp.exp(x - lax.stop_gradient(x_max))\n",
    "    return unnormalized / jnp.sum(unnormalized, axis, keepdims=True)"
   ]
  },
  {
   "cell_type": "code",
   "execution_count": null,
   "metadata": {},
   "outputs": [],
   "source": [
    "@deprecated\n",
    "def cat_normalize(\n",
    "    cf: jnp.ndarray,  # Unnormalized counterfactual explanations `[n_samples, n_features]`\n",
    "    cat_arrays: List[List[str]],  # A list of a list of each categorical feature name\n",
    "    cat_idx: int,  # Index that starts categorical features\n",
    "    beta: float = 1.0, \n",
    "    hard: bool = False,  # If `True`, return one-hot vectors; If `False`, return probability normalized via softmax\n",
    "    soft_fun: Callable = None,\n",
    "    hard_fun: Callable = None\n",
    ") -> jnp.ndarray:\n",
    "    \"\"\"Ensure generated counterfactual explanations to respect one-hot encoding constraints.\"\"\"\n",
    "    cf_cont = cf[:, :cat_idx]\n",
    "    normalized_cf = [cf_cont]\n",
    "\n",
    "    for col in cat_arrays:\n",
    "        cat_end_idx = cat_idx + len(col)\n",
    "        _cf_cat = cf[:, cat_idx:cat_end_idx]\n",
    "        if soft_fun is None: soft_fun = lambda x: jax.nn.softmax(x, axis=-1)\n",
    "        if hard_fun is None: hard_fun = lambda x: jax.nn.one_hot(jnp.argmax(x, axis=-1), len(col))\n",
    "\n",
    "        cf_cat = lax.cond(\n",
    "            hard,\n",
    "            true_fun=hard_fun,\n",
    "            false_fun=soft_fun,\n",
    "            operand=_cf_cat,\n",
    "        )\n",
    "\n",
    "        cat_idx = cat_end_idx\n",
    "        normalized_cf.append(cf_cat)\n",
    "    return jnp.concatenate(normalized_cf, axis=-1)\n"
   ]
  },
  {
   "cell_type": "code",
   "execution_count": null,
   "metadata": {},
   "outputs": [],
   "source": [
    "def cat_normalize_softmax(\n",
    "    cf: jnp.ndarray,  # Unnormalized counterfactual explanations `[n_samples, n_features]`\n",
    "    cat_arrays: List[List[str]],  # A list of a list of each categorical feature name\n",
    "    cat_idx: int,  # Index that starts categorical features\n",
    "    beta: float = 1.0, \n",
    "    hard: bool = False,  # If `True`, return one-hot vectors; If `False`, return probability normalized via softmax\n",
    ") -> jnp.ndarray:\n",
    "    \"\"\"Ensure generated counterfactual explanations to respect one-hot encoding constraints.\"\"\"\n",
    "    cf_cont = cf[:, :cat_idx]\n",
    "    normalized_cf = [cf_cont]\n",
    "\n",
    "    for col in cat_arrays:\n",
    "        cat_end_idx = cat_idx + len(col)\n",
    "        _cf_cat = cf[:, cat_idx:cat_end_idx]\n",
    "        soft_fun = lambda x: softmax(x, axis=-1, beta=beta)\n",
    "        hard_fun = lambda x: jax.nn.one_hot(jnp.argmax(x, axis=-1), len(col))\n",
    "\n",
    "        cf_cat = lax.cond(\n",
    "            hard,\n",
    "            true_fun=hard_fun,\n",
    "            false_fun=soft_fun,\n",
    "            operand=_cf_cat,\n",
    "        )\n",
    "\n",
    "        cat_idx = cat_end_idx\n",
    "        normalized_cf.append(cf_cat)\n",
    "    return jnp.concatenate(normalized_cf, axis=-1)\n"
   ]
  },
  {
   "cell_type": "code",
   "execution_count": null,
   "metadata": {},
   "outputs": [],
   "source": [
    "class TabularDataModuleSoftmax(TabularDataModule):\n",
    "    def set_beta(self, beta: float = 1.0):\n",
    "        self.beta = beta\n",
    "\n",
    "    def apply_constraints(\n",
    "        self, \n",
    "        x: jnp.DeviceArray, # input\n",
    "        cf: jnp.DeviceArray, # Unnormalized counterfactuals\n",
    "        hard: bool = False # Apply hard constraints or not\n",
    "    ) -> jnp.DeviceArray:\n",
    "        \"\"\"Apply categorical normalization and immutability constraints\"\"\"\n",
    "        cat_arrays = self.cat_encoder.categories_ \\\n",
    "            if self._configs.discret_cols else []\n",
    "        soft_fun = lambda x: softmax(x, axis=-1, beta=self.beta)\n",
    "        cf = cat_normalize_softmax(\n",
    "            cf, cat_arrays=cat_arrays, \n",
    "            cat_idx=len(self._configs.continous_cols),\n",
    "            beta=self.beta, hard=hard, \n",
    "        )\n",
    "        return cf"
   ]
  },
  {
   "cell_type": "code",
   "execution_count": null,
   "metadata": {},
   "outputs": [],
   "source": [
    "def cat_normalize_gumbel(\n",
    "    cf: jnp.ndarray,  # Unnormalized counterfactual explanations `[n_samples, n_features]`\n",
    "    cat_arrays: List[List[str]],  # A list of a list of each categorical feature name\n",
    "    cat_idx: int,  # Index that starts categorical features\n",
    "    tau: float = 1.0, \n",
    "    hard: bool = False,  # If `True`, return one-hot vectors; If `False`, return probability normalized via softmax\n",
    ") -> jnp.ndarray:\n",
    "    \"\"\"Ensure generated counterfactual explanations to respect one-hot encoding constraints.\"\"\"\n",
    "    cf_cont = cf[:, :cat_idx]\n",
    "    normalized_cf = [cf_cont]\n",
    "    keys = hk.PRNGSequence(42)\n",
    "\n",
    "    for col in cat_arrays:\n",
    "        cat_end_idx = cat_idx + len(col)\n",
    "        _cf_cat = cf[:, cat_idx:cat_end_idx]\n",
    "        rng = next(keys)\n",
    "        soft_fun = lambda x: gumbel_softmax(rng ,x, axis=-1, tau=tau)\n",
    "        hard_fun = lambda x: jax.nn.one_hot(jnp.argmax(x, axis=-1), len(col))\n",
    "\n",
    "        cf_cat = lax.cond(\n",
    "            hard,\n",
    "            true_fun=hard_fun,\n",
    "            false_fun=soft_fun,\n",
    "            operand=_cf_cat,\n",
    "        )\n",
    "\n",
    "        cat_idx = cat_end_idx\n",
    "        normalized_cf.append(cf_cat)\n",
    "    return jnp.concatenate(normalized_cf, axis=-1)\n"
   ]
  },
  {
   "cell_type": "code",
   "execution_count": null,
   "metadata": {},
   "outputs": [],
   "source": [
    "class TabularDataModuleGumbel(TabularDataModule):\n",
    "    def set_tau(self, tau: float = 1.0):\n",
    "        self.tau = tau\n",
    "\n",
    "    def apply_constraints(\n",
    "        self, \n",
    "        x: jnp.DeviceArray, # input\n",
    "        cf: jnp.DeviceArray, # Unnormalized counterfactuals\n",
    "        hard: bool = False # Apply hard constraints or not\n",
    "    ) -> jnp.DeviceArray:\n",
    "        \"\"\"Apply categorical normalization and immutability constraints\"\"\"\n",
    "        cat_arrays = self.cat_encoder.categories_ \\\n",
    "            if self._configs.discret_cols else []\n",
    "        \n",
    "        key = random.PRNGKey(42)\n",
    "        soft_fun = lambda x: gumbel_softmax(key, x, axis=-1, tau=self.tau)\n",
    "        cf = cat_normalize_gumbel(\n",
    "            cf, cat_arrays=cat_arrays, \n",
    "            cat_idx=len(self._configs.continous_cols),\n",
    "            tau=self.tau, hard=hard\n",
    "        )\n",
    "        return cf"
   ]
  },
  {
   "cell_type": "code",
   "execution_count": null,
   "metadata": {},
   "outputs": [
    {
     "name": "stdout",
     "output_type": "stream",
     "text": [
      "CounterNet contains parametric models. Starts training before generating explanations...\n"
     ]
    },
    {
     "name": "stderr",
     "output_type": "stream",
     "text": [
      "/home/birk/code/cfnet/relax/_ckpt_manager.py:48: UserWarning: `monitor_metrics` is not specified in `CheckpointManager`. No checkpoints will be stored.\n",
      "  \"`monitor_metrics` is not specified in `CheckpointManager`. No checkpoints will be stored.\"\n",
      "Epoch 99: 100%|██████████| 191/191 [00:01<00:00, 138.99batch/s, train/train_loss_1=0.0527, train/train_loss_2=0.000198, train/train_loss_3=0.112] \n"
     ]
    }
   ],
   "source": [
    "_, d_configs = load_data(\"adult\", return_config=True)\n",
    "dm = TabularDataModuleSoftmax(d_configs)\n",
    "dm.set_beta(1.0)\n",
    "\n",
    "cfnet = CounterNet()\n",
    "cf_exp_softmax_1 = generate_cf_explanations(\n",
    "    cfnet, dm, t_configs={'n_epochs': 100, 'batch_size': 128}\n",
    ")\n"
   ]
  },
  {
   "cell_type": "code",
   "execution_count": null,
   "metadata": {},
   "outputs": [
    {
     "name": "stderr",
     "output_type": "stream",
     "text": [
      "/home/birk/code/cfnet/relax/_ckpt_manager.py:48: UserWarning: `monitor_metrics` is not specified in `CheckpointManager`. No checkpoints will be stored.\n",
      "  \"`monitor_metrics` is not specified in `CheckpointManager`. No checkpoints will be stored.\"\n"
     ]
    },
    {
     "name": "stdout",
     "output_type": "stream",
     "text": [
      "CounterNet contains parametric models. Starts training before generating explanations...\n"
     ]
    },
    {
     "name": "stderr",
     "output_type": "stream",
     "text": [
      "Epoch 99: 100%|██████████| 191/191 [00:01<00:00, 126.56batch/s, train/train_loss_1=0.0394, train/train_loss_2=0.000265, train/train_loss_3=0.114] \n"
     ]
    }
   ],
   "source": [
    "_, d_configs = load_data(\"adult\", return_config=True)\n",
    "dm = TabularDataModuleSoftmax(d_configs)\n",
    "dm.set_beta(10.)\n",
    "\n",
    "cfnet = CounterNet()\n",
    "cf_exp_softmax_10 = generate_cf_explanations(\n",
    "    cfnet, dm, t_configs={'n_epochs': 100, 'batch_size': 128}\n",
    ")\n"
   ]
  },
  {
   "cell_type": "code",
   "execution_count": null,
   "metadata": {},
   "outputs": [
    {
     "name": "stderr",
     "output_type": "stream",
     "text": [
      "/home/birk/code/cfnet/relax/_ckpt_manager.py:48: UserWarning: `monitor_metrics` is not specified in `CheckpointManager`. No checkpoints will be stored.\n",
      "  \"`monitor_metrics` is not specified in `CheckpointManager`. No checkpoints will be stored.\"\n"
     ]
    },
    {
     "name": "stdout",
     "output_type": "stream",
     "text": [
      "CounterNet contains parametric models. Starts training before generating explanations...\n"
     ]
    },
    {
     "name": "stderr",
     "output_type": "stream",
     "text": [
      "Epoch 99: 100%|██████████| 191/191 [00:01<00:00, 136.88batch/s, train/train_loss_1=0.0789, train/train_loss_2=0.00317, train/train_loss_3=0.103]  \n"
     ]
    }
   ],
   "source": [
    "_, d_configs = load_data(\"adult\", return_config=True)\n",
    "dm = TabularDataModuleGumbel(d_configs)\n",
    "dm.set_tau(1.0)\n",
    "\n",
    "cfnet = CounterNet()\n",
    "\n",
    "cf_exp_gumbel_1 = generate_cf_explanations(\n",
    "    cfnet, dm, t_configs={'n_epochs': 100, 'batch_size': 128}\n",
    ")\n"
   ]
  },
  {
   "cell_type": "code",
   "execution_count": null,
   "metadata": {},
   "outputs": [
    {
     "name": "stderr",
     "output_type": "stream",
     "text": [
      "/home/birk/code/cfnet/relax/_ckpt_manager.py:48: UserWarning: `monitor_metrics` is not specified in `CheckpointManager`. No checkpoints will be stored.\n",
      "  \"`monitor_metrics` is not specified in `CheckpointManager`. No checkpoints will be stored.\"\n"
     ]
    },
    {
     "name": "stdout",
     "output_type": "stream",
     "text": [
      "CounterNet contains parametric models. Starts training before generating explanations...\n"
     ]
    },
    {
     "name": "stderr",
     "output_type": "stream",
     "text": [
      "Epoch 99: 100%|██████████| 191/191 [00:01<00:00, 133.40batch/s, train/train_loss_1=0.0518, train/train_loss_2=0.00358, train/train_loss_3=0.113]  \n"
     ]
    }
   ],
   "source": [
    "_, d_configs = load_data(\"adult\", return_config=True)\n",
    "dm = TabularDataModuleGumbel(d_configs)\n",
    "dm.set_tau(.0001)\n",
    "\n",
    "cfnet = CounterNet()\n",
    "\n",
    "cf_exp_gumbel_001 = generate_cf_explanations(\n",
    "    cfnet, dm, t_configs={'n_epochs': 100, 'batch_size': 128}\n",
    ")\n"
   ]
  },
  {
   "cell_type": "code",
   "execution_count": null,
   "metadata": {},
   "outputs": [
    {
     "data": {
      "text/html": [
       "<div>\n",
       "<style scoped>\n",
       "    .dataframe tbody tr th:only-of-type {\n",
       "        vertical-align: middle;\n",
       "    }\n",
       "\n",
       "    .dataframe tbody tr th {\n",
       "        vertical-align: top;\n",
       "    }\n",
       "\n",
       "    .dataframe thead th {\n",
       "        text-align: right;\n",
       "    }\n",
       "</style>\n",
       "<table border=\"1\" class=\"dataframe\">\n",
       "  <thead>\n",
       "    <tr style=\"text-align: right;\">\n",
       "      <th></th>\n",
       "      <th></th>\n",
       "      <th>acc</th>\n",
       "      <th>validity</th>\n",
       "      <th>proximity</th>\n",
       "    </tr>\n",
       "  </thead>\n",
       "  <tbody>\n",
       "    <tr>\n",
       "      <th rowspan=\"4\" valign=\"top\">adult</th>\n",
       "      <th>CounterNet</th>\n",
       "      <td>0.833067</td>\n",
       "      <td>0.998157</td>\n",
       "      <td>6.7232056</td>\n",
       "    </tr>\n",
       "    <tr>\n",
       "      <th>CounterNet</th>\n",
       "      <td>0.830488</td>\n",
       "      <td>0.999631</td>\n",
       "      <td>6.6402793</td>\n",
       "    </tr>\n",
       "    <tr>\n",
       "      <th>CounterNet</th>\n",
       "      <td>0.831470</td>\n",
       "      <td>0.998526</td>\n",
       "      <td>6.2795486</td>\n",
       "    </tr>\n",
       "    <tr>\n",
       "      <th>CounterNet</th>\n",
       "      <td>0.830488</td>\n",
       "      <td>0.998894</td>\n",
       "      <td>6.853478</td>\n",
       "    </tr>\n",
       "  </tbody>\n",
       "</table>\n",
       "</div>"
      ],
      "text/plain": [
       "                       acc  validity  proximity\n",
       "adult CounterNet  0.833067  0.998157  6.7232056\n",
       "      CounterNet  0.830488  0.999631  6.6402793\n",
       "      CounterNet  0.831470  0.998526  6.2795486\n",
       "      CounterNet  0.830488  0.998894   6.853478"
      ]
     },
     "execution_count": null,
     "metadata": {},
     "output_type": "execute_result"
    }
   ],
   "source": [
    "benchmark_cfs([cf_exp_softmax_1, cf_exp_softmax_10, cf_exp_gumbel_1, cf_exp_gumbel_001])"
   ]
  },
  {
   "cell_type": "code",
   "execution_count": null,
   "metadata": {},
   "outputs": [],
   "source": []
  }
 ],
 "metadata": {
  "kernelspec": {
   "display_name": "nbdev2",
   "language": "python",
   "name": "python3"
  }
 },
 "nbformat": 4,
 "nbformat_minor": 2
}
