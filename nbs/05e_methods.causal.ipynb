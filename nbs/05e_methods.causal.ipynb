{
 "cells": [
  {
   "cell_type": "code",
   "execution_count": null,
   "metadata": {},
   "outputs": [],
   "source": [
    "#| default_exp methods.causal"
   ]
  },
  {
   "cell_type": "code",
   "execution_count": null,
   "metadata": {},
   "outputs": [],
   "source": [
    "#| include: false\n",
    "%load_ext autoreload\n",
    "%autoreload 2\n",
    "from ipynb_path import *\n",
    "import warnings\n",
    "\n",
    "warnings.simplefilter(action='ignore', category=FutureWarning)"
   ]
  },
  {
   "cell_type": "code",
   "execution_count": null,
   "metadata": {},
   "outputs": [],
   "source": [
    "#| export\n",
    "from __future__ import annotations\n",
    "from relax.import_essentials import *\n",
    "from relax.data import TabularDataModule, TabularDataModuleConfigs\n",
    "from relax.methods.base import BaseCFModule\n",
    "from relax.utils import validate_configs, binary_cross_entropy, grad_update"
   ]
  },
  {
   "cell_type": "code",
   "execution_count": null,
   "metadata": {},
   "outputs": [],
   "source": [
    "#| export\n",
    "class CausalCFConfig(BaseParser):\n",
    "    optimization_approach: str = 'brute_force'\n",
    "    n_samples: int = 10"
   ]
  },
  {
   "cell_type": "code",
   "execution_count": null,
   "metadata": {},
   "outputs": [],
   "source": [
    "#| export\n",
    "def get_intervenable_nodes(dm: TabularDataModule) -> list:\n",
    "    \"\"\"Get the list of nodes that can be intervened.\"\"\"\n",
    "\n",
    "    intervenable_nodes = {\n",
    "        \"continuous\": np.setdiff1d(\n",
    "            dm._configs.continous_cols, dm._configs.immutables\n",
    "        ),\n",
    "        \"categorical\": np.setdiff1d(\n",
    "            dm._configs.discret_cols, dm._configs.immutables\n",
    "        ),\n",
    "    }\n",
    "    return intervenable_nodes"
   ]
  },
  {
   "cell_type": "code",
   "execution_count": null,
   "metadata": {},
   "outputs": [],
   "source": [
    "#| export\n",
    "def action_set_cost(\n",
    "    X: jnp.ndarray,\n",
    "    action_set: dict,\n",
    "    norm: int = 2\n",
    ") -> float:\n",
    "    \"\"\"Calculate the cost of an action set.\"\"\"\n",
    "\n",
    "    deltas = action_set - X\n",
    "    return jnp.linalg.norm(deltas, ord=norm)"
   ]
  },
  {
   "attachments": {},
   "cell_type": "markdown",
   "metadata": {},
   "source": [
    "We assume [0,1] scalar."
   ]
  },
  {
   "cell_type": "code",
   "execution_count": null,
   "metadata": {},
   "outputs": [
    {
     "data": {
      "text/plain": [
       "['a', 'b', 'c', None]"
      ]
     },
     "execution_count": null,
     "metadata": {},
     "output_type": "execute_result"
    }
   ],
   "source": [
    "list(dict.fromkeys(['a', 'b', 'c', None]))"
   ]
  },
  {
   "cell_type": "code",
   "execution_count": null,
   "metadata": {},
   "outputs": [],
   "source": [
    "#| export\n",
    "class CausalCF(BaseCFModule):\n",
    "    name = \"CausalCF\"\n",
    "\n",
    "    def __init__(\n",
    "        self,\n",
    "        configs: dict | CausalCFConfig = None\n",
    "    ):\n",
    "        if configs is None: \n",
    "            configs = CausalCFConfig()\n",
    "        self.configs = validate_configs(configs, CausalCFConfig)\n",
    "\n",
    "    def compute_optimal_action_set(\n",
    "        self,\n",
    "        X: jnp.ndarray, # Input to be explained\n",
    "        pred_fn: Callable = None # Predictive function\n",
    "    ) -> jnp.ndarray:\n",
    "        \"\"\"Compute optimal action set.\"\"\"\n",
    "\n",
    "        intervenable_nodes = get_intervenable_nodes(self._data_module)\n",
    "        \n",
    "        if self.configs.optimization_approach == 'brute_force':\n",
    "            return self._brute_force(intervenable_nodes, X, pred_fn)\n",
    "        elif self.configs.optimization_approach == 'gradient_descent':\n",
    "            raise NotImplementedError\n",
    "        else:\n",
    "            raise ValueError(f\"optimization approach {self.configs.optimization_approach} \"\n",
    "                             \"is not recognized\")\n",
    "    \n",
    "    def _brute_force(\n",
    "        self,\n",
    "        intervenable_nodes: list,\n",
    "        X: jnp.ndarray, # Input to be explained\n",
    "        pred_fn: Callable = None # Predictive function\n",
    "    ):\n",
    "        min_val, max_val, mean_val = \\\n",
    "            np.min(X, axis=-1), np.max(X, axis=-1), np.mean(X, axis=-1)\n",
    "        min_cost, min_action_set = np.inf, {}\n",
    "\n",
    "        valid_action_sets = get_discretized_action_sets(\n",
    "            intervenable_nodes, min_val, max_val, mean_val\n",
    "        )\n",
    "\n",
    "        for action_set in valid_action_sets:\n",
    "            if constraint_handle(\n",
    "                self._scm, X, action_set, sampling_handle, pred_fn,\n",
    "            ):\n",
    "                cost = action_set_cost(X, action_set)\n",
    "                if cost < min_cost:\n",
    "                    min_cost = cost\n",
    "                    min_action_set = action_set\n",
    "        return min_action_set, min_cost\n",
    "    \n",
    "    def _validate_input_range(\n",
    "        self,\n",
    "        X: jnp.ndarray, # Input to be explained\n",
    "    ):\n",
    "        if not np.all((1 > X) & (X > 0)):\n",
    "            raise ValueError(\"Input must be in [0, 1] range.\")\n",
    "        \n",
    "    def _hook_scm(\n",
    "        self, dm: TabularDataModule\n",
    "    ):\n",
    "        if not hasattr(dm, \"_scm\"):\n",
    "            raise ValueError(\"DataModule does not have a `scm` attribute.\")\n",
    "        self._scm = dm._scm\n",
    "\n",
    "    def before_generate_cfs(\n",
    "        self,\n",
    "        dm: TabularDataModule, # data module\n",
    "        X: jnp.ndarray, # Input to be explained\n",
    "    ):\n",
    "        \"\"\"Hook to be called before `generate_cfs`.\"\"\"\n",
    "        self._hook_scm(dm)\n",
    "        self._validate_input_range(X)\n",
    "    \n",
    "    def generate_cfs(\n",
    "        self,\n",
    "        X: jnp.ndarray, # Input to be explained\n",
    "        pred_fn: Callable = None # Predictive function \n",
    "    ) -> jnp.ndarray:\n",
    "        \"\"\"Generate counterfactuals.\"\"\"\n",
    "        self.before_generate_cfs(self.data_module, X)\n",
    "\n",
    "        cfs = []\n",
    "        for i in range(self.configs.n_samples):\n",
    "            action_set, _ = self.compute_optimal_action_set(X)\n",
    "            cf = X + action_set # TODO: implement array_plus_dict\n",
    "            cfs.append(cf)\n",
    "        return jnp.concatenate(cfs, axis=0)\n"
   ]
  }
 ],
 "metadata": {
  "kernelspec": {
   "display_name": "python3",
   "language": "python",
   "name": "python3"
  }
 },
 "nbformat": 4,
 "nbformat_minor": 2
}
