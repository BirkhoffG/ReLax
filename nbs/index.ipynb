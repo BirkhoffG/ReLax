{
 "cells": [
  {
   "cell_type": "markdown",
   "metadata": {},
   "source": [
    "# Welcome to cfnet\n",
    "\n",
    "> A fast and scalable library for counterfactual explanations in Jax."
   ]
  },
  {
   "cell_type": "markdown",
   "metadata": {},
   "source": [
    "## Key Features\n",
    "\n",
    "- **fast**: code runs significantly faster than existing CF explanation libraries.\n",
    "- **scalable**: code can be accelerated over *CPU*, *GPU*, and *TPU*\n",
    "- **flexible**: we provide flexible API for researchers to allow full customization.\n",
    "\n",
    "\n",
    "TODO: \n",
    "- implement various methods of CF explanations\n"
   ]
  },
  {
   "cell_type": "markdown",
   "metadata": {},
   "source": [
    "## Install\n",
    "\n",
    "`cfnet` is built on top of [Jax](https://jax.readthedocs.io/en/latest/index.html). It also uses [Pytorch](https://pytorch.org/) to load data.\n",
    "\n",
    "### Running on CPU\n",
    "\n",
    "If you only need to run `cfnet` on CPU, you can simply install via `pip` or clone the `GitHub` project.\n",
    "\n",
    "Installation via PyPI:\n",
    "```bash\n",
    "pip install cfnet\n",
    "```\n",
    "\n",
    "Editable Install:\n",
    "```bash\n",
    "git clone https://github.com/BirkhoffG/cfnet.git\n",
    "pip install -e cfnet\n",
    "```\n",
    "\n",
    "### Running on GPU or TPU\n",
    "\n",
    "If you wish to run `cfnet` on GPU or TPU, please first install this library via `pip install cfnet`.\n",
    "\n",
    "Then, you should install the right GPU or TPU version of Jax by following steps in the [install guidelines](https://github.com/google/jax#installation).\n",
    "\n"
   ]
  },
  {
   "attachments": {},
   "cell_type": "markdown",
   "metadata": {},
   "source": [
    "## An Example of using `cfnet`\n",
    "\n",
    "See [How to use cfnet](tutorials/how_to_use_cfnet.ipynb)."
   ]
  }
 ],
 "metadata": {
  "kernelspec": {
   "display_name": "nbdev2",
   "language": "python",
   "name": "python3"
  }
 },
 "nbformat": 4,
 "nbformat_minor": 2
}
