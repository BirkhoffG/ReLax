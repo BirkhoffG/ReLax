{
 "cells": [
  {
   "cell_type": "markdown",
   "metadata": {},
   "source": [
    "# CFNet: An Algorithmic Recourse Library in Jax\n",
    "\n",
    "> A fast and scalable library for counterfactual explanations in Jax.\n"
   ]
  },
  {
   "cell_type": "markdown",
   "metadata": {},
   "source": [
    "## Key Features\n",
    "\n",
    "- **fast**: code runs significantly faster than existing CF explanation libraries.\n",
    "- **scalable**: code can be accelerated over *CPU*, *GPU*, and *TPU*\n",
    "- **flexible**: we provide flexible API for researchers to allow full customization.\n",
    "\n",
    "\n",
    "TODO: \n",
    "- implement various methods of CF explanations\n"
   ]
  },
  {
   "cell_type": "markdown",
   "metadata": {},
   "source": [
    "## Install\n",
    "\n",
    "`cfnet` is built on top of [Jax](https://jax.readthedocs.io/en/latest/index.html). It also uses [Pytorch](https://pytorch.org/) to load data.\n",
    "\n",
    "### Running on CPU\n",
    "\n",
    "If you only need to run `cfnet` on CPU, you can simply install via `pip` or clone the `GitHub` project.\n",
    "\n",
    "Installation via PyPI:\n",
    "```bash\n",
    "pip install cfnet\n",
    "```\n",
    "\n",
    "Editable Install:\n",
    "```bash\n",
    "git clone https://github.com/BirkhoffG/cfnet.git\n",
    "pip install -e cfnet\n",
    "```\n",
    "\n",
    "### Running on GPU or TPU\n",
    "\n",
    "If you wish to run `cfnet` on GPU or TPU, please first install this library via `pip install cfnet`.\n",
    "\n",
    "Then, you should install the right GPU or TPU version of Jax by following steps in the [install guidelines](https://github.com/google/jax#installation).\n",
    "\n"
   ]
  },
  {
   "cell_type": "markdown",
   "metadata": {},
   "source": [
    "## A Minimum Example"
   ]
  },
  {
   "cell_type": "code",
   "execution_count": null,
   "metadata": {},
   "outputs": [],
   "source": [
    "# hide\n",
    "from ipynb_path import *"
   ]
  },
  {
   "cell_type": "code",
   "execution_count": null,
   "metadata": {},
   "outputs": [],
   "source": [
    "from cfnet.utils import load_json\n",
    "from cfnet.datasets import TabularDataModule\n",
    "from cfnet.training_module import PredictiveTrainingModule\n",
    "from cfnet.train import train_model\n",
    "from cfnet.methods import VanillaCF\n",
    "from cfnet.evaluate import generate_cf_results_local_exp, benchmark_cfs\n",
    "from cfnet.import_essentials import *\n",
    "\n",
    "data_configs = load_json('assets/configs/data_configs/adult.json')\n",
    "m_configs = {\n",
    "    'lr': 0.003,\n",
    "    \"sizes\": [50, 10, 50],\n",
    "    \"dropout_rate\": 0.3\n",
    "}\n",
    "t_configs = {\n",
    "    'n_epochs': 10,\n",
    "    'monitor_metrics': 'val/val_loss',\n",
    "    'logger_name': 'pred'\n",
    "}\n",
    "cf_configs = {\n",
    "    'n_steps': 1000,\n",
    "    'lr': 0.001\n",
    "}\n",
    "\n",
    "# load data\n",
    "dm = TabularDataModule(data_configs)\n",
    "\n",
    "# specify the ML model \n",
    "training_module = PredictiveTrainingModule(m_configs)\n",
    "\n",
    "# train ML model\n",
    "params, opt_state = train_model(\n",
    "    training_module, dm, t_configs\n",
    ")\n",
    "\n",
    "# define CF Explanation Module\n",
    "pred_fn = lambda x: training_module.forward(\n",
    "    params, random.PRNGKey(0), x, is_training=False)\n",
    "cf_exp = VanillaCF(cf_configs)\n",
    "\n",
    "# generate cf explanations\n",
    "cf_results = generate_cf_results_local_exp(cf_exp, dm, pred_fn)\n",
    "\n",
    "# benchmark different cf explanation methods\n",
    "benchmark_cfs([cf_results])"
   ]
  }
 ],
 "metadata": {
  "kernelspec": {
   "display_name": "Python 3.7.10 ('base')",
   "language": "python",
   "name": "python3"
  }
 },
 "nbformat": 4,
 "nbformat_minor": 2
}
