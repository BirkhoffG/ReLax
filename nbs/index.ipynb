{
 "cells": [
  {
   "attachments": {},
   "cell_type": "markdown",
   "metadata": {},
   "source": [
    "# ReLax\n",
    "\n",
    "> **Re**course Explanation **L**ibrary in J**ax**.\n"
   ]
  },
  {
   "attachments": {},
   "cell_type": "markdown",
   "metadata": {},
   "source": [
    "![Python](https://img.shields.io/pypi/pyversions/cfnet.svg)\n",
    "![CI status](https://github.com/BirkhoffG/cfnet/actions/workflows/test.yaml/badge.svg)\n",
    "![Docs](https://github.com/BirkhoffG/cfnet/actions/workflows/deploy.yaml/badge.svg)\n",
    "![pypi](https://img.shields.io/pypi/v/jax-relax)\n"
   ]
  },
  {
   "attachments": {},
   "cell_type": "markdown",
   "metadata": {},
   "source": [
    "`ReLax` (**Re**course Explanation **L**ibrary in J**ax**) is a library built on top of `jax` \n",
    "to generate counterfactual and recourse explanations. \n",
    "By leveraging *vectorization* though `vmap`/`pmap` and *just-in-time* compilation in `jax`,\n",
    "`ReLax` offers massive speed improvements in generating individual (or local) explanations.\n",
    "\n",
    "Some of the key features:\n",
    "\n",
    "* **Fast** recourse generation via `jax.jit`, `jax.vmap`/`jax.pmap`.\n",
    "\n",
    "* **Accelerated** over *CPU*, *GPU*, and *TPU*.\n",
    "\n",
    "* **Extensive** recourse methods implemented for benchmarking.\n",
    "\n",
    "* **Customizable** API to enable building entire modeling and interpreting pipeline."
   ]
  },
  {
   "attachments": {},
   "cell_type": "markdown",
   "metadata": {},
   "source": [
    "## Installation\n",
    "\n",
    "The latest `ReLax` release can directly be installed from PyPI:\n",
    "\n",
    "```bash\n",
    "pip install jax-relax\n",
    "```\n",
    "\n",
    "or install directly from the repository:\n",
    "\n",
    "```bash\n",
    "pip install git+https://github.com/BirkhoffG/cfnet.git\n",
    "```\n",
    "\n",
    "To fully leverage accelerators (e.g., GPU, PU), please follow steps in the [Jax installation guidelines](https://github.com/google/jax#installation).\n"
   ]
  },
  {
   "attachments": {},
   "cell_type": "markdown",
   "metadata": {},
   "source": [
    "## An Example of using `ReLax`\n",
    "\n",
    "See [How to use RELax](tutorials/how_to_use_cfnet.ipynb)."
   ]
  }
 ],
 "metadata": {
  "kernelspec": {
   "display_name": "cfnet",
   "language": "python",
   "name": "python3"
  }
 },
 "nbformat": 4,
 "nbformat_minor": 2
}
