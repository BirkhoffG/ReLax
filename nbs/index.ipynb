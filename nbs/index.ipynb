{
 "cells": [
  {
   "cell_type": "markdown",
   "metadata": {},
   "source": [
    "# Welcome to cfnet\n",
    "\n",
    "> A fast and scalable library for counterfactual explanations in Jax."
   ]
  },
  {
   "cell_type": "markdown",
   "metadata": {},
   "source": [
    "## Key Features\n",
    "\n",
    "- **fast**: code runs significantly faster than existing CF explanation libraries.\n",
    "- **scalable**: code can be accelerated over *CPU*, *GPU*, and *TPU*\n",
    "- **flexible**: we provide flexible API for researchers to allow full customization.\n",
    "\n",
    "\n",
    "TODO: \n",
    "- implement various methods of CF explanations\n"
   ]
  },
  {
   "cell_type": "markdown",
   "metadata": {},
   "source": [
    "## Install\n",
    "\n",
    "`cfnet` is built on top of [Jax](https://jax.readthedocs.io/en/latest/index.html). It also uses [Pytorch](https://pytorch.org/) to load data.\n",
    "\n",
    "### Running on CPU\n",
    "\n",
    "If you only need to run `cfnet` on CPU, you can simply install via `pip` or clone the `GitHub` project.\n",
    "\n",
    "Installation via PyPI:\n",
    "```bash\n",
    "pip install cfnet\n",
    "```\n",
    "\n",
    "Editable Install:\n",
    "```bash\n",
    "git clone https://github.com/BirkhoffG/cfnet.git\n",
    "pip install -e cfnet\n",
    "```\n",
    "\n",
    "### Running on GPU or TPU\n",
    "\n",
    "If you wish to run `cfnet` on GPU or TPU, please first install this library via `pip install cfnet`.\n",
    "\n",
    "Then, you should install the right GPU or TPU version of Jax by following steps in the [install guidelines](https://github.com/google/jax#installation).\n",
    "\n"
   ]
  },
  {
   "cell_type": "markdown",
   "metadata": {},
   "source": [
    "## A Minimum Example"
   ]
  },
  {
   "cell_type": "code",
   "execution_count": null,
   "metadata": {},
   "outputs": [],
   "source": [
    "#| include: false\n",
    "# all_slow\n",
    "from ipynb_path import *"
   ]
  },
  {
   "cell_type": "code",
   "execution_count": null,
   "metadata": {},
   "outputs": [
    {
     "name": "stderr",
     "output_type": "stream",
     "text": [
      "/home/birk/mambaforge-pypy3/envs/nbdev2/lib/python3.7/site-packages/ipykernel_launcher.py:36: DeprecatedWarning: PredictiveTrainingModule is deprecated as of 0.0.7 and will be removed in 0.1.0. Use `cfnet.module.PredictiveTrainingModule` instead.\n",
      "WARNING:absl:No GPU/TPU found, falling back to CPU. (Set TF_CPP_MIN_LOG_LEVEL=0 and rerun for more info.)\n",
      "/home/birk/mambaforge-pypy3/envs/nbdev2/lib/python3.7/site-packages/haiku/_src/data_structures.py:144: FutureWarning: jax.tree_flatten is deprecated, and will be removed in a future release. Use jax.tree_util.tree_flatten instead.\n",
      "  leaves, treedef = jax.tree_flatten(tree)\n",
      "/home/birk/mambaforge-pypy3/envs/nbdev2/lib/python3.7/site-packages/haiku/_src/data_structures.py:145: FutureWarning: jax.tree_unflatten is deprecated, and will be removed in a future release. Use jax.tree_util.tree_unflatten instead.\n",
      "  return jax.tree_unflatten(treedef, leaves)\n",
      "/home/birk/code/cfnet/cfnet/_ckpt_manager.py:14: FutureWarning: jax.tree_leaves is deprecated, and will be removed in a future release. Use jax.tree_util.tree_leaves instead.\n",
      "  for x in jax.tree_leaves(state):\n",
      "Epoch 9: 100%|██████████| 96/96 [00:01<00:00, 57.03batch/s, train/train_loss_1=0.0485]\n",
      "100%|██████████| 1000/1000 [00:08<00:00, 124.53it/s]\n"
     ]
    },
    {
     "data": {
      "text/html": [
       "<div>\n",
       "<style scoped>\n",
       "    .dataframe tbody tr th:only-of-type {\n",
       "        vertical-align: middle;\n",
       "    }\n",
       "\n",
       "    .dataframe tbody tr th {\n",
       "        vertical-align: top;\n",
       "    }\n",
       "\n",
       "    .dataframe thead th {\n",
       "        text-align: right;\n",
       "    }\n",
       "</style>\n",
       "<table border=\"1\" class=\"dataframe\">\n",
       "  <thead>\n",
       "    <tr style=\"text-align: right;\">\n",
       "      <th></th>\n",
       "      <th></th>\n",
       "      <th>acc</th>\n",
       "      <th>validity</th>\n",
       "      <th>proximity</th>\n",
       "    </tr>\n",
       "  </thead>\n",
       "  <tbody>\n",
       "    <tr>\n",
       "      <th>adult</th>\n",
       "      <th>VanillaCF</th>\n",
       "      <td>0.826188</td>\n",
       "      <td>0.883675</td>\n",
       "      <td>7.05637</td>\n",
       "    </tr>\n",
       "  </tbody>\n",
       "</table>\n",
       "</div>"
      ],
      "text/plain": [
       "                      acc  validity  proximity\n",
       "adult VanillaCF  0.826188  0.883675    7.05637"
      ]
     },
     "execution_count": null,
     "metadata": {},
     "output_type": "execute_result"
    }
   ],
   "source": [
    "from cfnet.utils import load_json\n",
    "from cfnet.datasets import TabularDataModule\n",
    "from cfnet.training_module import PredictiveTrainingModule\n",
    "from cfnet.train import train_model\n",
    "from cfnet.methods import VanillaCF\n",
    "from cfnet.evaluate import generate_cf_results_local_exp, benchmark_cfs\n",
    "from cfnet.import_essentials import *\n",
    "\n",
    "data_configs = {\n",
    "    \"data_dir\": \"assets/data/s_adult.csv\",\n",
    "    \"data_name\": \"adult\",\n",
    "    \"batch_size\": 256,\n",
    "    \"continous_cols\": [\"age\",\"hours_per_week\"],\n",
    "    \"discret_cols\": [\"workclass\",\"education\",\"marital_status\",\"occupation\",\"race\",\"gender\"],\n",
    "    \"imutable_cols\": [\"race\",\"gender\"]\n",
    "}\n",
    "m_configs = {\n",
    "    'lr': 0.003,\n",
    "    \"sizes\": [50, 10, 50],\n",
    "    \"dropout_rate\": 0.3\n",
    "}\n",
    "t_configs = {\n",
    "    'n_epochs': 10,\n",
    "    'monitor_metrics': 'val/val_loss',\n",
    "    'logger_name': 'pred',\n",
    "    \"batch_size\": 256\n",
    "}\n",
    "cf_configs = {\n",
    "    'n_steps': 1000,\n",
    "    'lr': 0.001\n",
    "}\n",
    "\n",
    "# load data\n",
    "dm = TabularDataModule(data_configs)\n",
    "\n",
    "# specify the ML model \n",
    "training_module = PredictiveTrainingModule(m_configs)\n",
    "\n",
    "# train ML model\n",
    "params, opt_state = train_model(\n",
    "    training_module, dm, t_configs\n",
    ")\n",
    "\n",
    "# define CF Explanation Module\n",
    "pred_fn = lambda x: training_module.forward(\n",
    "    params, random.PRNGKey(0), x, is_training=False)\n",
    "cf_exp = VanillaCF(cf_configs)\n",
    "\n",
    "# generate cf explanations\n",
    "cf_results = generate_cf_results_local_exp(cf_exp, dm, pred_fn)\n",
    "\n",
    "# benchmark different cf explanation methods\n",
    "benchmark_cfs([cf_results])"
   ]
  }
 ],
 "metadata": {
  "kernelspec": {
   "display_name": "Python 3.7.12 ('nbdev2')",
   "language": "python",
   "name": "python3"
  }
 },
 "nbformat": 4,
 "nbformat_minor": 2
}
