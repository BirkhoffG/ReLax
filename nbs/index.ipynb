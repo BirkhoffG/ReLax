{
 "cells": [
  {
   "attachments": {},
   "cell_type": "markdown",
   "metadata": {},
   "source": [
    "# RELax\n",
    "\n",
    "> Recourse Explanation Library in Jax."
   ]
  },
  {
   "attachments": {},
   "cell_type": "markdown",
   "metadata": {},
   "source": [
    "![Python](https://img.shields.io/pypi/pyversions/cfnet.svg)\n",
    "![CI status](https://github.com/BirkhoffG/RELax/actions/workflows/test.yaml/badge.svg)\n",
    "![Docs](https://github.com/BirkhoffG/RELax/actions/workflows/deploy.yaml/badge.svg)\n",
    "![pypi](https://img.shields.io/pypi/v/jax-relax)\n"
   ]
  },
  {
   "attachments": {},
   "cell_type": "markdown",
   "metadata": {},
   "source": [
    "`ReLax` (**Re**course Explanation **L**ibrary in J**ax**) is a library built on top of `jax` \n",
    "to generate counterfactual and recourse explanations. \n",
    "By leveraging *vectorization* though `vmap`/`pmap` and *just-in-time* compilation in `jax`,\n",
    "`ReLax` offers massive speed improvements in generating individual (or local) explanations.\n",
    "\n",
    "Some of the key features:\n",
    "\n",
    "* **Fast** recourse generation via `jax.jit`, `jax.vmap`/`jax.pmap`.\n",
    "\n",
    "* **Accelerated** over *CPU*, *GPU*, and *TPU*.\n",
    "\n",
    "* **Extensive** recourse methods implemented for benchmarking.\n",
    "\n",
    "* **Customizable** API to enable building entire modeling and interpreting pipeline."
   ]
  },
  {
   "attachments": {},
   "cell_type": "markdown",
   "metadata": {},
   "source": [
    "## Install\n",
    "\n",
    "`RELax` is built on top of [Jax](https://jax.readthedocs.io/en/latest/index.html). \n",
    "\n",
    "The latest `RELax` release can directly be installed from PyPI:\n",
    "\n",
    "If you only need to run `RELax` on CPU, you can simply install via `pip` or clone the `GitHub` project.\n",
    "\n",
    "Installation via PyPI:\n",
    "```bash\n",
    "pip install jax-relax\n",
    "```\n",
    "\n",
    "or install directly from the repository:\n",
    "\n",
    "```bash\n",
    "git clone https://github.com/BirkhoffG/ReLax.git\n",
    "pip install -e .\n",
    "```\n",
    "\n",
    "### Running on GPU or TPU\n",
    "\n",
    "If you wish to run `RELax` on GPU or TPU, please first install this library via `pip install jax-relax`.\n",
    "\n",
    "Then, you should install the right GPU or TPU version of Jax by following steps in the [install guidelines](https://github.com/google/jax#installation).\n",
    "\n"
   ]
  },
  {
   "attachments": {},
   "cell_type": "markdown",
   "metadata": {},
   "source": [
    "## An Example of using `RELax`\n",
    "\n",
    "See [Getting Started with ReLax](tutorials/getting_started.ipynb)."
   ]
  }
 ],
 "metadata": {
  "kernelspec": {
   "display_name": "nbdev2",
   "language": "python",
   "name": "python3"
  }
 },
 "nbformat": 4,
 "nbformat_minor": 2
}
