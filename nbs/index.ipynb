{
 "cells": [
  {
   "attachments": {},
   "cell_type": "markdown",
   "metadata": {},
   "source": [
    "# ReLax\n",
    "\n",
    "> Recourse Explanation Library in Jax."
   ]
  },
  {
   "attachments": {},
   "cell_type": "markdown",
   "metadata": {},
   "source": [
    "![Python](https://img.shields.io/pypi/pyversions/jax-relax.svg)\n",
    "![CI status](https://github.com/BirkhoffG/ReLax/actions/workflows/test.yaml/badge.svg)\n",
    "![Docs](https://github.com/BirkhoffG/ReLax/actions/workflows/deploy.yaml/badge.svg)\n",
    "![pypi](https://img.shields.io/pypi/v/jax-relax.svg)\n",
    "![GitHub License](https://img.shields.io/github/license/BirkhoffG/ReLax.svg)\n",
    "\n",
    "[**Overview**](#overview) | \n",
    "[**Installation**](#installation) | \n",
    "[**Tutorials**](tutorials/getting_started.ipynb) | \n",
    "[**Documentation**](https://birkhoffg.github.io/ReLax/) | \n",
    "[**Citing ReLax**](#citing-relax) \n"
   ]
  },
  {
   "attachments": {},
   "cell_type": "markdown",
   "metadata": {},
   "source": [
    "## Overview\n",
    "\n",
    "`ReLax` (**Re**course Explanation **L**ibrary in J**ax**) is a library built on top of `jax` \n",
    "to generate counterfactual and recourse explanations for Machine Learning algorithms. \n",
    "By leveraging *vectorization* though `vmap`/`pmap` and *just-in-time* compilation in \n",
    "[jax](https://jax.readthedocs.io/en/latest/) (a high-performance auto-differentiation library).\n",
    "`ReLax` offers massive speed improvements in generating individual (or local) explanations\n",
    "for predictions made by Machine Learning algorithms.\n",
    "\n",
    "Some of the key features are as follows:\n",
    "\n",
    "* 🏃 **Fast** recourse generation via `jax.jit`, `jax.vmap`/`jax.pmap`.\n",
    "\n",
    "* 🚀 **Accelerated** over `cpu`, `gpu`, `tpu`.\n",
    "\n",
    "* 🪓  **Comprehensive** set of recourse methods implemented for benchmarking.\n",
    "\n",
    "* 👐 **Customizable** API to enable the building of entire modeling \n",
    "* and interpretation pipelines for new recourse algorithms."
   ]
  },
  {
   "attachments": {},
   "cell_type": "markdown",
   "metadata": {},
   "source": [
    "## Installation\n",
    "\n",
    "The latest `ReLax` release can directly be installed from PyPI:\n",
    "\n",
    "```bash\n",
    "pip install jax-relax\n",
    "```\n",
    "\n",
    "or installed directly from the repository:\n",
    "\n",
    "```bash\n",
    "pip install git+https://github.com/BirkhoffG/ReLax.git \n",
    "```\n",
    "\n",
    "To futher unleash the power of accelerators (i.e., GPU/TPU), \n",
    "we suggest to first install this library via `pip install jax-relax`.\n",
    "Then, follow steps in the [official install guidelines](https://github.com/google/jax#installation)\n",
    "to install the right version for GPU or TPU.\n",
    "\n"
   ]
  },
  {
   "attachments": {},
   "cell_type": "markdown",
   "metadata": {},
   "source": [
    "## An Example of using `ReLax`\n",
    "\n",
    "See [Getting Started with ReLax](tutorials/getting_started.ipynb).\n",
    "\n",
    "## Citing `ReLax`\n",
    "\n",
    "To cite this repository:\n",
    "\n",
    "```latex\n",
    "@software{relax2023github,\n",
    "  author = {Hangzhi Guo and Xinchang Xiong and Amulya Yadav},\n",
    "  title = {{R}e{L}ax: Recourse Explanation Library in Jax},\n",
    "  url = {http://github.com/birkhoffg/ReLax},\n",
    "  version = {0.1.0},\n",
    "  year = {2023},\n",
    "}\n",
    "```"
   ]
  }
 ],
 "metadata": {
  "kernelspec": {
   "display_name": "nbdev2",
   "language": "python",
   "name": "python3"
  }
 },
 "nbformat": 4,
 "nbformat_minor": 2
}
