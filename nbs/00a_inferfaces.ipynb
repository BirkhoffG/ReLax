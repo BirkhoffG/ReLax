{
 "cells": [
  {
   "cell_type": "markdown",
   "metadata": {},
   "source": [
    "# Interfaces"
   ]
  },
  {
   "cell_type": "code",
   "execution_count": null,
   "metadata": {},
   "outputs": [],
   "source": [
    "#| default_exp interfaces"
   ]
  },
  {
   "cell_type": "code",
   "execution_count": null,
   "metadata": {},
   "outputs": [],
   "source": [
    "#| include: false\n",
    "%load_ext autoreload\n",
    "%autoreload 2\n",
    "from ipynb_path import *"
   ]
  },
  {
   "cell_type": "code",
   "execution_count": null,
   "metadata": {},
   "outputs": [],
   "source": [
    "#| export\n",
    "from cfnet.import_essentials import *\n",
    "from cfnet.datasets import TabularDataModule\n",
    "from copy import deepcopy"
   ]
  },
  {
   "cell_type": "code",
   "execution_count": null,
   "metadata": {},
   "outputs": [],
   "source": [
    "#| export\n",
    "class BaseCFExplanationModule(ABC):\n",
    "    cat_arrays = []\n",
    "    cat_idx = 0\n",
    "\n",
    "    @property\n",
    "    @abstractmethod\n",
    "    def name(self):\n",
    "        pass\n",
    "\n",
    "    @abstractmethod\n",
    "    def generate_cfs(\n",
    "        self,\n",
    "        X: chex.ArrayBatched,\n",
    "        pred_fn: Optional[Callable] = None,\n",
    "        params: Optional[hk.Params] = None,\n",
    "        rng_key: Optional[random.PRNGKey] = None,\n",
    "    ) -> chex.ArrayBatched:\n",
    "        pass\n",
    "\n",
    "    def update_cat_info(self, data_module: TabularDataModule):\n",
    "        self.cat_arrays = deepcopy(data_module.cat_arrays)\n",
    "        self.cat_idx = data_module.cat_idx\n",
    "        self.imutable_idx_list = data_module.imutable_idx_list\n",
    "\n",
    "    # @abstractmethod\n",
    "    # def generate_cf_results(\n",
    "    #     self,\n",
    "    #     dm: TabularDataModule,\n",
    "    #     pred_fn: Optional[Callable] = None) -> CFExplanationResults:\n",
    "    #     pass\n"
   ]
  },
  {
   "cell_type": "code",
   "execution_count": null,
   "metadata": {},
   "outputs": [],
   "source": [
    "#| export\n",
    "class LocalCFExplanationModule(BaseCFExplanationModule):\n",
    "    pred_fn: Callable[[jnp.DeviceArray], jnp.DeviceArray]"
   ]
  },
  {
   "cell_type": "code",
   "execution_count": null,
   "metadata": {},
   "outputs": [],
   "source": []
  }
 ],
 "metadata": {
  "kernelspec": {
   "display_name": "Python 3.7.12 ('nbdev2')",
   "language": "python",
   "name": "python3"
  }
 },
 "nbformat": 4,
 "nbformat_minor": 2
}
