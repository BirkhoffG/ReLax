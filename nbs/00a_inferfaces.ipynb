{
 "cells": [
  {
   "cell_type": "markdown",
   "metadata": {},
   "source": [
    "# Interfaces"
   ]
  },
  {
   "cell_type": "code",
   "execution_count": null,
   "metadata": {},
   "outputs": [],
   "source": [
    "# default_exp interfaces"
   ]
  },
  {
   "cell_type": "code",
   "execution_count": null,
   "metadata": {},
   "outputs": [],
   "source": [
    "# hide\n",
    "%load_ext autoreload\n",
    "%autoreload 2\n",
    "from ipynb_path import *"
   ]
  },
  {
   "cell_type": "code",
   "execution_count": null,
   "metadata": {},
   "outputs": [],
   "source": [
    "# export\n",
    "from cfnet.import_essentials import *\n",
    "from cfnet.datasets import TabularDataModule\n",
    "from copy import deepcopy"
   ]
  },
  {
   "cell_type": "code",
   "execution_count": null,
   "metadata": {},
   "outputs": [],
   "source": [
    "# export\n",
    "class BaseCFExplanationModule(ABC):\n",
    "    cat_arrays = []\n",
    "    cat_idx = 0\n",
    "\n",
    "    @property\n",
    "    @abstractmethod\n",
    "    def name(self):\n",
    "        pass\n",
    "\n",
    "    @abstractmethod\n",
    "    def generate_cfs(\n",
    "        self,\n",
    "        X: chex.ArrayBatched,\n",
    "        pred_fn: Optional[Callable] = None,\n",
    "        params: Optional[hk.Params] = None,\n",
    "        rng_key: Optional[random.PRNGKey] = None\n",
    "    ) -> chex.ArrayBatched:\n",
    "        pass\n",
    "\n",
    "    def update_cat_info(self, data_module: TabularDataModule):\n",
    "        self.cat_arrays = deepcopy(data_module.cat_arrays)\n",
    "        self.cat_idx = data_module.cat_idx\n",
    "\n",
    "    # @abstractmethod\n",
    "    # def generate_cf_results(\n",
    "    #     self,\n",
    "    #     dm: TabularDataModule,\n",
    "    #     pred_fn: Optional[Callable] = None) -> CFExplanationResults:\n",
    "    #     pass"
   ]
  },
  {
   "cell_type": "code",
   "execution_count": null,
   "metadata": {},
   "outputs": [],
   "source": [
    "# export\n",
    "class LocalCFExplanationModule(BaseCFExplanationModule):\n",
    "    pred_fn: Callable[[jnp.DeviceArray], jnp.DeviceArray]"
   ]
  },
  {
   "cell_type": "code",
   "execution_count": null,
   "metadata": {},
   "outputs": [
    {
     "name": "stderr",
     "output_type": "stream",
     "text": [
      "[autoreload of cfnet.train failed: Traceback (most recent call last):\n",
      "  File \"/home/birk/miniconda3/lib/python3.7/site-packages/IPython/extensions/autoreload.py\", line 245, in check\n",
      "    superreload(m, reload, self.old_objects)\n",
      "  File \"/home/birk/miniconda3/lib/python3.7/site-packages/IPython/extensions/autoreload.py\", line 410, in superreload\n",
      "    update_generic(old_obj, new_obj)\n",
      "  File \"/home/birk/miniconda3/lib/python3.7/site-packages/IPython/extensions/autoreload.py\", line 347, in update_generic\n",
      "    update(a, b)\n",
      "  File \"/home/birk/miniconda3/lib/python3.7/site-packages/IPython/extensions/autoreload.py\", line 317, in update_class\n",
      "    update_instances(old, new)\n",
      "  File \"/home/birk/miniconda3/lib/python3.7/site-packages/IPython/extensions/autoreload.py\", line 280, in update_instances\n",
      "    ref.__class__ = new\n",
      "  File \"pydantic/main.py\", line 357, in pydantic.main.BaseModel.__setattr__\n",
      "ValueError: \"TrainingConfigs\" object has no field \"__class__\"\n",
      "]\n",
      "[autoreload of cfnet.training_module failed: Traceback (most recent call last):\n",
      "  File \"/home/birk/miniconda3/lib/python3.7/site-packages/IPython/extensions/autoreload.py\", line 245, in check\n",
      "    superreload(m, reload, self.old_objects)\n",
      "  File \"/home/birk/miniconda3/lib/python3.7/site-packages/IPython/extensions/autoreload.py\", line 410, in superreload\n",
      "    update_generic(old_obj, new_obj)\n",
      "  File \"/home/birk/miniconda3/lib/python3.7/site-packages/IPython/extensions/autoreload.py\", line 347, in update_generic\n",
      "    update(a, b)\n",
      "  File \"/home/birk/miniconda3/lib/python3.7/site-packages/IPython/extensions/autoreload.py\", line 317, in update_class\n",
      "    update_instances(old, new)\n",
      "  File \"/home/birk/miniconda3/lib/python3.7/site-packages/IPython/extensions/autoreload.py\", line 280, in update_instances\n",
      "    ref.__class__ = new\n",
      "  File \"pydantic/main.py\", line 357, in pydantic.main.BaseModel.__setattr__\n",
      "ValueError: \"PredictiveTrainingModuleConfigs\" object has no field \"__class__\"\n",
      "]\n"
     ]
    }
   ],
   "source": [
    "# export utils\n",
    "def check_cat_info(method):\n",
    "    def inner(cf_module, *args, **kwargs):\n",
    "        warning_msg = f\"\"\"This CFExplanationModule might not be updated with categorical information.\n",
    "You should try `{cf_module.name}.update_cat_info(dm)` before generating cfs.\n",
    "        \"\"\"\n",
    "        if cf_module.cat_idx == 0 and cf_module.cat_arrays == []:\n",
    "            warnings.warn(warning_msg, RuntimeWarning)\n",
    "        return method(cf_module, *args, **kwargs)\n",
    "    return inner"
   ]
  },
  {
   "cell_type": "code",
   "execution_count": null,
   "metadata": {},
   "outputs": [],
   "source": []
  }
 ],
 "metadata": {
  "kernelspec": {
   "display_name": "Python 3.7.10 ('base')",
   "language": "python",
   "name": "python3"
  }
 },
 "nbformat": 4,
 "nbformat_minor": 2
}
