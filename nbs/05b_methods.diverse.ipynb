{
 "cells": [
  {
   "cell_type": "markdown",
   "metadata": {},
   "source": [
    "# Diverse CF\n",
    "\n",
    "Paper link: https://arxiv.org/abs/1905.07697"
   ]
  },
  {
   "cell_type": "code",
   "execution_count": null,
   "metadata": {},
   "outputs": [],
   "source": [
    "# default_exp methods.diverse"
   ]
  },
  {
   "cell_type": "code",
   "execution_count": null,
   "metadata": {},
   "outputs": [],
   "source": [
    "# hide\n",
    "%load_ext autoreload\n",
    "%autoreload 2\n",
    "from ipynb_path import *"
   ]
  },
  {
   "cell_type": "code",
   "execution_count": null,
   "metadata": {},
   "outputs": [
    {
     "name": "stderr",
     "output_type": "stream",
     "text": [
      "/home/birk/miniconda3/lib/python3.7/site-packages/haiku/_src/data_structures.py:37: FutureWarning: jax.tree_structure is deprecated, and will be removed in a future release. Use jax.tree_util.tree_structure instead.\n",
      "  PyTreeDef = type(jax.tree_structure(None))\n",
      "/home/birk/miniconda3/lib/python3.7/site-packages/chex/_src/pytypes.py:37: FutureWarning: jax.tree_structure is deprecated, and will be removed in a future release. Use jax.tree_util.tree_structure instead.\n",
      "  PyTreeDef = type(jax.tree_structure(None))\n"
     ]
    }
   ],
   "source": [
    "# export\n",
    "from cfnet.import_essentials import *\n",
    "from cfnet.interfaces import BaseCFExplanationModule, LocalCFExplanationModule\n",
    "from cfnet.datasets import TabularDataModule\n",
    "from cfnet.training_module import grad_update\n",
    "from cfnet.utils import check_cat_info, validate_configs, binary_cross_entropy, cat_normalize, dist"
   ]
  },
  {
   "cell_type": "code",
   "execution_count": null,
   "metadata": {},
   "outputs": [],
   "source": [
    "# exporti\n",
    "def hinge_loss(input: jnp.DeviceArray, target: jnp.DeviceArray):\n",
    "    \"\"\"\n",
    "    reference:\n",
    "    - https://github.com/interpretml/DiCE/blob/a772c8d4fcd88d1cab7f2e02b0bcc045dc0e2eab/dice_ml/explainer_interfaces/dice_pytorch.py#L196-L202\n",
    "    - https://en.wikipedia.org/wiki/Hinge_loss\n",
    "    \"\"\"\n",
    "    input = jnp.log((jnp.abs(input - 1e-6) / (1 - jnp.abs(input - 1e-6))))\n",
    "    all_ones = jnp.ones_like(target)\n",
    "    target = 2 * target - all_ones\n",
    "    loss = all_ones - target * input\n",
    "    loss = jax.nn.relu(loss)\n",
    "    return jnp.linalg.norm(loss)"
   ]
  },
  {
   "cell_type": "code",
   "execution_count": null,
   "metadata": {},
   "outputs": [],
   "source": [
    "# exporti\n",
    "def l1_mean(X, cfs):\n",
    "    x_mean = jnp.mean(jnp.abs(X))\n",
    "    l1_loss = jnp.mean(jnp.abs(X - cfs))\n",
    "    return l1_loss / x_mean"
   ]
  },
  {
   "cell_type": "code",
   "execution_count": null,
   "metadata": {},
   "outputs": [],
   "source": [
    "# exporti\n",
    "def dpp_style(cf: jnp.DeviceArray, n_cfs: int):\n",
    "    det_entries = jnp.ones((n_cfs, n_cfs))\n",
    "    for i in range(n_cfs):\n",
    "        for j in range(n_cfs):\n",
    "            det_entries.at[i, j].set(dist(cf[i], cf[j], ord=1))\n",
    "\n",
    "    det_entries = 1. / (1. + det_entries)\n",
    "    det_entries += jnp.eye(n_cfs) * 0.0001\n",
    "    return jnp.linalg.det(det_entries)"
   ]
  },
  {
   "cell_type": "code",
   "execution_count": null,
   "metadata": {},
   "outputs": [],
   "source": [
    "# exporti\n",
    "def _compute_regularization_loss(cfs, cat_idx, cat_arrays, n_cfs):\n",
    "    # cat_idx = len(self.model.continous_cols)\n",
    "    regularization_loss = 0.\n",
    "    for i in range(n_cfs):\n",
    "        for col in cat_arrays:\n",
    "            cat_idx_end = cat_idx + len(col)\n",
    "            regularization_loss += jnp.power((jnp.sum(cfs[i][cat_idx: cat_idx_end]) - 1.0), 2)\n",
    "    return regularization_loss"
   ]
  },
  {
   "cell_type": "code",
   "execution_count": null,
   "metadata": {},
   "outputs": [],
   "source": [
    "# exporti\n",
    "def _diverse_cf(\n",
    "    x: jnp.DeviceArray, # `x` shape: (k,), where `k` is the number of features\n",
    "    pred_fn: Callable[[jnp.DeviceArray], jnp.DeviceArray], # y = pred_fn(x)\n",
    "    n_cfs: int,\n",
    "    n_steps: int,\n",
    "    lr: float, # learning rate for each `cf` optimization step\n",
    "    lambda_: float, #  loss = validity_loss + lambda_params * cost\n",
    "    cat_arrays: List[List[str]],\n",
    "    cat_idx: int,\n",
    "    key: jax.random.PRNGKey\n",
    ") -> jnp.DeviceArray: # return `cf` shape: (k,)\n",
    "    def loss_fn_1(cf_y: jnp.DeviceArray, y_prime: jnp.DeviceArray):\n",
    "        return jnp.mean(hinge_loss(input=cf_y, target=y_prime))\n",
    "\n",
    "    def loss_fn_2(x: jnp.DeviceArray, cf: jnp.DeviceArray):\n",
    "        return jnp.mean(jnp.abs(cf - x))\n",
    "\n",
    "    def loss_fn_3(cfs: jnp.DeviceArray, n_cfs: int):\n",
    "        return dpp_style(cfs, n_cfs)\n",
    "\n",
    "    def loss_fn_4(cfs, cat_idx, cat_arrays, n_cfs):\n",
    "        return _compute_regularization_loss(cfs, cat_idx, cat_arrays, n_cfs)\n",
    "\n",
    "    def loss_fn(\n",
    "        cf: jnp.DeviceArray, # `cf` shape: (k, n_cfs)\n",
    "        x: jnp.DeviceArray,  # `x` shape: (k, 1)\n",
    "        pred_fn: Callable[[jnp.DeviceArray], jnp.DeviceArray]\n",
    "    ):\n",
    "        y_pred = pred_fn(x)\n",
    "        y_prime = 1. - y_pred\n",
    "        cf_y = pred_fn(cf)\n",
    "\n",
    "        loss_1 = loss_fn_1(cf_y, y_prime)\n",
    "        loss_2 = loss_fn_2(x, cf)\n",
    "        loss_3 = loss_fn_3(cf, n_cfs)\n",
    "        loss_4 = loss_fn_4(cf, cat_idx, cat_arrays, n_cfs)\n",
    "        return loss_1 + loss_2 + loss_3 + loss_4\n",
    "\n",
    "    @jax.jit\n",
    "    def gen_cf_step(\n",
    "        x: jnp.DeviceArray, cf: jnp.DeviceArray, opt_state: optax.OptState\n",
    "    ) -> Tuple[jnp.DeviceArray, optax.OptState]:\n",
    "        cf_grads = jax.grad(loss_fn)(cf, x, pred_fn)\n",
    "        cf, opt_state = grad_update(cf_grads, cf, opt_state, opt)\n",
    "        cf = cat_normalize(\n",
    "            cf, cat_arrays=cat_arrays, cat_idx=cat_idx, hard=False)\n",
    "        cf = jnp.clip(cf, 0., 1.)\n",
    "        return cf, opt_state\n",
    "\n",
    "    x_size = x.shape\n",
    "    if len(x_size) > 1 and x_size[0] != 1:\n",
    "        raise ValueError(f\"\"\"Invalid Input Shape: Require `x.shape` = (1, k) or (k, ),\n",
    "but got `x.shape` = {x.shape}. This method expects a single input instance.\"\"\")\n",
    "    if len(x_size) == 1:\n",
    "        x = x.reshape(1, -1)\n",
    "    cfs = jax.random.normal(key, shape=(n_cfs, x.shape[-1]))\n",
    "    opt = optax.rmsprop(lr)\n",
    "    opt_state = opt.init(cfs)\n",
    "    for _ in tqdm(range(n_steps)):\n",
    "        cfs, opt_state = gen_cf_step(x, cfs, opt_state)\n",
    "    cf = cat_normalize(\n",
    "        cfs[:1, :], cat_arrays=cat_arrays, cat_idx=cat_idx, hard=True)\n",
    "    return cf.reshape(x_size)"
   ]
  },
  {
   "cell_type": "code",
   "execution_count": null,
   "metadata": {},
   "outputs": [],
   "source": [
    "# export \n",
    "class DiverseCFConfig(BaseParser):\n",
    "    n_cfs: int = 5\n",
    "    n_steps: int = 1000\n",
    "    lr: float = 0.01\n",
    "    lambda_: float = 0.01 # loss = validity_loss + lambda_params * cost\n",
    "    seed: int = 42\n",
    "\n",
    "    @property\n",
    "    def keys(self):\n",
    "        return hk.PRNGSequence(self.seed)"
   ]
  },
  {
   "cell_type": "code",
   "execution_count": null,
   "metadata": {},
   "outputs": [],
   "source": [
    "# export\n",
    "class DiverseCF(LocalCFExplanationModule):\n",
    "    name = \"DiverseCF\"\n",
    "\n",
    "    def __init__(self,\n",
    "        configs: Union[Dict[str, Any], DiverseCFConfig],\n",
    "        data_module: Optional[TabularDataModule] = None\n",
    "    ):\n",
    "        self.configs = validate_configs(configs, DiverseCFConfig)\n",
    "        if data_module:\n",
    "            self.update_cat_info(data_module)\n",
    "\n",
    "    def generate_cf(self,\n",
    "        x: jnp.ndarray, # `x` shape: (k,), where `k` is the number of features\n",
    "        pred_fn: Callable[[jnp.DeviceArray], jnp.DeviceArray]\n",
    "    ) -> jnp.DeviceArray:\n",
    "        return _diverse_cf(\n",
    "            x= x, # `x` shape: (k,), where `k` is the number of features\n",
    "            pred_fn=pred_fn, # y = pred_fn(x)\n",
    "            n_cfs=self.configs.n_cfs,\n",
    "            n_steps=self.configs.n_steps,\n",
    "            lr=self.configs.lr, # learning rate for each `cf` optimization step\n",
    "            lambda_=self.configs.lambda_, #  loss = validity_loss + lambda_params * cost\n",
    "            cat_arrays=self.cat_arrays,\n",
    "            cat_idx=self.cat_idx,\n",
    "            key=next(self.configs.keys)\n",
    "        )\n",
    "\n",
    "    @check_cat_info\n",
    "    def generate_cfs(\n",
    "        self,\n",
    "        X: jnp.DeviceArray, # `x` shape: (b, k), where `b` is batch size, `k` is the number of features\n",
    "        pred_fn: Callable[[jnp.DeviceArray], jnp.DeviceArray],\n",
    "        is_parallel: bool = False\n",
    "    ) -> jnp.DeviceArray:\n",
    "        def _generate_cf(x: jnp.DeviceArray) -> jnp.ndarray:\n",
    "            return self.generate_cf(x, pred_fn)\n",
    "        return jax.vmap(_generate_cf)(X) if not is_parallel else jax.pmap(_generate_cf)(X)"
   ]
  },
  {
   "cell_type": "markdown",
   "metadata": {},
   "source": [
    "## Test"
   ]
  },
  {
   "cell_type": "code",
   "execution_count": null,
   "metadata": {},
   "outputs": [],
   "source": [
    "data_configs = {\n",
    "    \"data_dir\": \"assets/data/s_adult.csv\",\n",
    "    \"data_name\": \"adult\",\n",
    "    \"batch_size\": 256,\n",
    "    'sample_frac': 0.1,\n",
    "    \"continous_cols\": [\n",
    "        \"age\",\n",
    "        \"hours_per_week\"\n",
    "    ],\n",
    "    \"discret_cols\": [\n",
    "        \"workclass\",\n",
    "        \"education\",\n",
    "        \"marital_status\",\n",
    "        \"occupation\",\n",
    "        \"race\",\n",
    "        \"gender\"\n",
    "    ],\n",
    "}\n",
    "m_configs = {\n",
    "    \"sizes\": [50, 10, 50],\n",
    "    \"dropout_rate\": 0.3,\n",
    "    'lr': 0.03,\n",
    "}\n",
    "t_configs = {\n",
    "    'n_epochs': 10,\n",
    "    'monitor_metrics': 'val/val_loss'\n",
    "}"
   ]
  },
  {
   "cell_type": "code",
   "execution_count": null,
   "metadata": {},
   "outputs": [
    {
     "name": "stderr",
     "output_type": "stream",
     "text": [
      "WARNING:absl:No GPU/TPU found, falling back to CPU. (Set TF_CPP_MIN_LOG_LEVEL=0 and rerun for more info.)\n",
      "Epoch 9: 100%|██████████| 10/10 [00:00<00:00, 92.52batch/s, train/train_loss_1=0.054]\n"
     ]
    }
   ],
   "source": [
    "from cfnet.training_module import PredictiveTrainingModule\n",
    "from cfnet.train import train_model\n",
    "\n",
    "training_module = PredictiveTrainingModule(m_configs)\n",
    "\n",
    "params, opt_state = train_model(\n",
    "    training_module, \n",
    "    TabularDataModule(data_configs), \n",
    "    t_configs\n",
    ")"
   ]
  },
  {
   "cell_type": "code",
   "execution_count": null,
   "metadata": {},
   "outputs": [],
   "source": [
    "dm = TabularDataModule(data_configs)\n",
    "pred_fn = lambda x: training_module.forward(params, random.PRNGKey(0), x, is_training=False)\n",
    "\n",
    "cf_exp = DiverseCF(\n",
    "    configs=DiverseCFConfig(n_steps=1000)\n",
    ")\n",
    "cf_exp.update_cat_info(dm)\n",
    "\n",
    "X, y = dm.test_dataset[:]\n"
   ]
  },
  {
   "cell_type": "code",
   "execution_count": null,
   "metadata": {},
   "outputs": [
    {
     "data": {
      "text/plain": [
       "DeviceArray(0.806412, dtype=float32)"
      ]
     },
     "execution_count": null,
     "metadata": {},
     "output_type": "execute_result"
    }
   ],
   "source": [
    "jnp.sum(jnp.round(pred_fn(X)) == y) / len(X)"
   ]
  },
  {
   "cell_type": "code",
   "execution_count": null,
   "metadata": {},
   "outputs": [
    {
     "name": "stderr",
     "output_type": "stream",
     "text": [
      "100%|██████████| 1000/1000 [00:01<00:00, 573.16it/s]\n"
     ]
    }
   ],
   "source": [
    "cf = cf_exp.generate_cf(X[0], pred_fn=pred_fn)"
   ]
  },
  {
   "cell_type": "code",
   "execution_count": null,
   "metadata": {},
   "outputs": [
    {
     "name": "stderr",
     "output_type": "stream",
     "text": [
      "100%|██████████| 1000/1000 [00:28<00:00, 34.92it/s]\n"
     ]
    }
   ],
   "source": [
    "cfs = cf_exp.generate_cfs(X, pred_fn=pred_fn)"
   ]
  },
  {
   "cell_type": "code",
   "execution_count": null,
   "metadata": {},
   "outputs": [],
   "source": [
    "y_pred = pred_fn(X)\n",
    "cf_pred = pred_fn(cfs)"
   ]
  },
  {
   "cell_type": "code",
   "execution_count": null,
   "metadata": {},
   "outputs": [],
   "source": [
    "y_prime = 1. - jnp.round(y_pred)\n",
    "validity = jnp.sum(jnp.round(cf_pred) == y_prime) / len(cf_pred)"
   ]
  },
  {
   "cell_type": "code",
   "execution_count": null,
   "metadata": {},
   "outputs": [
    {
     "data": {
      "text/plain": [
       "DeviceArray(0.79056627, dtype=float32)"
      ]
     },
     "execution_count": null,
     "metadata": {},
     "output_type": "execute_result"
    }
   ],
   "source": [
    "validity"
   ]
  }
 ],
 "metadata": {
  "kernelspec": {
   "display_name": "Python 3.7.10 ('base')",
   "language": "python",
   "name": "python3"
  }
 },
 "nbformat": 4,
 "nbformat_minor": 2
}
