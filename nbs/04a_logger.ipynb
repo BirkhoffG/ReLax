{
 "cells": [
  {
   "cell_type": "markdown",
   "metadata": {},
   "source": [
    "# Logger"
   ]
  },
  {
   "cell_type": "code",
   "execution_count": null,
   "metadata": {},
   "outputs": [],
   "source": [
    "#| default_exp logger"
   ]
  },
  {
   "cell_type": "code",
   "execution_count": null,
   "metadata": {},
   "outputs": [],
   "source": [
    "#| include: false\n",
    "%load_ext autoreload\n",
    "%autoreload 2\n",
    "from ipynb_path import *\n"
   ]
  },
  {
   "cell_type": "code",
   "execution_count": null,
   "metadata": {},
   "outputs": [],
   "source": [
    "#| export\n",
    "from __future__ import annotations\n",
    "from cfnet.import_essentials import *\n",
    "import test_tube\n",
    "from collections import defaultdict"
   ]
  },
  {
   "cell_type": "code",
   "execution_count": null,
   "metadata": {},
   "outputs": [],
   "source": [
    "#| export\n",
    "class TensorboardLogger:\n",
    "    _last_logs: Dict = dict()\n",
    "\n",
    "    def __init__(self, log_dir: Union[str, Path], name: str, on_step: bool = False):\n",
    "        self._log_dir = log_dir\n",
    "        self._on_step = on_step\n",
    "        self.experiment = test_tube.Experiment(name=name, save_dir=log_dir)\n",
    "        self._epoch_logs = defaultdict(list)\n",
    "\n",
    "    @property\n",
    "    def log_dir(self):\n",
    "        name = self.experiment.name\n",
    "        version = self.experiment.version\n",
    "        return self.experiment.get_data_path(name, version)\n",
    "\n",
    "    def save_hyperparams(self, hparams: dict | BaseParser):\n",
    "        if issubclass(type(hparams), BaseParser): \n",
    "            hparams = hparams.dict()\n",
    "        if isinstance(hparams, dict):\n",
    "            self.experiment.tag(hparams)\n",
    "        else:\n",
    "            raise ValueError(f\"hparams should be either `dict`, or a sublcass of `BaseParser`\",\n",
    "                f\"but got {type(hparams)}.\")            \n",
    "        \n",
    "\n",
    "    def log(self, name: str, value: Any):\n",
    "        self.log_dict({name: value})\n",
    "\n",
    "    def log_dict(self, dictionary: Dict[str, float]):\n",
    "        for k, v in dictionary.items():\n",
    "            self._epoch_logs[k].append(v)\n",
    "\n",
    "        # log to test_tube if on_step is True\n",
    "        if self._on_step:\n",
    "            self.experiment.log(dictionary)\n",
    "        self._last_logs = dictionary\n",
    "\n",
    "    def get_last_logs(self):\n",
    "        return self._last_logs\n",
    "\n",
    "    def on_epoch_started(self):\n",
    "        self._epoch_logs = defaultdict(list)\n",
    "\n",
    "    def on_epoch_finished(self):\n",
    "        epoch_logs = {f\"{k}_epoch\": np.mean(v) for k, v in self._epoch_logs.items()}\n",
    "        self.experiment.log(epoch_logs)\n",
    "        return epoch_logs\n",
    "\n",
    "    def close(self):\n",
    "        self.experiment.save()\n",
    "        self.experiment.close()"
   ]
  },
  {
   "cell_type": "code",
   "execution_count": null,
   "metadata": {},
   "outputs": [],
   "source": [
    "logger = TensorboardLogger('log', name='debug')\n",
    "logger.save_hyperparams({'lr': 0.01})\n",
    "logger.log_dict({'train/train_loss_1': 0.1, 'epoch': 0})\n",
    "logger.log_dict({'train/train_loss_1': 0.1})\n",
    "logger.log_dict({'train/train_loss_1': 0.05})\n",
    "\n",
    "logger.log_dict({'train/train_loss_1': 0.07, 'epoch': 1})\n",
    "logger.log_dict({'train/train_loss_1': 0.05, })\n",
    "logger.log_dict({'train/train_loss_1': 0.05, 'epoch': 2})\n",
    "\n",
    "logger.close()"
   ]
  }
 ],
 "metadata": {
  "kernelspec": {
   "display_name": "Python 3.7.15 ('nbdev2')",
   "language": "python",
   "name": "python3"
  },
  "language_info": {
   "codemirror_mode": {
    "name": "ipython",
    "version": 3
   },
   "file_extension": ".py",
   "mimetype": "text/x-python",
   "name": "python",
   "nbconvert_exporter": "python",
   "pygments_lexer": "ipython3",
   "version": "3.7.15"
  },
  "vscode": {
   "interpreter": {
    "hash": "0ac96ee23b95b4118768073706f37cdea4905e0d36379010678a0d912eb0f9ec"
   }
  }
 },
 "nbformat": 4,
 "nbformat_minor": 2
}
