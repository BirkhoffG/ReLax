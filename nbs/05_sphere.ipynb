{
 "cells": [
  {
   "attachments": {},
   "cell_type": "markdown",
   "metadata": {},
   "source": [
    "# Growing Sphere"
   ]
  },
  {
   "cell_type": "code",
   "execution_count": null,
   "metadata": {},
   "outputs": [],
   "source": [
    "#| default_exp methods.sphere"
   ]
  },
  {
   "cell_type": "code",
   "execution_count": null,
   "metadata": {},
   "outputs": [
    {
     "name": "stdout",
     "output_type": "stream",
     "text": [
      "The autoreload extension is already loaded. To reload it, use:\n",
      "  %reload_ext autoreload\n"
     ]
    }
   ],
   "source": [
    "#| include: false\n",
    "%load_ext autoreload\n",
    "%autoreload 2\n",
    "from ipynb_path import *\n",
    "from nbdev import show_doc\n",
    "import warnings\n",
    "warnings.simplefilter(action='ignore', category=FutureWarning)"
   ]
  },
  {
   "cell_type": "code",
   "execution_count": null,
   "metadata": {},
   "outputs": [],
   "source": [
    "#| export\n",
    "from __future__ import annotations\n",
    "from relax.import_essentials import *\n",
    "from relax.methods.base import BaseCFModule\n",
    "from relax.utils import *"
   ]
  },
  {
   "cell_type": "code",
   "execution_count": null,
   "metadata": {},
   "outputs": [],
   "source": [
    "#| export\n",
    "def hyper_sphere_coordindates(\n",
    "    rng_key: jrand.PRNGKey, # Random number generator key\n",
    "    x: Array, # Input instance with only continuous features. Shape: (1, n_features)\n",
    "    n_samples: int, # Number of samples\n",
    "    high: float, # Upper bound\n",
    "    low: float, # Lower bound\n",
    "    p_norm: int = 2 # Norm\n",
    "):\n",
    "    # Adapted from \n",
    "    # https://github.com/carla-recourse/CARLA/blob/24db00aa8616eb2faedea0d6edf6e307cee9d192/carla/recourse_methods/catalog/growing_spheres/library/gs_counterfactuals.py#L8\n",
    "    key_1, key_2 = jrand.split(rng_key)\n",
    "    delta = jrand.normal(key_1, shape=(n_samples, x.shape[-1]))\n",
    "    dist = jrand.uniform(key_2, shape=(n_samples,)) * (high - low) + low\n",
    "    norm_p = jnp.linalg.norm(delta, ord=p_norm, axis=1)\n",
    "    d_norm = jnp.divide(dist, norm_p).reshape(-1, 1)  # rescale/normalize factor\n",
    "    delta = jnp.multiply(delta, d_norm)\n",
    "    candidates = x + delta\n",
    "\n",
    "    return candidates"
   ]
  },
  {
   "cell_type": "code",
   "execution_count": null,
   "metadata": {},
   "outputs": [],
   "source": [
    "#| export\n",
    "def cat_sample(\n",
    "    rng_key: jrand.PRNGKey, # Random number generator key\n",
    "    x: Array, # Input instance with only categorical features. Shape: (1, n_features)\n",
    "    cat_arrays: List[List[str]],  # A list of a list of each categorical feature name\n",
    "    n_samples: int,  # Number of samples to sample\n",
    "): \n",
    "    def sample_categorical(rng_key: jrand.PRNGKey, col: np.ndarray):\n",
    "        rng_key, subkey = jrand.split(rng_key)\n",
    "        prob = jnp.ones(len(col)) / len(col)\n",
    "        cat_sample = jax.nn.one_hot(\n",
    "            jrand.categorical(rng_key, prob, shape=(n_samples,)), num_classes=len(col)\n",
    "        )\n",
    "        return rng_key, cat_sample\n",
    "    \n",
    "    candidates = []\n",
    "    # We cannot use lax.scan here because cat_arrays is List[List[str]], not and can't ben an Array\n",
    "    for col in cat_arrays:\n",
    "        rng_key, cat_sample = sample_categorical(rng_key, col)\n",
    "        candidates.append(cat_sample)\n",
    "    candidates = jnp.concatenate(candidates, axis=1)\n",
    "    return candidates"
   ]
  },
  {
   "cell_type": "code",
   "execution_count": null,
   "metadata": {},
   "outputs": [],
   "source": [
    "#| export\n",
    "def _growing_spheres(\n",
    "    rng_key: jrand.PRNGKey, # Random number generator key\n",
    "    x: Array, # Input instance. Shape: (n_features)\n",
    "    pred_fn: Callable, # Prediction function\n",
    "    n_steps: int, # Number of steps\n",
    "    n_samples: int,  # Number of samples to sample\n",
    "    cat_idx: int, # Index of categorical features\n",
    "    cat_arrays: List[List[str]],  # A list of a list of each categorical feature name\n",
    "    step_size: float, # Step size\n",
    "    p_norm: int, # Norm\n",
    "    apply_fn: Callable # Apply immutable constraints\n",
    "):\n",
    "    \n",
    "    def cond_fn(state):\n",
    "        candidate_cf, count, _ = state\n",
    "        # TODO: check candidate_cf is not empty\n",
    "        \n",
    "        return (not candidate_cf) & (count < n_steps)\n",
    "    \n",
    "    def body_fn(state):\n",
    "        candidate_cf, count, rng_key = state\n",
    "        rng_key, subkey_1, subkey_2 = jrand.split(rng_key, num=3)\n",
    "        low, high = step_size * count, step_size * (count + 1)\n",
    "        # Sample around x\n",
    "        cont_candidates = hyper_sphere_coordindates(subkey_1, x[:, :cat_idx], n_samples, high, low, p_norm)\n",
    "        cat_candidates = cat_sample(subkey_2, x[:, cat_idx:], cat_arrays, n_samples)\n",
    "        candidates = jnp.concatenate([cont_candidates, cat_candidates], axis=1)\n",
    "        # Apply immutable constraints\n",
    "        candidates = apply_fn(x=x, cf=candidates)\n",
    "        assert candidates.shape[1] == x.shape[1], f\"candidates.shape = {candidates.shape}, x.shape = {x.shape}\"\n",
    "\n",
    "        # Calculate distance\n",
    "        if p_norm == 1:\n",
    "            dist = jnp.abs(candidates - x).sum(axis=1)\n",
    "        elif p_norm == 2:\n",
    "            dist = jnp.linalg.norm(candidates - x, ord=2, axis=1)\n",
    "        else:\n",
    "            raise ValueError(\"Only p_norm = 1 or 2 is supported\")\n",
    "\n",
    "        # Calculate counterfactual labels\n",
    "        candidate_preds = pred_fn(candidates).round().reshape(-1)\n",
    "        # print(candidate_preds != y_pred)\n",
    "        indices = jnp.where(candidate_preds != y_pred, 1, 0).astype(bool)\n",
    "\n",
    "        # candidates = candidates[indices]\n",
    "        candidates = jnp.where(indices.reshape(-1, 1), candidates, jnp.empty_like(candidates))\n",
    "        # dist = dist[indices]\n",
    "        dist = jnp.where(indices.reshape(-1, 1), dist, jnp.empty_like(dist))\n",
    "\n",
    "        if len(candidates) > 0:\n",
    "            # Find the closest counterfactual\n",
    "            closest_idx = dist.argmin()\n",
    "            candidate_cf = candidates[closest_idx]\n",
    "\n",
    "        return candidate_cf, count + 1, rng_key\n",
    "    \n",
    "\n",
    "    x_size = x.shape\n",
    "    if len(x_size) > 1 and x_size[0] != 1:\n",
    "        raise ValueError(\n",
    "            f\"Invalid Input Shape: Require `x.shape` = (1, k) or (k, ), \"\n",
    "            f\"but got `x.shape` = {x.shape}. This method expects a single input instance.\"\n",
    "        )\n",
    "    if len(x_size) == 1:\n",
    "        x = x.reshape(1, -1)\n",
    "\n",
    "    y_pred = pred_fn(x).round().reshape(-1)\n",
    "    candidate_cf = jnp.empty_like(x)\n",
    "    count = 0\n",
    "    state = (candidate_cf, count, rng_key)\n",
    "    candidate_cf, _, _ = lax.while_loop(cond_fn, body_fn, state)\n",
    "    return candidate_cf"
   ]
  },
  {
   "cell_type": "code",
   "execution_count": null,
   "metadata": {},
   "outputs": [],
   "source": [
    "#| export\n",
    "def apply_immutable(x: Array, cf: Array, immutable_idx: List[int]):\n",
    "    if immutable_idx is not None:\n",
    "        cf = cf.at[:, immutable_idx].set(x[:, immutable_idx])\n",
    "    return cf"
   ]
  },
  {
   "cell_type": "code",
   "execution_count": null,
   "metadata": {},
   "outputs": [],
   "source": [
    "#| export\n",
    "class GSConfig(BaseParser):\n",
    "    seed: int = 42\n",
    "    n_steps: int = 100\n",
    "    n_samples: int = 100\n",
    "    step_size: float = 0.1\n",
    "    p_norm: int = 2\n",
    "    "
   ]
  },
  {
   "cell_type": "code",
   "execution_count": null,
   "metadata": {},
   "outputs": [],
   "source": [
    "#| export\n",
    "class GrowingSphere(BaseCFModule):\n",
    "    name = \"Growing Sphere\"\n",
    "\n",
    "    def __init__(\n",
    "        self,\n",
    "        configs: Dict | GSConfig = None\n",
    "    ):\n",
    "        if configs is None:\n",
    "            configs = GSConfig()\n",
    "        self.configs = validate_configs(configs, GSConfig)\n",
    "    \n",
    "    def generate_cf(\n",
    "        self,\n",
    "        x: Array,\n",
    "        pred_fn: Callable,\n",
    "    ):\n",
    "        rng_key = jrand.PRNGKey(self.configs.seed)\n",
    "        cat_idx = self.data_module.cat_idx\n",
    "        apply_immutable_partial = partial(\n",
    "            apply_immutable, immutable_idx=self.data_module._imutable_idx_list)\n",
    "        cf = _growing_spheres(\n",
    "            rng_key,\n",
    "            x,\n",
    "            pred_fn,\n",
    "            self.configs.n_steps,\n",
    "            self.configs.n_samples,\n",
    "            cat_idx,\n",
    "            self.data_module._cat_arrays,\n",
    "            self.configs.step_size,\n",
    "            self.configs.p_norm,\n",
    "            apply_immutable_partial,\n",
    "        )\n",
    "        return cf\n",
    "    \n",
    "    def generate_cfs(\n",
    "        self, \n",
    "        X: Array, \n",
    "        pred_fn: Callable = None\n",
    "    ) -> jnp.ndarray:\n",
    "        \n",
    "        generate_cf_partial = partial(self.generate_cf, pred_fn=pred_fn)\n",
    "        cfs = jax.vmap(generate_cf_partial)(X)\n",
    "        return cfs"
   ]
  },
  {
   "attachments": {},
   "cell_type": "markdown",
   "metadata": {},
   "source": [
    "#### Test"
   ]
  },
  {
   "cell_type": "code",
   "execution_count": null,
   "metadata": {},
   "outputs": [],
   "source": [
    "from relax.data import load_data\n",
    "from relax.module import PredictiveTrainingModule, PredictiveTrainingModuleConfigs\n",
    "from relax.evaluate import generate_cf_explanations, benchmark_cfs\n",
    "from relax.trainer import train_model\n"
   ]
  },
  {
   "cell_type": "code",
   "execution_count": null,
   "metadata": {},
   "outputs": [],
   "source": [
    "dm = load_data('adult', data_configs=dict(sample_frac=0.1))"
   ]
  },
  {
   "cell_type": "code",
   "execution_count": null,
   "metadata": {},
   "outputs": [
    {
     "name": "stderr",
     "output_type": "stream",
     "text": [
      "/home/birk/code/ReLax/relax/_ckpt_manager.py:48: UserWarning: `monitor_metrics` is not specified in `CheckpointManager`. No checkpoints will be stored.\n",
      "  \"`monitor_metrics` is not specified in `CheckpointManager`. No checkpoints will be stored.\"\n",
      "Epoch 4: 100%|██████████| 10/10 [00:00<00:00, 75.28batch/s, train/train_loss_1=0.0689]\n"
     ]
    }
   ],
   "source": [
    "m_config = dict(sizes=[50, 10, 50], lr=0.03)\n",
    "t_config = dict(n_epochs=5, batch_size=256)\n",
    "\n",
    "training_module = PredictiveTrainingModule(m_config)\n",
    "params, opt_state = train_model(\n",
    "    training_module, dm, t_config\n",
    ")\n",
    "# predict function\n",
    "pred_fn = lambda x, params, key: training_module.forward(\n",
    "    params, key, x, is_training=False\n",
    ")\n"
   ]
  },
  {
   "cell_type": "code",
   "execution_count": null,
   "metadata": {},
   "outputs": [],
   "source": [
    "gs = GrowingSphere()"
   ]
  },
  {
   "cell_type": "code",
   "execution_count": null,
   "metadata": {},
   "outputs": [
    {
     "ename": "ConcretizationTypeError",
     "evalue": "Abstract tracer value encountered where concrete value is expected: Traced<ShapedArray(bool[], weak_type=True)>with<DynamicJaxprTrace(level=2/0)>\nThe problem arose with the `bool` function. \nThe error occurred while tracing the function cond_fn at /tmp/ipykernel_31617/3353775316.py:14 for while_cond. This concrete value was not available in Python because it depends on the value of the argument 'state'.\n\nSee https://jax.readthedocs.io/en/latest/errors.html#jax.errors.ConcretizationTypeError",
     "output_type": "error",
     "traceback": [
      "\u001b[0;31m---------------------------------------------------------------------------\u001b[0m",
      "\u001b[0;31mConcretizationTypeError\u001b[0m                   Traceback (most recent call last)",
      "\u001b[0;32m/tmp/ipykernel_31617/1319220214.py\u001b[0m in \u001b[0;36m<module>\u001b[0;34m\u001b[0m\n\u001b[1;32m      6\u001b[0m     ), \n\u001b[1;32m      7\u001b[0m     pred_fn_args=dict(\n\u001b[0;32m----> 8\u001b[0;31m         \u001b[0mparams\u001b[0m\u001b[0;34m=\u001b[0m\u001b[0mparams\u001b[0m\u001b[0;34m,\u001b[0m \u001b[0mkey\u001b[0m\u001b[0;34m=\u001b[0m\u001b[0mrandom\u001b[0m\u001b[0;34m.\u001b[0m\u001b[0mPRNGKey\u001b[0m\u001b[0;34m(\u001b[0m\u001b[0;36m0\u001b[0m\u001b[0;34m)\u001b[0m\u001b[0;34m\u001b[0m\u001b[0;34m\u001b[0m\u001b[0m\n\u001b[0m\u001b[1;32m      9\u001b[0m     )\n\u001b[1;32m     10\u001b[0m )\n",
      "\u001b[0;32m~/code/ReLax/relax/evaluate.py\u001b[0m in \u001b[0;36mgenerate_cf_explanations\u001b[0;34m(cf_module, datamodule, pred_fn, t_configs, pred_fn_args)\u001b[0m\n\u001b[1;32m    138\u001b[0m     \u001b[0;31m# generate cfs\u001b[0m\u001b[0;34m\u001b[0m\u001b[0;34m\u001b[0m\u001b[0;34m\u001b[0m\u001b[0m\n\u001b[1;32m    139\u001b[0m     \u001b[0mcurrent_time\u001b[0m \u001b[0;34m=\u001b[0m \u001b[0mtime\u001b[0m\u001b[0;34m.\u001b[0m\u001b[0mtime\u001b[0m\u001b[0;34m(\u001b[0m\u001b[0;34m)\u001b[0m\u001b[0;34m\u001b[0m\u001b[0;34m\u001b[0m\u001b[0m\n\u001b[0;32m--> 140\u001b[0;31m     \u001b[0mcfs\u001b[0m \u001b[0;34m=\u001b[0m \u001b[0mcf_module\u001b[0m\u001b[0;34m.\u001b[0m\u001b[0mgenerate_cfs\u001b[0m\u001b[0;34m(\u001b[0m\u001b[0mX\u001b[0m\u001b[0;34m,\u001b[0m \u001b[0mpred_fn\u001b[0m\u001b[0;34m=\u001b[0m\u001b[0mpred_fn\u001b[0m\u001b[0;34m)\u001b[0m\u001b[0;34m\u001b[0m\u001b[0;34m\u001b[0m\u001b[0m\n\u001b[0m\u001b[1;32m    141\u001b[0m     \u001b[0mtotal_time\u001b[0m \u001b[0;34m=\u001b[0m \u001b[0mtime\u001b[0m\u001b[0;34m.\u001b[0m\u001b[0mtime\u001b[0m\u001b[0;34m(\u001b[0m\u001b[0;34m)\u001b[0m \u001b[0;34m-\u001b[0m \u001b[0mcurrent_time\u001b[0m\u001b[0;34m\u001b[0m\u001b[0;34m\u001b[0m\u001b[0m\n\u001b[1;32m    142\u001b[0m     \u001b[0;31m# check pred_fn\u001b[0m\u001b[0;34m\u001b[0m\u001b[0;34m\u001b[0m\u001b[0;34m\u001b[0m\u001b[0m\n",
      "\u001b[0;32m/tmp/ipykernel_31617/3826448224.py\u001b[0m in \u001b[0;36mgenerate_cfs\u001b[0;34m(self, X, pred_fn)\u001b[0m\n\u001b[1;32m     40\u001b[0m \u001b[0;34m\u001b[0m\u001b[0m\n\u001b[1;32m     41\u001b[0m         \u001b[0mgenerate_cf_partial\u001b[0m \u001b[0;34m=\u001b[0m \u001b[0mpartial\u001b[0m\u001b[0;34m(\u001b[0m\u001b[0mself\u001b[0m\u001b[0;34m.\u001b[0m\u001b[0mgenerate_cf\u001b[0m\u001b[0;34m,\u001b[0m \u001b[0mpred_fn\u001b[0m\u001b[0;34m=\u001b[0m\u001b[0mpred_fn\u001b[0m\u001b[0;34m)\u001b[0m\u001b[0;34m\u001b[0m\u001b[0;34m\u001b[0m\u001b[0m\n\u001b[0;32m---> 42\u001b[0;31m         \u001b[0mcfs\u001b[0m \u001b[0;34m=\u001b[0m \u001b[0mjax\u001b[0m\u001b[0;34m.\u001b[0m\u001b[0mvmap\u001b[0m\u001b[0;34m(\u001b[0m\u001b[0mgenerate_cf_partial\u001b[0m\u001b[0;34m)\u001b[0m\u001b[0;34m(\u001b[0m\u001b[0mX\u001b[0m\u001b[0;34m)\u001b[0m\u001b[0;34m\u001b[0m\u001b[0;34m\u001b[0m\u001b[0m\n\u001b[0m\u001b[1;32m     43\u001b[0m         \u001b[0;32mreturn\u001b[0m \u001b[0mcfs\u001b[0m\u001b[0;34m\u001b[0m\u001b[0;34m\u001b[0m\u001b[0m\n",
      "    \u001b[0;31m[... skipping hidden 3 frame]\u001b[0m\n",
      "\u001b[0;32m/tmp/ipykernel_31617/3826448224.py\u001b[0m in \u001b[0;36mgenerate_cf\u001b[0;34m(self, x, pred_fn)\u001b[0m\n\u001b[1;32m     29\u001b[0m             \u001b[0mself\u001b[0m\u001b[0;34m.\u001b[0m\u001b[0mconfigs\u001b[0m\u001b[0;34m.\u001b[0m\u001b[0mstep_size\u001b[0m\u001b[0;34m,\u001b[0m\u001b[0;34m\u001b[0m\u001b[0;34m\u001b[0m\u001b[0m\n\u001b[1;32m     30\u001b[0m             \u001b[0mself\u001b[0m\u001b[0;34m.\u001b[0m\u001b[0mconfigs\u001b[0m\u001b[0;34m.\u001b[0m\u001b[0mp_norm\u001b[0m\u001b[0;34m,\u001b[0m\u001b[0;34m\u001b[0m\u001b[0;34m\u001b[0m\u001b[0m\n\u001b[0;32m---> 31\u001b[0;31m             \u001b[0mapply_immutable_partial\u001b[0m\u001b[0;34m,\u001b[0m\u001b[0;34m\u001b[0m\u001b[0;34m\u001b[0m\u001b[0m\n\u001b[0m\u001b[1;32m     32\u001b[0m         )\n\u001b[1;32m     33\u001b[0m         \u001b[0;32mreturn\u001b[0m \u001b[0mcf\u001b[0m\u001b[0;34m\u001b[0m\u001b[0;34m\u001b[0m\u001b[0m\n",
      "\u001b[0;32m/tmp/ipykernel_31617/3353775316.py\u001b[0m in \u001b[0;36m_growing_spheres\u001b[0;34m(rng_key, x, pred_fn, n_steps, n_samples, cat_idx, cat_arrays, step_size, p_norm, apply_fn)\u001b[0m\n\u001b[1;32m     69\u001b[0m     \u001b[0mfound_cf\u001b[0m \u001b[0;34m=\u001b[0m \u001b[0;32mFalse\u001b[0m\u001b[0;34m\u001b[0m\u001b[0;34m\u001b[0m\u001b[0m\n\u001b[1;32m     70\u001b[0m     \u001b[0mstate\u001b[0m \u001b[0;34m=\u001b[0m \u001b[0;34m(\u001b[0m\u001b[0mcandidate_cf\u001b[0m\u001b[0;34m,\u001b[0m \u001b[0mcount\u001b[0m\u001b[0;34m,\u001b[0m \u001b[0mrng_key\u001b[0m\u001b[0;34m,\u001b[0m \u001b[0mfound_cf\u001b[0m\u001b[0;34m)\u001b[0m\u001b[0;34m\u001b[0m\u001b[0;34m\u001b[0m\u001b[0m\n\u001b[0;32m---> 71\u001b[0;31m     \u001b[0mcandidate_cf\u001b[0m\u001b[0;34m,\u001b[0m \u001b[0m_\u001b[0m\u001b[0;34m,\u001b[0m \u001b[0m_\u001b[0m \u001b[0;34m=\u001b[0m \u001b[0mlax\u001b[0m\u001b[0;34m.\u001b[0m\u001b[0mwhile_loop\u001b[0m\u001b[0;34m(\u001b[0m\u001b[0mcond_fn\u001b[0m\u001b[0;34m,\u001b[0m \u001b[0mbody_fn\u001b[0m\u001b[0;34m,\u001b[0m \u001b[0mstate\u001b[0m\u001b[0;34m)\u001b[0m\u001b[0;34m\u001b[0m\u001b[0;34m\u001b[0m\u001b[0m\n\u001b[0m\u001b[1;32m     72\u001b[0m     \u001b[0;32mreturn\u001b[0m \u001b[0mcandidate_cf\u001b[0m\u001b[0;34m\u001b[0m\u001b[0;34m\u001b[0m\u001b[0m\n",
      "    \u001b[0;31m[... skipping hidden 9 frame]\u001b[0m\n",
      "\u001b[0;32m/tmp/ipykernel_31617/3353775316.py\u001b[0m in \u001b[0;36mcond_fn\u001b[0;34m(state)\u001b[0m\n\u001b[1;32m     14\u001b[0m     \u001b[0;32mdef\u001b[0m \u001b[0mcond_fn\u001b[0m\u001b[0;34m(\u001b[0m\u001b[0mstate\u001b[0m\u001b[0;34m)\u001b[0m\u001b[0;34m:\u001b[0m\u001b[0;34m\u001b[0m\u001b[0;34m\u001b[0m\u001b[0m\n\u001b[1;32m     15\u001b[0m         \u001b[0mcandidate_cf\u001b[0m\u001b[0;34m,\u001b[0m \u001b[0mcount\u001b[0m\u001b[0;34m,\u001b[0m \u001b[0m_\u001b[0m\u001b[0;34m,\u001b[0m \u001b[0mfound_cf\u001b[0m \u001b[0;34m=\u001b[0m \u001b[0mstate\u001b[0m\u001b[0;34m\u001b[0m\u001b[0;34m\u001b[0m\u001b[0m\n\u001b[0;32m---> 16\u001b[0;31m         \u001b[0;32mreturn\u001b[0m \u001b[0;34m(\u001b[0m\u001b[0;32mnot\u001b[0m \u001b[0mfound_cf\u001b[0m\u001b[0;34m)\u001b[0m \u001b[0;34m&\u001b[0m \u001b[0;34m(\u001b[0m\u001b[0mcount\u001b[0m \u001b[0;34m<\u001b[0m \u001b[0mn_steps\u001b[0m\u001b[0;34m)\u001b[0m\u001b[0;34m\u001b[0m\u001b[0;34m\u001b[0m\u001b[0m\n\u001b[0m\u001b[1;32m     17\u001b[0m \u001b[0;34m\u001b[0m\u001b[0m\n\u001b[1;32m     18\u001b[0m     \u001b[0;32mdef\u001b[0m \u001b[0mbody_fn\u001b[0m\u001b[0;34m(\u001b[0m\u001b[0mstate\u001b[0m\u001b[0;34m)\u001b[0m\u001b[0;34m:\u001b[0m\u001b[0;34m\u001b[0m\u001b[0;34m\u001b[0m\u001b[0m\n",
      "    \u001b[0;31m[... skipping hidden 1 frame]\u001b[0m\n",
      "\u001b[0;32m~/mambaforge-pypy3/envs/nbdev2/lib/python3.7/site-packages/jax/core.py\u001b[0m in \u001b[0;36merror\u001b[0;34m(self, arg)\u001b[0m\n\u001b[1;32m   1265\u001b[0m                       f\"or `jnp.array(x, {fun.__name__})` instead.\")\n\u001b[1;32m   1266\u001b[0m   \u001b[0;32mdef\u001b[0m \u001b[0merror\u001b[0m\u001b[0;34m(\u001b[0m\u001b[0mself\u001b[0m\u001b[0;34m,\u001b[0m \u001b[0marg\u001b[0m\u001b[0;34m)\u001b[0m\u001b[0;34m:\u001b[0m\u001b[0;34m\u001b[0m\u001b[0;34m\u001b[0m\u001b[0m\n\u001b[0;32m-> 1267\u001b[0;31m     \u001b[0;32mraise\u001b[0m \u001b[0mConcretizationTypeError\u001b[0m\u001b[0;34m(\u001b[0m\u001b[0marg\u001b[0m\u001b[0;34m,\u001b[0m \u001b[0mfname_context\u001b[0m\u001b[0;34m)\u001b[0m\u001b[0;34m\u001b[0m\u001b[0;34m\u001b[0m\u001b[0m\n\u001b[0m\u001b[1;32m   1268\u001b[0m   \u001b[0;32mreturn\u001b[0m \u001b[0merror\u001b[0m\u001b[0;34m\u001b[0m\u001b[0;34m\u001b[0m\u001b[0m\n\u001b[1;32m   1269\u001b[0m \u001b[0;34m\u001b[0m\u001b[0m\n",
      "\u001b[0;31mConcretizationTypeError\u001b[0m: Abstract tracer value encountered where concrete value is expected: Traced<ShapedArray(bool[], weak_type=True)>with<DynamicJaxprTrace(level=2/0)>\nThe problem arose with the `bool` function. \nThe error occurred while tracing the function cond_fn at /tmp/ipykernel_31617/3353775316.py:14 for while_cond. This concrete value was not available in Python because it depends on the value of the argument 'state'.\n\nSee https://jax.readthedocs.io/en/latest/errors.html#jax.errors.ConcretizationTypeError"
     ]
    }
   ],
   "source": [
    "#| output: false\n",
    "cf_exp = generate_cf_explanations(\n",
    "    gs, dm, pred_fn=pred_fn, \n",
    "    t_configs=dict(\n",
    "        n_epochs=5, batch_size=128\n",
    "    ), \n",
    "    pred_fn_args=dict(\n",
    "        params=params, key=random.PRNGKey(0)\n",
    "    )\n",
    ")\n"
   ]
  },
  {
   "cell_type": "code",
   "execution_count": null,
   "metadata": {},
   "outputs": [],
   "source": [
    "benchmark_cfs([cf_exp])"
   ]
  }
 ],
 "metadata": {
  "kernelspec": {
   "display_name": "nbdev2",
   "language": "python",
   "name": "python3"
  }
 },
 "nbformat": 4,
 "nbformat_minor": 2
}
