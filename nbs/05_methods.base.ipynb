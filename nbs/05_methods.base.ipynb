{
 "cells": [
  {
   "cell_type": "markdown",
   "metadata": {},
   "source": [
    "# Interfaces"
   ]
  },
  {
   "cell_type": "code",
   "execution_count": null,
   "metadata": {
    "vscode": {
     "languageId": "python"
    }
   },
   "outputs": [],
   "source": [
    "#| default_exp methods.base"
   ]
  },
  {
   "cell_type": "code",
   "execution_count": null,
   "metadata": {
    "vscode": {
     "languageId": "python"
    }
   },
   "outputs": [],
   "source": [
    "#| include: false\n",
    "%load_ext autoreload\n",
    "%autoreload 2\n",
    "from ipynb_path import *\n",
    "from nbdev import show_doc"
   ]
  },
  {
   "cell_type": "code",
   "execution_count": null,
   "metadata": {
    "vscode": {
     "languageId": "python"
    }
   },
   "outputs": [],
   "source": [
    "#| export\n",
    "from __future__ import annotations\n",
    "from relax.import_essentials import *\n",
    "from relax.data import TabularDataModule\n",
    "from relax.trainer import TrainingConfigs\n",
    "from copy import deepcopy"
   ]
  },
  {
   "cell_type": "code",
   "execution_count": null,
   "metadata": {
    "vscode": {
     "languageId": "python"
    }
   },
   "outputs": [],
   "source": [
    "#| export\n",
    "class BaseCFModule(ABC):\n",
    "    \"\"\"Base CF Explanation Module.\"\"\"\n",
    "    _data_module: TabularDataModule\n",
    "\n",
    "    @property\n",
    "    @abstractmethod\n",
    "    def name(self):\n",
    "        \"\"\"Name of the CF Explanation Module.\"\"\"\n",
    "        raise NotImplementedError\n",
    "    \n",
    "    @property\n",
    "    def data_module(self) -> TabularDataModule:\n",
    "        \"\"\"Binded `DataModule`.\"\"\"\n",
    "        return self._data_module\n",
    "\n",
    "    @abstractmethod\n",
    "    def generate_cfs(\n",
    "        self,\n",
    "        X: jnp.ndarray, # Input to be explained\n",
    "        pred_fn: Callable = None # Predictive function \n",
    "    ) -> jnp.ndarray: # Generated counterfactuals\n",
    "        \"\"\"Abstract method to generate counterfactuals\"\"\"\n",
    "        pass\n",
    "\n",
    "    def hook_data_module(self, data_module: TabularDataModule):\n",
    "        \"\"\"Bind `TabularDataModule` to `self._data_module`.\"\"\"\n",
    "        self._data_module = data_module\n"
   ]
  },
  {
   "cell_type": "code",
   "execution_count": null,
   "metadata": {
    "vscode": {
     "languageId": "python"
    }
   },
   "outputs": [
    {
     "data": {
      "text/markdown": [
       "---\n",
       "\n",
       "[source](https://github.com/birkhoffg/cfnet/tree/master/blob/master/cfnet/methods/base.py#L17){target=\"_blank\" style=\"float:right; font-size:smaller\"}\n",
       "\n",
       "#### BaseCFModule.name\n",
       "\n",
       ">      BaseCFModule.name ()\n",
       "\n",
       "Name of the CF Explanation Module."
      ],
      "text/plain": [
       "---\n",
       "\n",
       "[source](https://github.com/birkhoffg/cfnet/tree/master/blob/master/cfnet/methods/base.py#L17){target=\"_blank\" style=\"float:right; font-size:smaller\"}\n",
       "\n",
       "#### BaseCFModule.name\n",
       "\n",
       ">      BaseCFModule.name ()\n",
       "\n",
       "Name of the CF Explanation Module."
      ]
     },
     "execution_count": null,
     "metadata": {},
     "output_type": "execute_result"
    }
   ],
   "source": [
    "show_doc(BaseCFModule.name, title_level=4)"
   ]
  },
  {
   "cell_type": "code",
   "execution_count": null,
   "metadata": {
    "vscode": {
     "languageId": "python"
    }
   },
   "outputs": [
    {
     "data": {
      "text/markdown": [
       "---\n",
       "\n",
       "[source](https://github.com/birkhoffg/cfnet/tree/master/blob/master/cfnet/methods/base.py#L22){target=\"_blank\" style=\"float:right; font-size:smaller\"}\n",
       "\n",
       "#### BaseCFModule.data_module\n",
       "\n",
       ">      BaseCFModule.data_module ()\n",
       "\n",
       "Binded `DataModule`."
      ],
      "text/plain": [
       "---\n",
       "\n",
       "[source](https://github.com/birkhoffg/cfnet/tree/master/blob/master/cfnet/methods/base.py#L22){target=\"_blank\" style=\"float:right; font-size:smaller\"}\n",
       "\n",
       "#### BaseCFModule.data_module\n",
       "\n",
       ">      BaseCFModule.data_module ()\n",
       "\n",
       "Binded `DataModule`."
      ]
     },
     "execution_count": null,
     "metadata": {},
     "output_type": "execute_result"
    }
   ],
   "source": [
    "show_doc(BaseCFModule.data_module, title_level=4)"
   ]
  },
  {
   "cell_type": "code",
   "execution_count": null,
   "metadata": {
    "vscode": {
     "languageId": "python"
    }
   },
   "outputs": [
    {
     "data": {
      "text/markdown": [
       "---\n",
       "\n",
       "[source](https://github.com/birkhoffg/cfnet/tree/master/blob/master/cfnet/methods/base.py#L26){target=\"_blank\" style=\"float:right; font-size:smaller\"}\n",
       "\n",
       "#### BaseCFModule.generate_cfs\n",
       "\n",
       ">      BaseCFModule.generate_cfs (X:jax._src.numpy.ndarray.ndarray,\n",
       ">                                 pred_fn:Callable=None)\n",
       "\n",
       "Abstract method to generate counterfactuals\n",
       "\n",
       "|    | **Type** | **Default** | **Details** |\n",
       "| -- | -------- | ----------- | ----------- |\n",
       "| X | jnp.ndarray |  | Input to be explained |\n",
       "| pred_fn | Callable | None | Predictive function |\n",
       "| **Returns** | **jnp.ndarray** |  | **Generated counterfactuals** |"
      ],
      "text/plain": [
       "---\n",
       "\n",
       "[source](https://github.com/birkhoffg/cfnet/tree/master/blob/master/cfnet/methods/base.py#L26){target=\"_blank\" style=\"float:right; font-size:smaller\"}\n",
       "\n",
       "#### BaseCFModule.generate_cfs\n",
       "\n",
       ">      BaseCFModule.generate_cfs (X:jax._src.numpy.ndarray.ndarray,\n",
       ">                                 pred_fn:Callable=None)\n",
       "\n",
       "Abstract method to generate counterfactuals\n",
       "\n",
       "|    | **Type** | **Default** | **Details** |\n",
       "| -- | -------- | ----------- | ----------- |\n",
       "| X | jnp.ndarray |  | Input to be explained |\n",
       "| pred_fn | Callable | None | Predictive function |\n",
       "| **Returns** | **jnp.ndarray** |  | **Generated counterfactuals** |"
      ]
     },
     "execution_count": null,
     "metadata": {},
     "output_type": "execute_result"
    }
   ],
   "source": [
    "show_doc(BaseCFModule.generate_cfs, title_level=4)"
   ]
  },
  {
   "cell_type": "code",
   "execution_count": null,
   "metadata": {
    "vscode": {
     "languageId": "python"
    }
   },
   "outputs": [
    {
     "data": {
      "text/markdown": [
       "---\n",
       "\n",
       "[source](https://github.com/birkhoffg/cfnet/tree/master/blob/master/cfnet/methods/base.py#L34){target=\"_blank\" style=\"float:right; font-size:smaller\"}\n",
       "\n",
       "#### BaseCFModule.hook_data_module\n",
       "\n",
       ">      BaseCFModule.hook_data_module\n",
       ">                                     (data_module:cfnet.data.module.TabularData\n",
       ">                                     Module)\n",
       "\n",
       "Bind `TabularDataModule` to `self._data_module`."
      ],
      "text/plain": [
       "---\n",
       "\n",
       "[source](https://github.com/birkhoffg/cfnet/tree/master/blob/master/cfnet/methods/base.py#L34){target=\"_blank\" style=\"float:right; font-size:smaller\"}\n",
       "\n",
       "#### BaseCFModule.hook_data_module\n",
       "\n",
       ">      BaseCFModule.hook_data_module\n",
       ">                                     (data_module:cfnet.data.module.TabularData\n",
       ">                                     Module)\n",
       "\n",
       "Bind `TabularDataModule` to `self._data_module`."
      ]
     },
     "execution_count": null,
     "metadata": {},
     "output_type": "execute_result"
    }
   ],
   "source": [
    "show_doc(BaseCFModule.hook_data_module, title_level=4)"
   ]
  },
  {
   "cell_type": "code",
   "execution_count": null,
   "metadata": {
    "vscode": {
     "languageId": "python"
    }
   },
   "outputs": [],
   "source": [
    "#| export\n",
    "class BaseParametricCFModule(ABC):\n",
    "    @abstractmethod\n",
    "    def train(\n",
    "        self, \n",
    "        datamodule: TabularDataModule, # data module\n",
    "        t_configs: TrainingConfigs | dict = None, # training configs; see docs in `TrainingConfigs`\n",
    "        pred_fn: Callable = None # predictive function\n",
    "    ): \n",
    "        pass\n",
    "\n",
    "    @abstractmethod\n",
    "    def _is_module_trained(self) -> bool: pass"
   ]
  },
  {
   "cell_type": "code",
   "execution_count": null,
   "metadata": {
    "vscode": {
     "languageId": "python"
    }
   },
   "outputs": [
    {
     "data": {
      "text/markdown": [
       "---\n",
       "\n",
       "[source](https://github.com/birkhoffg/cfnet/tree/master/blob/master/cfnet/methods/base.py#L48){target=\"_blank\" style=\"float:right; font-size:smaller\"}\n",
       "\n",
       "#### BaseParametricCFModule.train\n",
       "\n",
       ">      BaseParametricCFModule.train\n",
       ">                                    (datamodule:cfnet.data.module.TabularDataMo\n",
       ">                                    dule, t_configs:Union[cfnet.train.TrainingC\n",
       ">                                    onfigs,dict]=None)\n",
       "\n",
       "|    | **Type** | **Default** | **Details** |\n",
       "| -- | -------- | ----------- | ----------- |\n",
       "| datamodule | TabularDataModule |  | data module |\n",
       "| t_configs | TrainingConfigs \\| dict | None | training configs; see docs in `TrainingConfigs` |"
      ],
      "text/plain": [
       "---\n",
       "\n",
       "[source](https://github.com/birkhoffg/cfnet/tree/master/blob/master/cfnet/methods/base.py#L48){target=\"_blank\" style=\"float:right; font-size:smaller\"}\n",
       "\n",
       "#### BaseParametricCFModule.train\n",
       "\n",
       ">      BaseParametricCFModule.train\n",
       ">                                    (datamodule:cfnet.data.module.TabularDataMo\n",
       ">                                    dule, t_configs:Union[cfnet.train.TrainingC\n",
       ">                                    onfigs,dict]=None)\n",
       "\n",
       "|    | **Type** | **Default** | **Details** |\n",
       "| -- | -------- | ----------- | ----------- |\n",
       "| datamodule | TabularDataModule |  | data module |\n",
       "| t_configs | TrainingConfigs \\| dict | None | training configs; see docs in `TrainingConfigs` |"
      ]
     },
     "execution_count": null,
     "metadata": {},
     "output_type": "execute_result"
    }
   ],
   "source": [
    "show_doc(BaseParametricCFModule.train, title_level=4)"
   ]
  },
  {
   "cell_type": "code",
   "execution_count": null,
   "metadata": {
    "vscode": {
     "languageId": "python"
    }
   },
   "outputs": [],
   "source": [
    "#| export\n",
    "class BasePredFnCFModule(ABC):\n",
    "    \"\"\"Base class of CF Module with a predictive module.\"\"\"\n",
    "    @abstractmethod\n",
    "    def pred_fn(\n",
    "        self, \n",
    "        X: jnp.DeviceArray  # input `X`\n",
    "    ) -> jnp.DeviceArray:   # prediction\n",
    "        raise NotImplementedError"
   ]
  },
  {
   "cell_type": "code",
   "execution_count": null,
   "metadata": {
    "vscode": {
     "languageId": "python"
    }
   },
   "outputs": [
    {
     "data": {
      "text/markdown": [
       "---\n",
       "\n",
       "[source](https://github.com/birkhoffg/cfnet/tree/master/blob/master/cfnet/methods/base.py#L62){target=\"_blank\" style=\"float:right; font-size:smaller\"}\n",
       "\n",
       "#### BasePredFnCFModule.pred_fn\n",
       "\n",
       ">      BasePredFnCFModule.pred_fn (X:jaxlib.xla_extension.DeviceArrayBase)\n",
       "\n",
       "|    | **Type** | **Details** |\n",
       "| -- | -------- | ----------- |\n",
       "| X | jnp.DeviceArray | input `X` |\n",
       "| **Returns** | **jnp.DeviceArray** | **prediction** |"
      ],
      "text/plain": [
       "---\n",
       "\n",
       "[source](https://github.com/birkhoffg/cfnet/tree/master/blob/master/cfnet/methods/base.py#L62){target=\"_blank\" style=\"float:right; font-size:smaller\"}\n",
       "\n",
       "#### BasePredFnCFModule.pred_fn\n",
       "\n",
       ">      BasePredFnCFModule.pred_fn (X:jaxlib.xla_extension.DeviceArrayBase)\n",
       "\n",
       "|    | **Type** | **Details** |\n",
       "| -- | -------- | ----------- |\n",
       "| X | jnp.DeviceArray | input `X` |\n",
       "| **Returns** | **jnp.DeviceArray** | **prediction** |"
      ]
     },
     "execution_count": null,
     "metadata": {},
     "output_type": "execute_result"
    }
   ],
   "source": [
    "show_doc(BasePredFnCFModule.pred_fn, title_level=4)"
   ]
  }
 ],
 "metadata": {
  "kernelspec": {
   "display_name": "python3",
   "language": "python",
   "name": "python3"
  }
 },
 "nbformat": 4,
 "nbformat_minor": 2
}
