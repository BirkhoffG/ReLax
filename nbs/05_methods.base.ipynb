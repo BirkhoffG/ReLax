{
 "cells": [
  {
   "cell_type": "markdown",
   "metadata": {},
   "source": [
    "# Interfaces"
   ]
  },
  {
   "cell_type": "code",
   "execution_count": null,
   "metadata": {},
   "outputs": [],
   "source": [
    "#| default_exp methods.base"
   ]
  },
  {
   "cell_type": "code",
   "execution_count": null,
   "metadata": {},
   "outputs": [
    {
     "name": "stdout",
     "output_type": "stream",
     "text": [
      "The autoreload extension is already loaded. To reload it, use:\n",
      "  %reload_ext autoreload\n"
     ]
    }
   ],
   "source": [
    "#| include: false\n",
    "%load_ext autoreload\n",
    "%autoreload 2\n",
    "from ipynb_path import *\n",
    "from nbdev import show_doc"
   ]
  },
  {
   "cell_type": "code",
   "execution_count": null,
   "metadata": {},
   "outputs": [],
   "source": [
    "#| export\n",
    "from __future__ import annotations\n",
    "from cfnet.import_essentials import *\n",
    "from cfnet.datasets import TabularDataModule\n",
    "from cfnet.train import TrainingConfigs\n",
    "from copy import deepcopy"
   ]
  },
  {
   "cell_type": "code",
   "execution_count": null,
   "metadata": {},
   "outputs": [],
   "source": [
    "#| export\n",
    "class BaseCFModule(ABC):\n",
    "    cat_arrays = []\n",
    "    cat_idx = 0\n",
    "\n",
    "    @property\n",
    "    @abstractmethod\n",
    "    def name(self):\n",
    "        pass\n",
    "\n",
    "    @abstractmethod\n",
    "    def generate_cfs(\n",
    "        self,\n",
    "        X: jnp.ndarray,\n",
    "        pred_fn: Callable = None\n",
    "    ) -> jnp.ndarray:\n",
    "        pass\n",
    "\n",
    "    def update_cat_info(self, data_module: TabularDataModule):\n",
    "        # TODO: need refactor\n",
    "        self.cat_arrays = deepcopy(data_module.cat_arrays)\n",
    "        self.cat_idx = data_module.cat_idx\n",
    "        self.imutable_idx_list = deepcopy(data_module.imutable_idx_list)\n"
   ]
  },
  {
   "cell_type": "code",
   "execution_count": null,
   "metadata": {},
   "outputs": [],
   "source": [
    "#| export\n",
    "class BaseParametricCFModule(ABC):\n",
    "    @abstractmethod\n",
    "    def train(\n",
    "        self, \n",
    "        datamodule: TabularDataModule, # data module\n",
    "        t_configs: TrainingConfigs | dict = None # training configs; see docs in `TrainingConfigs`\n",
    "    ): \n",
    "        pass\n",
    "\n",
    "    @abstractmethod\n",
    "    def _is_module_trained(self) -> bool: pass"
   ]
  },
  {
   "cell_type": "code",
   "execution_count": null,
   "metadata": {},
   "outputs": [
    {
     "data": {
      "text/markdown": [
       "---\n",
       "\n",
       "### BaseParametricCFModule.train\n",
       "\n",
       ">      BaseParametricCFModule.train\n",
       ">                                    (datamodule:cfnet.datasets.TabularDataModul\n",
       ">                                    e, t_configs:Union[cfnet.train.TrainingConf\n",
       ">                                    igs,dict]=None)\n",
       "\n",
       "|    | **Type** | **Default** | **Details** |\n",
       "| -- | -------- | ----------- | ----------- |\n",
       "| datamodule | TabularDataModule |  | data module |\n",
       "| t_configs | TrainingConfigs \\| dict | None | training configs; see docs in `TrainingConfigs` |"
      ],
      "text/plain": [
       "---\n",
       "\n",
       "### BaseParametricCFModule.train\n",
       "\n",
       ">      BaseParametricCFModule.train\n",
       ">                                    (datamodule:cfnet.datasets.TabularDataModul\n",
       ">                                    e, t_configs:Union[cfnet.train.TrainingConf\n",
       ">                                    igs,dict]=None)\n",
       "\n",
       "|    | **Type** | **Default** | **Details** |\n",
       "| -- | -------- | ----------- | ----------- |\n",
       "| datamodule | TabularDataModule |  | data module |\n",
       "| t_configs | TrainingConfigs \\| dict | None | training configs; see docs in `TrainingConfigs` |"
      ]
     },
     "execution_count": null,
     "metadata": {},
     "output_type": "execute_result"
    }
   ],
   "source": [
    "show_doc(BaseParametricCFModule.train)"
   ]
  },
  {
   "cell_type": "code",
   "execution_count": null,
   "metadata": {},
   "outputs": [],
   "source": [
    "#| export\n",
    "class BasePredFnCFModule(ABC):\n",
    "    \"\"\"Base class of CF Module with a predictive module.\"\"\"\n",
    "    @abstractmethod\n",
    "    def pred_fn(\n",
    "        self, \n",
    "        X: jnp.DeviceArray  # input `X`\n",
    "    ) -> jnp.DeviceArray:   # prediction\n",
    "        raise NotImplementedError"
   ]
  },
  {
   "cell_type": "code",
   "execution_count": null,
   "metadata": {},
   "outputs": [
    {
     "data": {
      "text/markdown": [
       "---\n",
       "\n",
       "### BasePredictFnCFModule.pred_fn\n",
       "\n",
       ">      BasePredictFnCFModule.pred_fn (X:jaxlib.xla_extension.DeviceArrayBase)\n",
       "\n",
       "|    | **Type** | **Details** |\n",
       "| -- | -------- | ----------- |\n",
       "| X | jnp.DeviceArray | input `X` |\n",
       "| **Returns** | **jnp.DeviceArray** | **prediction** |"
      ],
      "text/plain": [
       "---\n",
       "\n",
       "### BasePredictFnCFModule.pred_fn\n",
       "\n",
       ">      BasePredictFnCFModule.pred_fn (X:jaxlib.xla_extension.DeviceArrayBase)\n",
       "\n",
       "|    | **Type** | **Details** |\n",
       "| -- | -------- | ----------- |\n",
       "| X | jnp.DeviceArray | input `X` |\n",
       "| **Returns** | **jnp.DeviceArray** | **prediction** |"
      ]
     },
     "execution_count": null,
     "metadata": {},
     "output_type": "execute_result"
    }
   ],
   "source": [
    "show_doc(BasePredFnCFModule.pred_fn)"
   ]
  }
 ],
 "metadata": {
  "kernelspec": {
   "display_name": "Python 3.7.15 ('nbdev2')",
   "language": "python",
   "name": "python3"
  }
 },
 "nbformat": 4,
 "nbformat_minor": 2
}
