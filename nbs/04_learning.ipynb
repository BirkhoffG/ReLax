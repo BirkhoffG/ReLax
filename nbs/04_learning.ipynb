{
 "cells": [
  {
   "cell_type": "raw",
   "metadata": {},
   "source": [
    "---\n",
    "description: Functions for training models\n",
    "output-file: learning.html\n",
    "title: Training\n",
    "\n",
    "---\n",
    "\n"
   ]
  },
  {
   "cell_type": "code",
   "execution_count": null,
   "metadata": {},
   "outputs": [],
   "source": [
    "#| default_exp train"
   ]
  },
  {
   "cell_type": "code",
   "execution_count": null,
   "metadata": {},
   "outputs": [],
   "source": [
    "#| include: false\n",
    "%load_ext autoreload\n",
    "%autoreload 2\n",
    "from ipynb_path import *"
   ]
  },
  {
   "cell_type": "code",
   "execution_count": null,
   "metadata": {},
   "outputs": [],
   "source": [
    "#| export\n",
    "from cfnet.import_essentials import *\n",
    "from cfnet.datasets import TabularDataModule\n",
    "from cfnet.module import BaseTrainingModule\n",
    "from cfnet.logger import TensorboardLogger\n",
    "from cfnet.utils import validate_configs\n",
    "from cfnet._ckpt_manager import CheckpointManager"
   ]
  },
  {
   "cell_type": "code",
   "execution_count": null,
   "metadata": {},
   "outputs": [],
   "source": [
    "#| exporti\n",
    "class TrainingConfigs(BaseParser):\n",
    "    n_epochs: int\n",
    "    monitor_metrics: Optional[str] = None\n",
    "    seed: int = 42\n",
    "    log_dir: str = \"log\"\n",
    "    logger_name: str = \"debug\"\n",
    "    log_on_step: bool = False\n",
    "    max_n_checkpoints: int = 3\n",
    "\n",
    "    @property\n",
    "    def PRNGSequence(self): return hk.PRNGSequence(self.seed)"
   ]
  },
  {
   "cell_type": "code",
   "execution_count": null,
   "metadata": {},
   "outputs": [],
   "source": [
    "#| export\n",
    "def train_model_with_states(\n",
    "    training_module: BaseTrainingModule,\n",
    "    params: hk.Params,\n",
    "    opt_state: optax.OptState,\n",
    "    data_module: TabularDataModule,\n",
    "    t_configs: Union[Dict[str, Any], TrainingConfigs]\n",
    ") -> Tuple[hk.Params, optax.OptState]:\n",
    "    t_configs = validate_configs(t_configs, TrainingConfigs)\n",
    "    keys = t_configs.PRNGSequence\n",
    "    # define logger\n",
    "    logger = TensorboardLogger(\n",
    "        log_dir=t_configs.log_dir, name=t_configs.logger_name, on_step=t_configs.log_on_step\n",
    "    )\n",
    "    logger.save_hyperparams(t_configs.dict())\n",
    "    if training_module.hparams:\n",
    "        logger.save_hyperparams(training_module.hparams)\n",
    "\n",
    "    training_module.init_logger(logger)\n",
    "    # define checkpoint manageer\n",
    "    if t_configs.monitor_metrics is None:\n",
    "        monitor_metrics = None\n",
    "    else:\n",
    "        monitor_metrics = f\"{t_configs.monitor_metrics}_epoch\"\n",
    "\n",
    "    ckpt_manager = CheckpointManager(\n",
    "        log_dir=Path(training_module.logger.log_dir) / 'checkpoints',\n",
    "        monitor_metrics=monitor_metrics,\n",
    "        max_n_checkpoints=t_configs.max_n_checkpoints\n",
    "    )\n",
    "    # dataloaders\n",
    "    train_loader = data_module.train_dataloader()\n",
    "    val_loader = data_module.val_dataloader()\n",
    "\n",
    "    # start training\n",
    "    for epoch in range(t_configs.n_epochs):\n",
    "        training_module.logger.on_epoch_started()\n",
    "        # training\n",
    "        with tqdm(train_loader, unit='batch', leave=epoch==t_configs.n_epochs-1) as t_loader:\n",
    "            t_loader.set_description(f\"Epoch {epoch}\")\n",
    "            for batch in t_loader:\n",
    "                x, y = map(device_put, tuple(batch))\n",
    "                params, opt_state = training_module.training_step(\n",
    "                    params, opt_state, next(keys), (x, y))\n",
    "                # logs = training_module.training_step_logs(\n",
    "                #     params, next(keys), (x, y))\n",
    "                logs = training_module.logger.get_last_logs()\n",
    "                t_loader.set_postfix(**logs)\n",
    "                # logger.log(logs)\n",
    "\n",
    "        # validation\n",
    "        for batch in val_loader:\n",
    "            x, y = map(device_put, tuple(batch))\n",
    "            logs = training_module.validation_step(params, next(keys), (x, y))\n",
    "            # logger.log(logs)\n",
    "        epoch_logs = training_module.logger.on_epoch_finished()\n",
    "        ckpt_manager.update_checkpoints(params, opt_state, epoch_logs, epoch)\n",
    "\n",
    "    training_module.logger.close()\n",
    "    return params, opt_state"
   ]
  },
  {
   "cell_type": "code",
   "execution_count": null,
   "metadata": {},
   "outputs": [],
   "source": [
    "#| export\n",
    "def train_model(\n",
    "    training_module: BaseTrainingModule,\n",
    "    data_module: TabularDataModule,\n",
    "    t_configs: Union[Dict[str, Any], TrainingConfigs]\n",
    ") -> Tuple[hk.Params, optax.OptState]:\n",
    "    t_configs = validate_configs(t_configs, TrainingConfigs)\n",
    "    keys = t_configs.PRNGSequence\n",
    "    params, opt_state = training_module.init_net_opt(data_module, next(keys))\n",
    "    return train_model_with_states(\n",
    "        training_module=training_module, params=params,\n",
    "        opt_state=opt_state, data_module=data_module, t_configs=t_configs\n",
    "    )"
   ]
  },
  {
   "cell_type": "markdown",
   "metadata": {},
   "source": [
    "## Test"
   ]
  },
  {
   "cell_type": "code",
   "execution_count": null,
   "metadata": {},
   "outputs": [],
   "source": [
    "from cfnet.datasets import TabularDataModule\n",
    "from cfnet.training_module import PredictiveTrainingModule\n",
    "\n",
    "data_configs = {\n",
    "    \"data_dir\": \"assets/data/s_adult.csv\",\n",
    "    \"data_name\": \"adult\",\n",
    "    \"batch_size\": 256,\n",
    "    'sample_frac': 0.1,\n",
    "    \"continous_cols\": [\n",
    "        \"age\",\n",
    "        \"hours_per_week\"\n",
    "    ],\n",
    "    \"discret_cols\": [\n",
    "        \"workclass\",\n",
    "        \"education\",\n",
    "        \"marital_status\",\n",
    "        \"occupation\",\n",
    "        \"race\",\n",
    "        \"gender\"\n",
    "    ],\n",
    "}\n",
    "# dm = \n",
    "m_configs = {\n",
    "    \"sizes\": [50, 10, 50],\n",
    "    \"dropout_rate\": 0.3,\n",
    "    'lr': 0.003,\n",
    "}\n",
    "t_configs = {\n",
    "    'n_epochs': 10,\n",
    "    'monitor_metrics': 'val/val_loss'\n",
    "}"
   ]
  },
  {
   "cell_type": "code",
   "execution_count": null,
   "metadata": {},
   "outputs": [],
   "source": [
    "from cfnet.training_module import PredictiveTrainingModule\n",
    "\n",
    "params, opt_state = train_model(\n",
    "    PredictiveTrainingModule(m_configs), \n",
    "    TabularDataModule(data_configs), \n",
    "    t_configs\n",
    ")"
   ]
  }
 ],
 "metadata": {
  "kernelspec": {
   "display_name": "Python 3.7.12 ('nbdev2')",
   "language": "python",
   "name": "python3"
  }
 },
 "nbformat": 4,
 "nbformat_minor": 2
}
