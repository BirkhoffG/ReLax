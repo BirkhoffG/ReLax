{
 "cells": [
  {
   "attachments": {},
   "cell_type": "markdown",
   "metadata": {},
   "source": [
    "# Dataloader\n",
    "\n",
    "> Support various dataloader for loading batches."
   ]
  },
  {
   "cell_type": "code",
   "execution_count": null,
   "metadata": {},
   "outputs": [],
   "source": [
    "#| default_exp data.loader"
   ]
  },
  {
   "cell_type": "code",
   "execution_count": null,
   "metadata": {},
   "outputs": [],
   "source": [
    "#| include: false\n",
    "%load_ext autoreload\n",
    "%autoreload 2\n",
    "from ipynb_path import *\n",
    "from nbdev import show_doc\n",
    "import warnings\n",
    "warnings.simplefilter(action='ignore', category=FutureWarning)"
   ]
  },
  {
   "cell_type": "code",
   "execution_count": null,
   "metadata": {},
   "outputs": [],
   "source": [
    "#| export\n",
    "from __future__ import annotations\n",
    "from relax.import_essentials import *"
   ]
  },
  {
   "cell_type": "code",
   "execution_count": null,
   "metadata": {},
   "outputs": [],
   "source": [
    "#| export\n",
    "try:\n",
    "    import torch.utils.data as torch_data\n",
    "except ModuleNotFoundError:\n",
    "    torch_data = None"
   ]
  },
  {
   "cell_type": "code",
   "execution_count": null,
   "metadata": {},
   "outputs": [],
   "source": [
    "#| export\n",
    "class Dataset:\n",
    "    \"\"\"A simple pytorch-like Numpy Dataset.\"\"\"\n",
    "    def __init__(self, X: jnp.DeviceArray, y: jnp.DeviceArray):\n",
    "        self.X = X\n",
    "        self.y = y\n",
    "        assert self.X.shape[0] == self.y.shape[0]\n",
    "\n",
    "    def __len__(self):\n",
    "        return len(self.X)\n",
    "\n",
    "    def __getitem__(self, idx):\n",
    "        return self.X[idx], self.y[idx]"
   ]
  },
  {
   "cell_type": "code",
   "execution_count": null,
   "metadata": {},
   "outputs": [
    {
     "name": "stderr",
     "output_type": "stream",
     "text": [
      "WARNING:absl:No GPU/TPU found, falling back to CPU. (Set TF_CPP_MIN_LOG_LEVEL=0 and rerun for more info.)\n"
     ]
    }
   ],
   "source": [
    "key = random.PRNGKey(0)\n",
    "X = jax.random.normal(key, shape=(10, 10))\n",
    "y = jax.random.normal(key, shape=(10, ))\n",
    "ds = Dataset(X, y)\n",
    "\n",
    "assert len(ds) == 10"
   ]
  },
  {
   "attachments": {},
   "cell_type": "markdown",
   "metadata": {},
   "source": [
    "Indexing `Dataset` using `ds[idx]`"
   ]
  },
  {
   "cell_type": "code",
   "execution_count": null,
   "metadata": {},
   "outputs": [],
   "source": [
    "x1, y1 = ds[1]\n",
    "assert jnp.array_equal(x1, X[1])\n",
    "assert jnp.array_equal(y1, y[1])"
   ]
  },
  {
   "cell_type": "code",
   "execution_count": null,
   "metadata": {},
   "outputs": [],
   "source": [
    "#| export\n",
    "class BaseDataLoader(ABC):\n",
    "    \"\"\"Dataloader Interface\"\"\"\n",
    "    def __init__(\n",
    "        self, \n",
    "        dataset,\n",
    "        backend: str,\n",
    "        *,\n",
    "        batch_size: int = 1,  # batch size\n",
    "        shuffle: bool = False,  # if true, dataloader shuffles before sampling each batch\n",
    "        num_workers: int = 0,\n",
    "        drop_last: bool = False,\n",
    "        **kwargs\n",
    "    ):\n",
    "        pass \n",
    "    \n",
    "    def __len__(self):\n",
    "        raise NotImplementedError\n",
    "    \n",
    "    def __next__(self):\n",
    "        raise NotImplementedError\n",
    "    \n",
    "    def __iter__(self):\n",
    "        raise NotImplementedError"
   ]
  },
  {
   "attachments": {},
   "cell_type": "markdown",
   "metadata": {},
   "source": [
    "## Jax Dataloader"
   ]
  },
  {
   "cell_type": "code",
   "execution_count": null,
   "metadata": {},
   "outputs": [],
   "source": [
    "#| export\n",
    "class DataLoaderJax(BaseDataLoader):\n",
    "    \"\"\"Dataloder in Vanilla Jax\"\"\"\n",
    "    def __init__(\n",
    "        self, \n",
    "        dataset: Dataset,\n",
    "        backend: str = 'jax', # positional argument\n",
    "        batch_size: int = 1,  # batch size\n",
    "        shuffle: bool = False,  # if true, dataloader shuffles before sampling each batch\n",
    "        num_workers: int = 0, # positional argument; \n",
    "        drop_last: bool = False, # drop last batches or not\n",
    "        **kwargs\n",
    "    ):\n",
    "        # Attributes from pytorch data loader (implemented)\n",
    "        self.dataset = dataset\n",
    "        self.batch_size = batch_size\n",
    "        self.shuffle = shuffle\n",
    "        self.drop_last = drop_last\n",
    "\n",
    "        self.data_len: int = len(dataset)  # Length of the dataset\n",
    "        self.indices: np.ndarray = np.arange(self.data_len) # available indices in the dataset\n",
    "        self.pose: int = 0  # record the current position in the dataset\n",
    "\n",
    "    def __len__(self):\n",
    "        if self.drop_last:\n",
    "            batches = len(self.dataset) // self.batch_size  # get the floor of division\n",
    "        else:\n",
    "            batches = -(\n",
    "                len(self.dataset) // -self.batch_size\n",
    "            )  # get the ceil of division\n",
    "        return batches\n",
    "\n",
    "    def __next__(self):\n",
    "        if self.pose <= self.data_len:\n",
    "            if self.shuffle:\n",
    "                self.indices = np.random.permutation(self.indices)\n",
    "            batch_data = self.dataset[self.indices[: self.batch_size]]\n",
    "            self.indices = self.indices[self.batch_size :]\n",
    "            if self.drop_last and len(self.indices) < self.batch_size:\n",
    "                self.pose = 0\n",
    "                self.indices = np.arange(self.data_len)\n",
    "                raise StopIteration\n",
    "            self.pose += self.batch_size\n",
    "            return batch_data\n",
    "        else:\n",
    "            self.pose = 0\n",
    "            self.indices = np.arange(self.data_len)\n",
    "            raise StopIteration\n",
    "\n",
    "    def __iter__(self):\n",
    "        return self"
   ]
  },
  {
   "attachments": {},
   "cell_type": "markdown",
   "metadata": {},
   "source": [
    "## Pytorch Dataloader\n",
    "\n",
    "Use `Pytorch` to load batches. It requires [pytorch](https://pytorch.org/get-started/) to be installed."
   ]
  },
  {
   "cell_type": "code",
   "execution_count": null,
   "metadata": {},
   "outputs": [],
   "source": [
    "#| exporti\n",
    "# copy from https://jax.readthedocs.io/en/latest/notebooks/Neural_Network_and_Data_Loading.html#data-loading-with-pytorch\n",
    "def _numpy_collate(batch):\n",
    "    if isinstance(batch[0], np.ndarray):\n",
    "        return np.stack(batch)\n",
    "    elif isinstance(batch[0], (tuple, list)):\n",
    "        transposed = zip(*batch)\n",
    "        return [_numpy_collate(samples) for samples in transposed]\n",
    "    else:\n",
    "        return np.array(batch)\n",
    "\n",
    "def _convert_dataset_pytorch(dataset: Dataset):\n",
    "    class DatasetPytorch(torch_data.Dataset):\n",
    "        def __init__(self, dataset: Dataset): self.dataset = dataset\n",
    "        def __len__(self): return len(self.dataset)\n",
    "        def __getitem__(self, idx): return self.dataset[idx]\n",
    "    \n",
    "    return DatasetPytorch(dataset)"
   ]
  },
  {
   "cell_type": "code",
   "execution_count": null,
   "metadata": {},
   "outputs": [],
   "source": [
    "#| export\n",
    "class DataLoaderPytorch(BaseDataLoader):\n",
    "    \"\"\"Pytorch Dataloader\"\"\"\n",
    "    def __init__(\n",
    "        self, \n",
    "        dataset: Dataset,\n",
    "        backend: str = 'pytorch', # positional argument\n",
    "        batch_size: int = 1,  # batch size\n",
    "        shuffle: bool = False,  # if true, dataloader shuffles before sampling each batch\n",
    "        num_workers: int = 0, # number of workers\n",
    "        drop_last: bool = False, # drop last batch or not\n",
    "        **kwargs\n",
    "    ):\n",
    "        if torch_data is None:\n",
    "            raise ModuleNotFoundError(\"`pytorch` library needs to be installed. Try `pip install torch`.\"\n",
    "            \"Please refer to pytorch documentation for details: https://pytorch.org/get-started/.\")\n",
    "        \n",
    "        dataset = _convert_dataset_pytorch(dataset)\n",
    "        self.dataloader = torch_data.DataLoader(\n",
    "            dataset, \n",
    "            batch_size=batch_size, \n",
    "            shuffle=shuffle, \n",
    "            num_workers=num_workers, \n",
    "            drop_last=drop_last,\n",
    "            collate_fn=_numpy_collate,\n",
    "            **kwargs\n",
    "        ) \n",
    "\n",
    "    def __len__(self):\n",
    "        return len(self.dataloader)\n",
    "\n",
    "    def __next__(self):\n",
    "        return next(self.dataloader)\n",
    "\n",
    "    def __iter__(self):\n",
    "        return self.dataloader.__iter__()"
   ]
  },
  {
   "attachments": {},
   "cell_type": "markdown",
   "metadata": {},
   "source": [
    "## Main Dataloader Class"
   ]
  },
  {
   "cell_type": "code",
   "execution_count": null,
   "metadata": {},
   "outputs": [],
   "source": [
    "#| export\n",
    "backend2dataloader = {\n",
    "    'jax': DataLoaderJax,\n",
    "    'pytorch': DataLoaderPytorch,\n",
    "    'tensorflow': None,\n",
    "    'merlin': None,\n",
    "}"
   ]
  },
  {
   "cell_type": "code",
   "execution_count": null,
   "metadata": {},
   "outputs": [],
   "source": [
    "#| exporti\n",
    "def _supported_backends():\n",
    "    return [back for back, dl_cls in backend2dataloader.items() if dl_cls is not None ]"
   ]
  },
  {
   "cell_type": "code",
   "execution_count": null,
   "metadata": {},
   "outputs": [],
   "source": [
    "#| exporti\n",
    "def _dispatch_dataloader(\n",
    "    backend: str # dataloader backend\n",
    ") -> BaseDataLoader:\n",
    "    \"\"\"Return Dataloader class based on given `backend`\"\"\"\n",
    "    dataloader_backends = backend2dataloader.keys()\n",
    "    if not backend in dataloader_backends:\n",
    "        raise ValueError(f\"backend=`{backend}` is an invalid backend for dataloader. \"\n",
    "            f\"Should be one of {dataloader_backends}.\")\n",
    "    \n",
    "    dataloader_cls = backend2dataloader[backend]\n",
    "    if dataloader_cls is None:\n",
    "        raise NotImplementedError(f'backend=`{backend}` is not supported yet.')\n",
    "    return dataloader_cls\n"
   ]
  },
  {
   "cell_type": "code",
   "execution_count": null,
   "metadata": {},
   "outputs": [
    {
     "data": {
      "text/markdown": [
       "---\n",
       "\n",
       "### _dispatch_dataloader\n",
       "\n",
       ">      _dispatch_dataloader (backend:str)\n",
       "\n",
       "Return Dataloader class based on given `backend`\n",
       "\n",
       "|    | **Type** | **Details** |\n",
       "| -- | -------- | ----------- |\n",
       "| backend | str | dataloader backend |\n",
       "| **Returns** | **BaseDataLoader** |  |"
      ],
      "text/plain": [
       "---\n",
       "\n",
       "### _dispatch_dataloader\n",
       "\n",
       ">      _dispatch_dataloader (backend:str)\n",
       "\n",
       "Return Dataloader class based on given `backend`\n",
       "\n",
       "|    | **Type** | **Details** |\n",
       "| -- | -------- | ----------- |\n",
       "| backend | str | dataloader backend |\n",
       "| **Returns** | **BaseDataLoader** |  |"
      ]
     },
     "execution_count": null,
     "metadata": {},
     "output_type": "execute_result"
    }
   ],
   "source": [
    "show_doc(_dispatch_dataloader)"
   ]
  },
  {
   "cell_type": "code",
   "execution_count": null,
   "metadata": {},
   "outputs": [],
   "source": [
    "#| export\n",
    "class DataLoader(BaseDataLoader):\n",
    "    \"\"\"Main Dataloader class to load Numpy data batches\"\"\"\n",
    "    def __init__(\n",
    "        self,\n",
    "        dataset: Dataset,\n",
    "        backend: str, # Dataloader backend; Currently supports `['jax', 'pytorch']`\n",
    "        batch_size: int = 1,  # batch size\n",
    "        shuffle: bool = False,  # if true, dataloader shuffles before sampling each batch\n",
    "        num_workers: int = 0, # number of workers\n",
    "        drop_last: bool = False, # drop last batches or not\n",
    "        **kwargs\n",
    "    ):\n",
    "        self.__class__ = _dispatch_dataloader(backend)\n",
    "        self.__init__(\n",
    "            dataset=dataset, \n",
    "            backend=backend, \n",
    "            batch_size=batch_size, \n",
    "            shuffle=shuffle, \n",
    "            num_workers=num_workers,\n",
    "            drop_last=drop_last,\n",
    "            **kwargs\n",
    "        )"
   ]
  },
  {
   "attachments": {},
   "cell_type": "markdown",
   "metadata": {},
   "source": [
    "#### A Minimum Example of using Dataloader\n",
    "\n",
    "We showcase how to use `Dataloader` for training a simple regression model.\n"
   ]
  },
  {
   "cell_type": "code",
   "execution_count": null,
   "metadata": {},
   "outputs": [],
   "source": [
    "from sklearn.datasets import make_regression"
   ]
  },
  {
   "cell_type": "code",
   "execution_count": null,
   "metadata": {},
   "outputs": [],
   "source": [
    "X, y = make_regression(n_samples=10000, n_features=20)\n",
    "dataset = Dataset(X, y.reshape(-1, 1))\n",
    "keys = hk.PRNGSequence(0)"
   ]
  },
  {
   "attachments": {},
   "cell_type": "markdown",
   "metadata": {},
   "source": [
    "Define `loss`, `step`, `train`:"
   ]
  },
  {
   "cell_type": "code",
   "execution_count": null,
   "metadata": {},
   "outputs": [],
   "source": [
    "def loss(w, x, y):\n",
    "    return jnp.mean(vmap(optax.l2_loss)(x @ w.T, y))\n",
    "\n",
    "def step(w, x, y):\n",
    "    lr = 0.1\n",
    "    grad = jax.grad(loss)(w, x, y)\n",
    "    w -= lr * grad\n",
    "    return w\n",
    "\n",
    "def train(dataloader: DataLoader, key: random.PRNGKey):\n",
    "    w = jax.random.normal(key, shape=(1, 20))\n",
    "    n_epochs = 10\n",
    "    for _ in range(n_epochs):\n",
    "        for x, y in dataloader:\n",
    "            w = step(w, x, y)\n",
    "    return w\n",
    "\n",
    "def eval(dataloader: DataLoader, w):\n",
    "    err = []\n",
    "    for x, y in dataloader:\n",
    "        err.append(loss(w, x, y))\n",
    "    return np.mean(err)\n",
    "    "
   ]
  },
  {
   "attachments": {},
   "cell_type": "markdown",
   "metadata": {},
   "source": [
    "Train this linear regression model via `DataLoaderJax`:"
   ]
  },
  {
   "cell_type": "code",
   "execution_count": null,
   "metadata": {},
   "outputs": [],
   "source": [
    "dataloader = DataLoader(\n",
    "    dataset, 'jax', batch_size=128, shuffle=True)\n",
    "w = train(dataloader, next(keys)).block_until_ready()\n",
    "assert np.allclose(eval(dataloader, w), 0.)\n"
   ]
  },
  {
   "cell_type": "code",
   "execution_count": null,
   "metadata": {},
   "outputs": [],
   "source": [
    "#| include: false\n",
    "# TODO: seems like something is wrong when N % batch_size == 0\n",
    "# dataloader = DataLoader(dataset, 'jax', batch_size=200, shuffle=True)\n",
    "# w = train(dataloader, next(keys))\n",
    "# assert np.allclose(eval(dataloader, w), 0.)"
   ]
  },
  {
   "attachments": {},
   "cell_type": "markdown",
   "metadata": {},
   "source": [
    "Train this linear regression model via `DataLoaderPytorch`:"
   ]
  },
  {
   "cell_type": "code",
   "execution_count": null,
   "metadata": {},
   "outputs": [],
   "source": [
    "dataloader = DataLoader(\n",
    "    dataset, 'pytorch', batch_size=128, shuffle=True)\n",
    "w = train(dataloader, next(keys)).block_until_ready()\n",
    "assert np.allclose(eval(dataloader, w), 0.)"
   ]
  }
 ],
 "metadata": {
  "kernelspec": {
   "display_name": "nbdev2",
   "language": "python",
   "name": "python3"
  }
 },
 "nbformat": 4,
 "nbformat_minor": 2
}
