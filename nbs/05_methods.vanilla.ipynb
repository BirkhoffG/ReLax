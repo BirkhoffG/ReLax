{
 "cells": [
  {
   "cell_type": "markdown",
   "metadata": {},
   "source": [
    "# Vanilla CF\n",
    "\n",
    "Paper link: https://doi.org/10.2139/ssrn.3063289"
   ]
  },
  {
   "cell_type": "code",
   "execution_count": null,
   "metadata": {},
   "outputs": [],
   "source": [
    "# default_exp methods.vanilla"
   ]
  },
  {
   "cell_type": "code",
   "execution_count": null,
   "metadata": {},
   "outputs": [],
   "source": [
    "# hide\n",
    "%load_ext autoreload\n",
    "%autoreload 2\n",
    "from ipynb_path import *"
   ]
  },
  {
   "cell_type": "code",
   "execution_count": null,
   "metadata": {},
   "outputs": [],
   "source": [
    "# export\n",
    "from cfnet.import_essentials import *\n",
    "from cfnet.interfaces import BaseCFExplanationModule, LocalCFExplanationModule\n",
    "from cfnet.datasets import TabularDataModule\n",
    "from cfnet.training_module import grad_update, cat_normalize\n",
    "from cfnet.utils import check_cat_info, validate_configs\n"
   ]
  },
  {
   "cell_type": "code",
   "execution_count": null,
   "metadata": {},
   "outputs": [],
   "source": [
    "# export\n",
    "def binary_cross_entropy(y_pred: chex.Array, y: chex.Array) -> chex.Array:\n",
    "    return -(y * jnp.log(y_pred) + (1 - y) * jnp.log(1 - y_pred))"
   ]
  },
  {
   "cell_type": "code",
   "execution_count": null,
   "metadata": {},
   "outputs": [],
   "source": [
    "# export \n",
    "class VanillaCFConfig(BaseParser):\n",
    "    n_steps: int = 1000\n",
    "    lr: float = 0.001\n"
   ]
  },
  {
   "cell_type": "code",
   "execution_count": null,
   "metadata": {},
   "outputs": [],
   "source": [
    "# export\n",
    "class VanillaCF(LocalCFExplanationModule):\n",
    "    name = \"VanillaCF\"\n",
    "\n",
    "    def __init__(self, \n",
    "        configs: Union[Dict[str, Any], VanillaCFConfig], \n",
    "        data_module: Optional[TabularDataModule] = None\n",
    "    ):\n",
    "        self.configs = validate_configs(configs, VanillaCFConfig)\n",
    "        if data_module:\n",
    "            self.update_cat_info(data_module)\n",
    "\n",
    "    def _loss_fn_1(self,\n",
    "        cf_y: jnp.ndarray,\n",
    "        y_prime: jnp.ndarray\n",
    "    ) -> jnp.ndarray:\n",
    "        return jnp.mean(binary_cross_entropy(y_pred=cf_y, y=y_prime))\n",
    "\n",
    "    def _loss_fn_2(self,\n",
    "        x: jnp.ndarray,\n",
    "        cf: jnp.ndarray\n",
    "    ) -> jnp.ndarray:\n",
    "        return jnp.mean(optax.l2_loss(cf, x))\n",
    "\n",
    "    def generate_cf(self,\n",
    "        x: jnp.ndarray, # `x` shape: (k,), where `k` is the number of features \n",
    "        pred_fn: Callable[[jnp.DeviceArray], jnp.DeviceArray]\n",
    "    ) -> jnp.DeviceArray:\n",
    "        def loss_fn(\n",
    "            cf: jnp.ndarray, x: jnp.ndarray, pred_fn: Callable[[jnp.DeviceArray], jnp.DeviceArray]\n",
    "        ) -> jnp.DeviceArray:\n",
    "            y_pred = pred_fn(x)\n",
    "            y_prime = 1. - y_pred\n",
    "            cf_y = pred_fn(cf)\n",
    "            return self._loss_fn_1(cf_y, y_prime) + 0.5 * self._loss_fn_2(x, cf)\n",
    "\n",
    "        @jax.jit\n",
    "        def gen_cf_step(\n",
    "            x: jnp.DeviceArray, cf: jnp.DeviceArray, opt_state: optax.OptState\n",
    "        ) -> Tuple[jnp.DeviceArray, optax.OptState]:\n",
    "            cf_grads = jax.grad(loss_fn)(cf, x, pred_fn)\n",
    "            cf, opt_state = grad_update(cf_grads, cf, opt_state, opt)\n",
    "            cf = cat_normalize(\n",
    "                cf, cat_arrays=self.cat_arrays, cat_idx=self.cat_idx, hard=False)\n",
    "            return cf, opt_state\n",
    "\n",
    "        x = x.reshape(1, -1)\n",
    "        cf = jnp.array(x, copy=True)\n",
    "        opt = optax.rmsprop(self.configs.lr)\n",
    "        opt_state = opt.init(cf)\n",
    "        for _ in tqdm(range(self.configs.n_steps)):\n",
    "            cf, opt_state = gen_cf_step(x, cf, opt_state)\n",
    "\n",
    "        cf = cat_normalize(\n",
    "            cf, cat_arrays=self.cat_arrays, cat_idx=self.cat_idx, hard=True)\n",
    "        return cf.reshape(-1)\n",
    "\n",
    "    @check_cat_info\n",
    "    def generate_cfs(self,\n",
    "        X: jnp.DeviceArray, # `x` shape: (b, k), where `b` is batch size, `k` is the number of features \n",
    "        pred_fn: Callable[[jnp.DeviceArray], jnp.DeviceArray],\n",
    "        is_parallel: bool = False\n",
    "    ) -> jnp.DeviceArray:\n",
    "        def _generate_cf(x: jnp.DeviceArray, pred_fn) -> jnp.ndarray:\n",
    "            return self.generate_cf(x, pred_fn)\n",
    "        return jax.vmap(_generate_cf)(X, pred_fn) if not is_parallel else jax.pmap(_generate_cf)(X, pred_fn)"
   ]
  },
  {
   "cell_type": "markdown",
   "metadata": {},
   "source": [
    "## Test"
   ]
  },
  {
   "cell_type": "code",
   "execution_count": null,
   "metadata": {},
   "outputs": [],
   "source": [
    "data_configs = {\n",
    "    \"data_dir\": \"assets/data/s_adult.csv\",\n",
    "    \"data_name\": \"adult\",\n",
    "    \"batch_size\": 256,\n",
    "    'sample_frac': 0.1,\n",
    "    \"continous_cols\": [\n",
    "        \"age\",\n",
    "        \"hours_per_week\"\n",
    "    ],\n",
    "    \"discret_cols\": [\n",
    "        \"workclass\",\n",
    "        \"education\",\n",
    "        \"marital_status\",\n",
    "        \"occupation\",\n",
    "        \"race\",\n",
    "        \"gender\"\n",
    "    ],\n",
    "}\n",
    "m_configs = {\n",
    "    \"sizes\": [50, 10, 50],\n",
    "    \"dropout_rate\": 0.3,\n",
    "    'lr': 0.03,\n",
    "}\n",
    "t_configs = {\n",
    "    'n_epochs': 10,\n",
    "    'monitor_metrics': 'val/val_loss'\n",
    "}"
   ]
  },
  {
   "cell_type": "code",
   "execution_count": null,
   "metadata": {},
   "outputs": [
    {
     "name": "stderr",
     "output_type": "stream",
     "text": [
      "WARNING:absl:No GPU/TPU found, falling back to CPU. (Set TF_CPP_MIN_LOG_LEVEL=0 and rerun for more info.)\n",
      "Epoch 9: 100%|██████████| 10/10 [00:00<00:00, 91.62batch/s, train/train_loss_1=0.0597]\n"
     ]
    }
   ],
   "source": [
    "from cfnet.training_module import PredictiveTrainingModule\n",
    "from cfnet.train import train_model\n",
    "\n",
    "training_module = PredictiveTrainingModule(m_configs)\n",
    "\n",
    "params, opt_state = train_model(\n",
    "    training_module, \n",
    "    TabularDataModule(data_configs), \n",
    "    t_configs\n",
    ")"
   ]
  },
  {
   "cell_type": "code",
   "execution_count": null,
   "metadata": {},
   "outputs": [],
   "source": [
    "dm = TabularDataModule(data_configs)\n",
    "pred_fn = lambda x: training_module.forward(params, random.PRNGKey(0), x, is_training=False)\n",
    "\n",
    "cf_exp = VanillaCF(\n",
    "    configs=VanillaCFConfig(n_steps=1000, pred_fn=pred_fn)\n",
    ")\n",
    "cf_exp.update_cat_info(dm)\n",
    "\n",
    "X, y = dm.test_dataset[:]\n"
   ]
  },
  {
   "cell_type": "code",
   "execution_count": null,
   "metadata": {},
   "outputs": [
    {
     "data": {
      "text/plain": [
       "DeviceArray(0.8152561, dtype=float32)"
      ]
     },
     "execution_count": null,
     "metadata": {},
     "output_type": "execute_result"
    }
   ],
   "source": [
    "jnp.sum(jnp.round(pred_fn(X)) == y) / len(X)"
   ]
  },
  {
   "cell_type": "code",
   "execution_count": null,
   "metadata": {},
   "outputs": [
    {
     "name": "stderr",
     "output_type": "stream",
     "text": [
      "100%|██████████| 1000/1000 [00:00<00:00, 1780.54it/s]\n"
     ]
    }
   ],
   "source": [
    "cf = cf_exp.generate_cf(X[0])"
   ]
  },
  {
   "cell_type": "code",
   "execution_count": null,
   "metadata": {},
   "outputs": [
    {
     "name": "stderr",
     "output_type": "stream",
     "text": [
      "100%|██████████| 1000/1000 [00:05<00:00, 188.09it/s]\n"
     ]
    }
   ],
   "source": [
    "cfs = cf_exp.generate_cfs(X)"
   ]
  },
  {
   "cell_type": "code",
   "execution_count": null,
   "metadata": {},
   "outputs": [],
   "source": [
    "y_pred = pred_fn(X)\n",
    "cf_pred = pred_fn(cfs)"
   ]
  },
  {
   "cell_type": "code",
   "execution_count": null,
   "metadata": {},
   "outputs": [],
   "source": [
    "y_prime = 1. - jnp.round(y_pred)\n",
    "validity = jnp.sum(jnp.round(cf_pred) == y_prime) / len(cf_pred)"
   ]
  },
  {
   "cell_type": "code",
   "execution_count": null,
   "metadata": {},
   "outputs": [
    {
     "data": {
      "text/plain": [
       "DeviceArray(0.79056627, dtype=float32)"
      ]
     },
     "execution_count": null,
     "metadata": {},
     "output_type": "execute_result"
    }
   ],
   "source": [
    "validity"
   ]
  }
 ],
 "metadata": {
  "kernelspec": {
   "display_name": "Python 3.7.10 ('base')",
   "language": "python",
   "name": "python3"
  }
 },
 "nbformat": 4,
 "nbformat_minor": 2
}
