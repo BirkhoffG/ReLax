{
 "cells": [
  {
   "cell_type": "markdown",
   "metadata": {},
   "source": [
    "# Vanilla CF\n",
    "\n",
    "> Vanilla counterfactual explanation."
   ]
  },
  {
   "cell_type": "code",
   "execution_count": 83,
   "metadata": {},
   "outputs": [],
   "source": [
    "# | default_exp methods.vanilla\n"
   ]
  },
  {
   "cell_type": "code",
   "execution_count": 84,
   "metadata": {},
   "outputs": [
    {
     "name": "stdout",
     "output_type": "stream",
     "text": [
      "The autoreload extension is already loaded. To reload it, use:\n",
      "  %reload_ext autoreload\n"
     ]
    }
   ],
   "source": [
    "#| include: false\n",
    "%load_ext autoreload\n",
    "%autoreload 2\n",
    "from ipynb_path import *"
   ]
  },
  {
   "cell_type": "code",
   "execution_count": 85,
   "metadata": {},
   "outputs": [],
   "source": [
    "# | export\n",
    "from __future__ import annotations\n",
    "from cfnet.import_essentials import *\n",
    "from cfnet.interfaces import BaseCFExplanationModule, LocalCFExplanationModule\n",
    "from cfnet.datasets import TabularDataModule\n",
    "from cfnet.utils import (\n",
    "    check_cat_info,\n",
    "    validate_configs,\n",
    "    binary_cross_entropy,\n",
    "    cat_normalize,\n",
    "    grad_update,\n",
    ")\n",
    "from functools import partial"
   ]
  },
  {
   "cell_type": "code",
   "execution_count": 86,
   "metadata": {},
   "outputs": [],
   "source": [
    "# | exporti\n",
    "def _vanilla_cf(\n",
    "    x: jnp.DeviceArray,  # `x` shape: (k,), where `k` is the number of features\n",
    "    pred_fn: Callable[[jnp.DeviceArray], jnp.DeviceArray],  # y = pred_fn(x)\n",
    "    n_steps: int,\n",
    "    lr: float,  # learning rate for each `cf` optimization step\n",
    "    lambda_: float,  #  loss = validity_loss + lambda_params * cost\n",
    "    cat_arrays: List[List[str]],\n",
    "    cat_idx: int,\n",
    "    restarts: int = 0,\n",
    "    prng_keys: hk.PRNGSequence = hk.PRNGSequence(31)\n",
    ") -> jnp.DeviceArray:  # return `cf` shape: (k,)\n",
    "    def loss_fn_1(cf_y: jnp.DeviceArray, y_prime: jnp.DeviceArray):\n",
    "        return jnp.mean(binary_cross_entropy(y_pred=cf_y, y=y_prime))\n",
    "\n",
    "    def loss_fn_2(x: jnp.DeviceArray, cf: jnp.DeviceArray):\n",
    "        return jnp.mean(optax.l2_loss(cf, x))\n",
    "\n",
    "    def loss_fn(\n",
    "        cf: jnp.DeviceArray,  # `cf` shape: (k, 1)\n",
    "        x: jnp.DeviceArray,  # `x` shape: (k, 1)\n",
    "        pred_fn: Callable[[jnp.DeviceArray], jnp.DeviceArray],\n",
    "    ):\n",
    "        y_pred = pred_fn(x)\n",
    "        y_prime = 1.0 - y_pred\n",
    "        cf_y = pred_fn(cf)\n",
    "        return loss_fn_1(cf_y, y_prime) + lambda_ * loss_fn_2(x, cf)\n",
    "\n",
    "    @partial(jax.jit, static_argnames=[\"opt\"])\n",
    "    def gen_cf_step(\n",
    "        x: jnp.DeviceArray, cf: jnp.DeviceArray, opt_state: optax.OptState, opt\n",
    "    ) -> Tuple[jnp.DeviceArray, optax.OptState]:\n",
    "        cf_grads = jax.grad(loss_fn)(cf, x, pred_fn)\n",
    "        cf, opt_state = grad_update(cf_grads, cf, opt_state, opt)\n",
    "        cf = cat_normalize(cf, cat_arrays=cat_arrays, cat_idx=cat_idx, hard=False)\n",
    "        cf = jnp.clip(cf, 0.0, 1.0)\n",
    "        return cf, opt_state\n",
    "\n",
    "    def gen_cf(x: jnp.DeviceArray, lr: float, n_steps: int, key: random.PRNGKey):\n",
    "        cf = jnp.array(x, copy=True) \\\n",
    "            + jax.random.normal(key, shape=x.shape, dtype=x.dtype)\n",
    "        opt = optax.adam(lr)\n",
    "        opt_state = opt.init(cf)\n",
    "        for _ in tqdm(range(n_steps)):\n",
    "            cf, opt_state = gen_cf_step(x, cf, opt_state, opt)\n",
    "        return cf\n",
    "\n",
    "    x_size = x.shape\n",
    "    if len(x_size) > 1 and x_size[0] != 1:\n",
    "        raise ValueError(\n",
    "            f\"\"\"Invalid Input Shape: Require `x.shape` = (1, k) or (k, ),\n",
    "but got `x.shape` = {x.shape}. This method expects a single input instance.\"\"\"\n",
    "        )\n",
    "    if len(x_size) == 1:\n",
    "        x = x.reshape(1, -1)\n",
    "    \n",
    "    runs = restarts + 1\n",
    "    if runs > 1:\n",
    "        # TODO: use `vmap` for acceleration\n",
    "        cfs = jnp.concatenate([\n",
    "            gen_cf(x, lr, n_steps, next(prng_keys)) for _ in range(runs)\n",
    "        ], axis=0) # (n, k)\n",
    "        cfs_loss = jnp.array([\n",
    "            loss_fn(cf.reshape(1, -1), x, pred_fn) for cf in cfs\n",
    "        ])\n",
    "        cf = cfs[jnp.argmin(cfs_loss)].reshape(1, -1)\n",
    "    else:\n",
    "        cf = gen_cf(x, lr, n_steps, next(prng_keys))\n",
    "\n",
    "    cf = cat_normalize(cf, cat_arrays=cat_arrays, cat_idx=cat_idx, hard=True)\n",
    "    return cf.reshape(x_size)"
   ]
  },
  {
   "cell_type": "code",
   "execution_count": 87,
   "metadata": {},
   "outputs": [],
   "source": [
    "# | export\n",
    "class VanillaCFConfig(BaseParser):\n",
    "    n_steps: int = 1000\n",
    "    lr: float = 0.01\n",
    "    lambda_: float = 0.01  # loss = validity_loss + lambda_params * cost\n",
    "    restarts: int = 0 # if `0`, no restarts\n",
    "    seed: int = 31\n"
   ]
  },
  {
   "cell_type": "code",
   "execution_count": 88,
   "metadata": {},
   "outputs": [],
   "source": [
    "# | export\n",
    "class VanillaCF(LocalCFExplanationModule):\n",
    "    name = \"VanillaCF\"\n",
    "\n",
    "    def __init__(\n",
    "        self,\n",
    "        configs: dict | VanillaCFConfig,\n",
    "        data_module: Optional[TabularDataModule] = None,\n",
    "    ):\n",
    "        self.configs = validate_configs(configs, VanillaCFConfig)\n",
    "        if data_module:\n",
    "            self.update_cat_info(data_module)\n",
    "\n",
    "    def generate_cf(\n",
    "        self,\n",
    "        x: jnp.ndarray,  # `x` shape: (k,), where `k` is the number of features\n",
    "        pred_fn: Callable[[jnp.DeviceArray], jnp.DeviceArray],\n",
    "    ) -> jnp.DeviceArray:\n",
    "        return _vanilla_cf(\n",
    "            x=x,  # `x` shape: (k,), where `k` is the number of features\n",
    "            pred_fn=pred_fn,  # y = pred_fn(x)\n",
    "            n_steps=self.configs.n_steps,\n",
    "            lr=self.configs.lr,  # learning rate for each `cf` optimization step\n",
    "            lambda_=self.configs.lambda_,  #  loss = validity_loss + lambda_params * cost\n",
    "            cat_arrays=self.cat_arrays,\n",
    "            cat_idx=self.cat_idx,\n",
    "            restarts=self.configs.restarts,\n",
    "            prng_keys=hk.PRNGSequence(self.configs.seed)\n",
    "        )\n",
    "\n",
    "    @check_cat_info\n",
    "    def generate_cfs(\n",
    "        self,\n",
    "        X: jnp.DeviceArray,  # `x` shape: (b, k), where `b` is batch size, `k` is the number of features\n",
    "        pred_fn: Callable[[jnp.DeviceArray], jnp.DeviceArray],\n",
    "        is_parallel: bool = False,\n",
    "    ) -> jnp.DeviceArray:\n",
    "        def _generate_cf(x: jnp.DeviceArray) -> jnp.ndarray:\n",
    "            return self.generate_cf(x, pred_fn)\n",
    "\n",
    "        return (\n",
    "            jax.vmap(_generate_cf)(X) if not is_parallel else jax.pmap(_generate_cf)(X)\n",
    "        )\n"
   ]
  },
  {
   "cell_type": "markdown",
   "metadata": {},
   "source": [
    "## Test"
   ]
  },
  {
   "cell_type": "code",
   "execution_count": 40,
   "metadata": {},
   "outputs": [],
   "source": [
    "data_configs = {\n",
    "    \"data_dir\": \"assets/data/s_adult.csv\",\n",
    "    \"data_name\": \"adult\",\n",
    "    \"batch_size\": 256,\n",
    "    \"sample_frac\": 0.1,\n",
    "    \"continous_cols\": [\"age\", \"hours_per_week\"],\n",
    "    \"discret_cols\": [\n",
    "        \"workclass\",\n",
    "        \"education\",\n",
    "        \"marital_status\",\n",
    "        \"occupation\",\n",
    "        \"race\",\n",
    "        \"gender\",\n",
    "    ],\n",
    "}\n",
    "m_configs = {\n",
    "    \"sizes\": [50, 10, 50],\n",
    "    \"dropout_rate\": 0.3,\n",
    "    \"lr\": 0.03,\n",
    "}\n",
    "t_configs = {\n",
    "    \"n_epochs\": 1,\n",
    "    \"monitor_metrics\": \"val/val_loss\",\n",
    "    \"seed\": 42,\n",
    "    \"batch_size\": 256,\n",
    "}\n"
   ]
  },
  {
   "cell_type": "code",
   "execution_count": 41,
   "metadata": {},
   "outputs": [],
   "source": [
    "from cfnet.module import PredictiveTrainingModule\n",
    "from cfnet.train import train_model\n"
   ]
  },
  {
   "cell_type": "code",
   "execution_count": 32,
   "metadata": {},
   "outputs": [
    {
     "name": "stderr",
     "output_type": "stream",
     "text": [
      "Epoch 0: 100%|██████████| 10/10 [00:10<00:00,  1.09s/batch, train/train_loss_1=0.0911]\n",
      "/home/birk/code/cfnet/cfnet/_ckpt_manager.py:14: FutureWarning: jax.tree_leaves is deprecated, and will be removed in a future release. Use jax.tree_util.tree_leaves instead.\n",
      "  for x in jax.tree_leaves(state):\n"
     ]
    }
   ],
   "source": [
    "training_module = PredictiveTrainingModule(m_configs)\n",
    "\n",
    "params, opt_state = train_model(\n",
    "    training_module, TabularDataModule(data_configs), t_configs\n",
    ")\n"
   ]
  },
  {
   "cell_type": "code",
   "execution_count": 89,
   "metadata": {},
   "outputs": [
    {
     "name": "stderr",
     "output_type": "stream",
     "text": [
      "100%|██████████| 1000/1000 [00:00<00:00, 1072.53it/s]\n",
      "100%|██████████| 1000/1000 [00:01<00:00, 900.28it/s]\n",
      "100%|██████████| 1000/1000 [00:01<00:00, 883.55it/s]\n",
      "100%|██████████| 1000/1000 [00:01<00:00, 797.07it/s]\n",
      "100%|██████████| 1000/1000 [00:01<00:00, 955.65it/s]\n",
      "100%|██████████| 1000/1000 [00:00<00:00, 1070.35it/s]\n",
      "100%|██████████| 1000/1000 [00:03<00:00, 327.34it/s]\n",
      "100%|██████████| 1000/1000 [00:03<00:00, 294.57it/s]\n",
      "100%|██████████| 1000/1000 [00:03<00:00, 252.04it/s]\n",
      "100%|██████████| 1000/1000 [00:03<00:00, 331.33it/s]\n",
      "100%|██████████| 1000/1000 [00:05<00:00, 189.48it/s]\n",
      "100%|██████████| 1000/1000 [00:05<00:00, 195.44it/s]\n"
     ]
    }
   ],
   "source": [
    "dm = TabularDataModule(data_configs)\n",
    "pred_fn = lambda x: training_module.forward(\n",
    "    params, random.PRNGKey(0), x, is_training=False\n",
    ")\n",
    "\n",
    "cf_exp = VanillaCF(configs=VanillaCFConfig(n_steps=1000, restarts=5))\n",
    "cf_exp.update_cat_info(dm)\n",
    "\n",
    "X, y = dm.test_dataset[:]\n",
    "\n",
    "cf = cf_exp.generate_cf(X[0], pred_fn)\n",
    "cfs = cf_exp.generate_cfs(X[:100, :], pred_fn)\n"
   ]
  }
 ],
 "metadata": {
  "kernelspec": {
   "display_name": "Python 3.7.13 ('nbdev2')",
   "language": "python",
   "name": "python3"
  },
  "language_info": {
   "codemirror_mode": {
    "name": "ipython",
    "version": 3
   },
   "file_extension": ".py",
   "mimetype": "text/x-python",
   "name": "python",
   "nbconvert_exporter": "python",
   "pygments_lexer": "ipython3",
   "version": "3.7.13"
  },
  "vscode": {
   "interpreter": {
    "hash": "0ac96ee23b95b4118768073706f37cdea4905e0d36379010678a0d912eb0f9ec"
   }
  }
 },
 "nbformat": 4,
 "nbformat_minor": 2
}
