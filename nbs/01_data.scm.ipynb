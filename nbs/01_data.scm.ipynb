{
 "cells": [
  {
   "attachments": {},
   "cell_type": "markdown",
   "metadata": {},
   "source": [
    "# Causal Graphical Models\n",
    "\n",
    "> Encoding causality into the CF explanation generation."
   ]
  },
  {
   "cell_type": "code",
   "execution_count": null,
   "metadata": {},
   "outputs": [],
   "source": [
    "#| default_exp data.scm"
   ]
  },
  {
   "cell_type": "code",
   "execution_count": null,
   "metadata": {},
   "outputs": [],
   "source": [
    "#| include: false\n",
    "%load_ext autoreload\n",
    "%autoreload 2\n",
    "from ipynb_path import *\n",
    "import warnings\n",
    "\n",
    "warnings.simplefilter(action='ignore', category=FutureWarning)"
   ]
  },
  {
   "cell_type": "code",
   "execution_count": null,
   "metadata": {},
   "outputs": [],
   "source": [
    "#| export\n",
    "from __future__ import annotations\n",
    "from relax.import_essentials import *\n",
    "from relax.data import TabularDataModule, TabularDataModuleConfigs\n",
    "import networkx as nx\n",
    "try: \n",
    "    from causalgraphicalmodels import CausalGraphicalModel, StructuralCausalModel\n",
    "except: \n",
    "    raise ModuleNotFoundError(\"`causalgraphicalmodels` is not installed. \"\n",
    "        \"Try to install via `pip install git+https://github.com/BirkhoffG/causalgraphicalmodels.git`.\")"
   ]
  },
  {
   "attachments": {},
   "cell_type": "markdown",
   "metadata": {},
   "source": [
    "## Distributions\n",
    "\n",
    "https://github.com/amirhk/recourse/blob/master/distributions.py"
   ]
  },
  {
   "cell_type": "code",
   "execution_count": null,
   "metadata": {},
   "outputs": [],
   "source": [
    "#| export\n",
    "class BaseDistribution(ABC):\n",
    "    \"\"\"Base class for all distributions.\"\"\"\n",
    "    def __init__(self, name: str):\n",
    "        self.name = name\n",
    "\n",
    "    @abstractmethod\n",
    "    def sample(self, size: int):\n",
    "        pass\n",
    "\n",
    "    @abstractmethod\n",
    "    def pdf(self, value):\n",
    "        pass"
   ]
  },
  {
   "cell_type": "code",
   "execution_count": null,
   "metadata": {},
   "outputs": [],
   "source": [
    "# | export\n",
    "class Normal(BaseDistribution):\n",
    "    \"\"\"Normal distribution.\"\"\"\n",
    "    def __init__(self, mean: int | float, var: int | float):\n",
    "        super().__init__(f\"Normal (mean={mean}, var={var})\")\n",
    "        self.mean = mean\n",
    "        self.var = var\n",
    "\n",
    "    def sample(self, size=1):\n",
    "        tmp = [np.random.normal(self.mean, np.sqrt(self.var)) for _ in range(size)]\n",
    "        return tmp[0] if size == 1 else tmp\n",
    "\n",
    "    def pdf(self, value):\n",
    "        return scipy.stats.norm(self.mean, self.var).pdf(value)\n",
    "\n",
    "\n",
    "class MixtureOfGaussians(BaseDistribution):\n",
    "    \"\"\"Mixture of Gaussians distribution.\"\"\"\n",
    "    def __init__(self, probs, means, vars):\n",
    "        if not np.sum(probs) == 1:\n",
    "            raise ValueError(\"Mixture probabilities must sum to 1.\")\n",
    "        if not len(probs) == len(means) == len(vars):\n",
    "            raise ValueError(\"Length mismatch.\")\n",
    "\n",
    "        self.probs = probs\n",
    "        self.means = means\n",
    "        self.vars = vars\n",
    "        super().__init__(\n",
    "            f\"MixtureOfGaussians (mean={probs}, means={means}, vars={vars}\"\n",
    "        )\n",
    "\n",
    "    def sample(self, size=1):\n",
    "        tmp = [\n",
    "            np.random.normal(self.means[mixture_idx], np.sqrt(self.vars[mixture_idx]))\n",
    "            for mixture_idx in np.random.choice(\n",
    "                len(self.probs), size=size, p=self.probs\n",
    "            )\n",
    "        ]\n",
    "        return tmp[0] if size == 1 else tmp\n",
    "\n",
    "    def pdf(self, value):\n",
    "        return np.sum(\n",
    "            [\n",
    "                prob * scipy.stats.norm(mean, var).pdf(value)\n",
    "                for (prob, mean, var) in zip(self.probs, self.means, self.vars)\n",
    "            ]\n",
    "        )\n"
   ]
  },
  {
   "attachments": {},
   "cell_type": "markdown",
   "metadata": {},
   "source": [
    "## Load SCM\n",
    "\n",
    "Load scm structural equations."
   ]
  },
  {
   "cell_type": "code",
   "execution_count": null,
   "metadata": {},
   "outputs": [],
   "source": [
    "#| export\n",
    "def sanity_3_lin():\n",
    "    structural_equations = {\n",
    "        \"x1\": lambda n_samples: n_samples,\n",
    "        \"x2\": lambda n_samples, x1: -x1 + n_samples,\n",
    "        \"x3\": lambda n_samples, x1, x2: 0.5 * (0.1 * x1 + 0.5 * x2) + n_samples,\n",
    "    }\n",
    "    noises_distributions = {\n",
    "        \"u1\": MixtureOfGaussians([0.5, 0.5], [-2, +1], [1.5, 1]),\n",
    "        \"u2\": Normal(0, 1),\n",
    "        \"u3\": Normal(0, 1),\n",
    "    }\n",
    "    continuous = list(structural_equations.keys()) + list(\n",
    "        noises_distributions.keys()\n",
    "    )\n",
    "    categorical = []\n",
    "    immutables = []\n",
    "\n",
    "    return (\n",
    "        structural_equations,\n",
    "        noises_distributions,\n",
    "        continuous,\n",
    "        categorical,\n",
    "        immutables,\n",
    "    )"
   ]
  },
  {
   "cell_type": "code",
   "execution_count": null,
   "metadata": {},
   "outputs": [],
   "source": [
    "#| exporti\n",
    "def _load_scm_equations(\n",
    "    scm_class: str # Name of the structural causal model.\n",
    ") -> Tuple[\n",
    "    Dict[str, Callable], \n",
    "    Dict[str, Callable], \n",
    "    list, list, list]: # return scm equations\n",
    "    \n",
    "    scm_func_dict = {\n",
    "        'sanity_3_lin': sanity_3_lin\n",
    "    }\n",
    "    if not scm_class in scm_func_dict:\n",
    "        raise ValueError(f'{scm_class} should be one of {scm_func_dict.keys()}')\n",
    "    return scm_func_dict[scm_class]()"
   ]
  },
  {
   "attachments": {},
   "cell_type": "markdown",
   "metadata": {},
   "source": [
    "## Causal Model\n"
   ]
  },
  {
   "cell_type": "code",
   "execution_count": null,
   "metadata": {},
   "outputs": [],
   "source": [
    "#| export\n",
    "class CausalModel:\n",
    "    \"\"\"Class with topological methods given a structural causal model.\"\"\"\n",
    "    def __init__(\n",
    "        self,\n",
    "        scm_class: str # Name of the structural causal model.\n",
    "    ):\n",
    "        (\n",
    "            self._structural_equations,\n",
    "            self._noise_distributions,\n",
    "            self._continuous,\n",
    "            self._categorical,\n",
    "            self._immutables,\n",
    "        ) = _load_scm_equations(scm_class)\n",
    "        self._scm = StructuralCausalModel(self._structural_equations)\n",
    "        self._cgm = self._scm.cgm\n",
    "\n",
    "        self._endogenous = list(self._structural_equations.keys())\n",
    "        self._exogenous = list(self._noise_distributions.keys())\n",
    "\n",
    "        self._continuous_noise = list(set(self._continuous) - set(self._endogenous))\n",
    "        self._categorical_noise = list(set(self._categorical) - set(self._endogenous))\n",
    "\n",
    "        self._continuous = list(set(self._continuous) - set(self._exogenous))\n",
    "        self._categorical = list(set(self._categorical) - set(self._exogenous))\n",
    "\n",
    "    def get_topological_ordering(self, node_type: str = 'endogenous'):\n",
    "        \"\"\"Get topological order of nodes.\"\"\"\n",
    "        tmp = nx.topological_sort(self._cgm.dag)\n",
    "        if node_type == 'endogenous':\n",
    "            return tmp\n",
    "        elif node_type == 'exogenous':\n",
    "            return [f'u{node[1:]}' for node in tmp]\n",
    "        else:\n",
    "            raise ValueError(f'node_type should be one of [\"endogenous\", \"exogenous\"], '\n",
    "                             f'but got {node_type}')\n",
    "        \n",
    "    def get_children(self, node: str):\n",
    "        \"\"\"Get children of a node.\"\"\"\n",
    "        return set(self._cgm.dag.successors(node))\n",
    "    \n",
    "    def get_parents(self, node: str, return_sorted: bool = True):\n",
    "        \"\"\"Get parents of a node.\"\"\"\n",
    "        tmp = set(self._cgm.dag.predecessors(node))\n",
    "        return sorted(tmp) if return_sorted else tmp\n",
    "    \n",
    "    def get_ancestors(self, node: str, return_sorted: bool = True):\n",
    "        \"\"\"Get ancestors of a node.\"\"\"\n",
    "        tmp = nx.ancestors(self._cgm.dag, node)\n",
    "        return sorted(tmp) if return_sorted else tmp\n",
    "    \n",
    "    def get_descendants(self, node: str, return_sorted: bool = True):\n",
    "        \"\"\"Get descendants of a node.\"\"\"\n",
    "        tmp = nx.descendants(self._cgm.dag, node)\n",
    "        return sorted(tmp) if return_sorted else tmp\n",
    "    \n",
    "    def get_non_descendants(self, node: str):\n",
    "        \"\"\"Get non-descendants of a node.\"\"\"\n",
    "        return (\n",
    "            set(nx.topological_sort(self._cgm.dag))\n",
    "            .difference(self.get_descendants(node))\n",
    "            .symmetric_difference(set([node]))\n",
    "        )\n",
    "    \n",
    "    def visualize(self, dir_name: str = None):\n",
    "        \"\"\"Visualize the causal graph.\"\"\"\n",
    "        if dir_name:\n",
    "            path = f'{dir_name}/_causal_graph'\n",
    "            view_flag = False\n",
    "        else:\n",
    "            path = \"_tmp/_causal_graph\"\n",
    "            view_flag = True\n",
    "        self._cgm.draw().render(path, view=view_flag)\n",
    "\n",
    "    @property\n",
    "    def scm(self) -> StructuralCausalModel:\n",
    "        return self._scm\n",
    "\n",
    "    @property\n",
    "    def cgm(self) -> CausalGraphicalModel:\n",
    "        return self._cgm\n",
    "\n",
    "    @property\n",
    "    def scm_class(self) -> str:\n",
    "        return self._scm_class\n",
    "\n",
    "    @property\n",
    "    def structural_equations(self) -> dict:\n",
    "        return self._structural_equations\n",
    "\n",
    "    @property\n",
    "    def noise_distributions(self) -> dict:\n",
    "        return self._noise_distributions\n",
    "\n",
    "    @property\n",
    "    def exogenous(self) -> List[str]:\n",
    "        return self._exogenous\n",
    "\n",
    "    @property\n",
    "    def endogenous(self) -> List[str]:\n",
    "        return self._endogenous"
   ]
  },
  {
   "attachments": {},
   "cell_type": "markdown",
   "metadata": {},
   "source": [
    "Credit goes to the [CARLA implementation](https://github.com/carla-recourse/CARLA/blob/main/carla/data/causal_model/causal_model.py)."
   ]
  },
  {
   "cell_type": "code",
   "execution_count": null,
   "metadata": {},
   "outputs": [],
   "source": [
    "scm = CausalModel('sanity_3_lin')"
   ]
  },
  {
   "cell_type": "code",
   "execution_count": null,
   "metadata": {},
   "outputs": [],
   "source": [
    "assert scm.get_children('x1') == {'x2', 'x3'}\n",
    "assert scm.get_parents('x3') == ['x1', 'x2']\n",
    "assert scm.get_ancestors('x3') == ['x1', 'x2']\n",
    "assert scm.get_descendants('x1') == ['x2', 'x3']\n",
    "assert scm.get_non_descendants('x1') == set()"
   ]
  },
  {
   "attachments": {},
   "cell_type": "markdown",
   "metadata": {},
   "source": [
    "## Generate synthethic Data\n",
    "\n",
    "Adapted from [Carla](https://github.com/carla-recourse/CARLA/blob/24db00aa8616eb2faedea0d6edf6e307cee9d192/carla/data/causal_model/synthethic_data.py#LL33C46-L33C46)."
   ]
  },
  {
   "cell_type": "code",
   "execution_count": null,
   "metadata": {},
   "outputs": [],
   "source": [
    "#| export\n",
    "def _get_noise_string(node):\n",
    "    if not node[0] == \"x\":\n",
    "        raise ValueError\n",
    "    return \"u\" + node[1:] # get node id"
   ]
  },
  {
   "cell_type": "code",
   "execution_count": null,
   "metadata": {},
   "outputs": [],
   "source": [
    "#| export\n",
    "def _create_synthetic_data(\n",
    "    scm: CausalModel, # Structural causal model \n",
    "    num_samples: int # Number of samples in the dataset.\n",
    ") -> Union[pd.DataFrame, pd.DataFrame]: # Return exogenous and endogenous variables.\n",
    "    \"\"\"Generate synthetic data.\"\"\"\n",
    "\n",
    "    exogenous_nodes = scm.get_topological_ordering(\"exogenous\")\n",
    "    exogenous_variables = np.concatenate(\n",
    "        [\n",
    "            np.array(scm.noise_distributions[node].sample(num_samples)).reshape(-1, 1)\n",
    "            for node in exogenous_nodes\n",
    "        ],\n",
    "        axis=1,\n",
    "    )\n",
    "    exogenous_variables = pd.DataFrame(\n",
    "        exogenous_variables, columns=exogenous_nodes\n",
    "    )\n",
    "\n",
    "    endogenous_variables = exogenous_variables.copy()\n",
    "    endogenous_variables = endogenous_variables.rename(\n",
    "        columns=dict(\n",
    "            zip(\n",
    "                scm.get_topological_ordering(\"exogenous\"),\n",
    "                scm.get_topological_ordering(\"endogenous\"),\n",
    "            )\n",
    "        )\n",
    "    )\n",
    "    # used later to make sure parents are populated when computing children\n",
    "    endogenous_variables.loc[:] = np.nan\n",
    "    for node in scm.get_topological_ordering(\"endogenous\"):\n",
    "        parents = scm.get_parents(node)\n",
    "        if endogenous_variables.loc[:, list(parents)].isnull().values.any():\n",
    "            raise ValueError(\n",
    "                \"parents in endogenous_variables should already be occupied\"\n",
    "            )\n",
    "        endogenous_variables[node] = scm.structural_equations[node](\n",
    "            exogenous_variables[_get_noise_string(node)],\n",
    "            *[endogenous_variables[p] for p in parents],\n",
    "        )\n",
    "\n",
    "    # fix a hyperplane\n",
    "    w = np.ones((endogenous_variables.shape[1], 1))\n",
    "    # get the average scale of (w^T)*X, this depends on the scale of the data\n",
    "    scale = 2.5 / np.mean(np.abs(np.dot(endogenous_variables, w)))\n",
    "    predictions = 1 / (1 + np.exp(-scale * np.dot(endogenous_variables, w)))\n",
    "\n",
    "    if not 0.20 < np.std(predictions) < 0.42:\n",
    "        raise ValueError(f\"std of labels is strange: {np.std(predictions)}\")\n",
    "\n",
    "    # sample labels from class probabilities in predictions\n",
    "    uniform_rv = np.random.rand(endogenous_variables.shape[0], 1)\n",
    "    labels = uniform_rv < predictions\n",
    "    labels = pd.DataFrame(data=labels, columns={\"label\"})\n",
    "\n",
    "    df_endogenous = pd.concat([endogenous_variables, labels], axis=1).astype(\"float64\")\n",
    "    df_exogenous = pd.concat([exogenous_variables], axis=1).astype(\"float64\")\n",
    "    return df_endogenous, df_exogenous"
   ]
  },
  {
   "attachments": {},
   "cell_type": "markdown",
   "metadata": {},
   "source": [
    "## (Experimental) Data Module"
   ]
  },
  {
   "cell_type": "code",
   "execution_count": null,
   "metadata": {},
   "outputs": [],
   "source": [
    "scm = CausalModel('sanity_3_lin')\n",
    "df_endogenous, df_exogenous = _create_synthetic_data(scm, 1000)\n",
    "d_config = TabularDataModuleConfigs(\n",
    "    data_dir=\".\",\n",
    "    data_name='sanity_3_lin',\n",
    "    continous_cols=scm._continuous,\n",
    "    discret_cols=scm._categorical,\n",
    ")"
   ]
  },
  {
   "cell_type": "code",
   "execution_count": null,
   "metadata": {},
   "outputs": [],
   "source": [
    "dm = TabularDataModule(d_config, data=df_endogenous)"
   ]
  },
  {
   "cell_type": "code",
   "execution_count": null,
   "metadata": {},
   "outputs": [],
   "source": [
    "setattr(dm, 'scm', scm)\n",
    "setattr(dm, 'exogenous', df_exogenous)"
   ]
  },
  {
   "cell_type": "code",
   "execution_count": null,
   "metadata": {},
   "outputs": [],
   "source": [
    "assert isinstance(dm.scm, CausalModel)\n",
    "assert isinstance(dm.exogenous, pd.DataFrame)"
   ]
  }
 ],
 "metadata": {
  "kernelspec": {
   "display_name": "nbdev2",
   "language": "python",
   "name": "python3"
  }
 },
 "nbformat": 4,
 "nbformat_minor": 2
}
