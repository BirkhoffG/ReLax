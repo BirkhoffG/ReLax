{
 "cells": [
  {
   "cell_type": "markdown",
   "metadata": {},
   "source": [
    "# Evaluate\n",
    "\n",
    "> Evaluating and benchmarking the quality of CF explanations."
   ]
  },
  {
   "cell_type": "code",
   "execution_count": null,
   "metadata": {},
   "outputs": [],
   "source": [
    "# | include: false\n",
    "# | default_exp evaluate\n"
   ]
  },
  {
   "cell_type": "code",
   "execution_count": 1,
   "metadata": {},
   "outputs": [],
   "source": [
    "#| include: false\n",
    "%load_ext autoreload\n",
    "%autoreload 2\n",
    "from ipynb_path import *\n",
    "from nbdev import show_doc"
   ]
  },
  {
   "cell_type": "code",
   "execution_count": 2,
   "metadata": {},
   "outputs": [],
   "source": [
    "# | export\n",
    "from __future__ import annotations\n",
    "from cfnet.import_essentials import *\n",
    "from cfnet.train import train_model, TensorboardLogger\n",
    "from cfnet.datasets import TabularDataModule\n",
    "from cfnet.utils import accuracy, proximity\n",
    "from cfnet.methods.base import BaseCFModule, ParametricCFModule\n",
    "from cfnet.methods.counternet import CounterNet\n",
    "from copy import deepcopy\n",
    "from sklearn.neighbors import NearestNeighbors\n"
   ]
  },
  {
   "cell_type": "code",
   "execution_count": 9,
   "metadata": {},
   "outputs": [],
   "source": [
    "#| export\n",
    "#| hide\n",
    "@dataclass\n",
    "class Explanation:\n",
    "    \"\"\"Generated CF Explanations class.\"\"\"\n",
    "    cf_name: str  # cf method's name\n",
    "    data_module: TabularDataModule  # data module\n",
    "    cfs: jnp.DeviceArray  # generated cf explanation of `X`\n",
    "    total_time: float  # total runtime\n",
    "    pred_fn: Callable[[jnp.DeviceArray], jnp.DeviceArray]  # predict function\n",
    "    dataset_name: str = str()  # dataset name\n",
    "    X: jnp.ndarray = None  # input\n",
    "    y: jnp.ndarray = None  # label\n",
    "\n",
    "    def __post_init__(self):\n",
    "        if self.data_module:\n",
    "            if self.dataset_name == str():\n",
    "                self.dataset_name = self.data_module.data_name\n",
    "            test_X, label = self.data_module.test_dataset[:]\n",
    "            if self.X is None:\n",
    "                self.X = test_X\n",
    "            if self.y is None:\n",
    "                self.y = label\n",
    "\n",
    "CFExplanationResults = Explanation"
   ]
  },
  {
   "cell_type": "code",
   "execution_count": 10,
   "metadata": {},
   "outputs": [
    {
     "data": {
      "text/markdown": [
       "---\n",
       "\n",
       "### Explanation\n",
       "\n",
       ">      Explanation (cf_name:str, data_module:TabularDataModule,\n",
       ">                   cfs:jnp.DeviceArray, total_time:float,\n",
       ">                   pred_fn:Callable[[jnp.DeviceArray],jnp.DeviceArray],\n",
       ">                   dataset_name:str='', X:jnp.ndarray=None, y:jnp.ndarray=None)\n",
       "\n",
       "Generated CF Explanations"
      ],
      "text/plain": [
       "---\n",
       "\n",
       "### Explanation\n",
       "\n",
       ">      Explanation (cf_name:str, data_module:TabularDataModule,\n",
       ">                   cfs:jnp.DeviceArray, total_time:float,\n",
       ">                   pred_fn:Callable[[jnp.DeviceArray],jnp.DeviceArray],\n",
       ">                   dataset_name:str='', X:jnp.ndarray=None, y:jnp.ndarray=None)\n",
       "\n",
       "Generated CF Explanations"
      ]
     },
     "execution_count": 10,
     "metadata": {},
     "output_type": "execute_result"
    }
   ],
   "source": [
    "show_doc(Explanation)"
   ]
  },
  {
   "cell_type": "markdown",
   "metadata": {},
   "source": [
    "Arguments to `Explanation`:\n",
    "\n",
    "* `cf_name`: cf method's name\n",
    "* `dataset_name`: dataset name\n",
    "* `X`: input\n",
    "* `y`: label\n",
    "* `cfs`: generated cf explanation of `X`\n",
    "* `total_time`: total runtime\n",
    "* `pred_fn`: predict function\n",
    "* `data_module`: data module\n"
   ]
  },
  {
   "cell_type": "markdown",
   "metadata": {},
   "source": [
    "## Generating CF Explanation Results\n"
   ]
  },
  {
   "cell_type": "code",
   "execution_count": null,
   "metadata": {},
   "outputs": [],
   "source": [
    "#| exporti\n",
    "def _prepare_module(\n",
    "    cf_module: BaseCFModule,\n",
    "    datamodule: TabularDataModule\n",
    "):\n",
    "    cf_module.update_cat_info(datamodule)\n",
    "    return cf_module\n",
    "\n",
    "def _train_parametric_module(\n",
    "    cf_module: BaseCFModule,\n",
    "    datamodule: TabularDataModule,\n",
    "    t_configs=None\n",
    "):\n",
    "    print(f'{type(cf_module)} contains parametric models. '\n",
    "        'Starts training before generating explanations...')\n",
    "    cf_module.train(datamodule, t_configs)\n",
    "    return cf_module\n",
    "\n",
    "def _check_pred_fn(pred_fn, cf_module):\n",
    "    if pred_fn is None:\n",
    "        try:\n",
    "            pred_fn = cf_module.pred_fn\n",
    "        except AttributeError:\n",
    "            raise AttributeError(\n",
    "                    \"`generate_cf_explanations` is incorrectly configured.\"\n",
    "                    f\"It is supposed to be `pred_fn != None`,\"\n",
    "                    f\"or {type(cf_module)} has attribute `pred_fn`.\"\n",
    "                    f\"However, we got `pred_fn={pred_fn}`, \"\n",
    "                    f\"and cf_module=`{type(cf_module)}` contains no `pred_fn`.\"\n",
    "            )\n",
    "    return pred_fn"
   ]
  },
  {
   "cell_type": "code",
   "execution_count": null,
   "metadata": {},
   "outputs": [],
   "source": [
    "#| export\n",
    "def generate_cf_explanations(\n",
    "    cf_module: BaseCFModule,\n",
    "    datamodule: TabularDataModule,\n",
    "    pred_fn: Callable[[jnp.DeviceArray], jnp.DeviceArray] = None,\n",
    "    *,\n",
    "    t_configs=None\n",
    ") -> Explanation:\n",
    "    \"\"\"Generate CF explanations.\"\"\"\n",
    "    cf_module = _prepare_module(cf_module, datamodule)\n",
    "\n",
    "    if isinstance(cf_module, ParametricCFModule):\n",
    "        cf_module = _train_parametric_module(\n",
    "            cf_module, datamodule, t_configs=t_configs\n",
    "        )\n",
    "    X, _ = datamodule.test_dataset[:]\n",
    "\n",
    "    # generate cfs\n",
    "    current_time = time.time()\n",
    "    cfs = cf_module.generate_cfs(X, pred_fn=pred_fn)\n",
    "    total_time = time.time() - current_time\n",
    "    # check pred_fn\n",
    "    pred_fn = _check_pred_fn(pred_fn, cf_module)\n",
    "\n",
    "    return Explanation(\n",
    "        cf_name=cf_module.name,\n",
    "        data_module=datamodule,\n",
    "        cfs=cfs,\n",
    "        total_time=total_time,\n",
    "        pred_fn=pred_fn,\n",
    "    )\n",
    "\n",
    "# def generate_cf_results(\n",
    "#     cf_module: BaseCFExplanationModule,\n",
    "#     dm: TabularDataModule,\n",
    "#     pred_fn: Callable[[jnp.DeviceArray], jnp.DeviceArray] = None,\n",
    "#     params: hk.Params = None,  # params of `cf_module`\n",
    "#     rng_key: Optional[random.PRNGKey] = None,\n",
    "# ) -> CFExplanationResults:\n",
    "#     # validate arguments\n",
    "#     if (pred_fn is None) and (params is None) and (rng_key is None):\n",
    "#         raise ValueError(\n",
    "#             \"A valid `pred_fn: Callable[jnp.DeviceArray], jnp.DeviceArray]` or `params: hk.Params` needs to be passed.\"\n",
    "#         )\n",
    "#     # prepare\n",
    "#     X, y = dm.test_dataset[:]\n",
    "#     cf_module.update_cat_info(dm)\n",
    "#     # generate cfs\n",
    "#     current_time = time.time()\n",
    "#     if pred_fn:\n",
    "#         cfs = cf_module.generate_cfs(X, pred_fn)\n",
    "#     else:\n",
    "#         cfs = cf_module.generate_cfs(X, params, rng_key)\n",
    "#         pred_fn = lambda x: cf_module.predict(deepcopy(params), rng_key, x)\n",
    "#     total_time = time.time() - current_time\n",
    "\n",
    "#     return CFExplanationResults(\n",
    "#         cf_name=cf_module.name,\n",
    "#         data_module=dm,\n",
    "#         cfs=cfs,\n",
    "#         total_time=total_time,\n",
    "#         pred_fn=pred_fn,\n",
    "#     )\n",
    "    # return CFExplanationResults(\n",
    "    #     X=X, y=y, cfs=cfs, total_time=total_time,\n",
    "    #     pred_fn=pred_fn,\n",
    "    #     cf_name=cf_module.name, dataset_name=dm.data_name\n",
    "    # )\n",
    "\n"
   ]
  },
  {
   "cell_type": "code",
   "execution_count": null,
   "metadata": {},
   "outputs": [],
   "source": [
    "# | export\n",
    "@deprecated(removed_in='0.1.0', deprecated_in='0.0.9')\n",
    "def generate_cf_results_local_exp(\n",
    "    cf_module: BaseCFModule,\n",
    "    dm: TabularDataModule,\n",
    "    pred_fn: Callable[[jnp.DeviceArray], jnp.DeviceArray],\n",
    ") -> CFExplanationResults:\n",
    "    return generate_cf_explanations(cf_module, dm, pred_fn=pred_fn)\n",
    "\n",
    "\n",
    "@deprecated(removed_in='0.1.0', deprecated_in='0.0.9')\n",
    "def generate_cf_results_cfnet(\n",
    "    cf_module: CounterNet,\n",
    "    dm: TabularDataModule,\n",
    "    params: hk.Params = None,  # params of `cf_module`\n",
    "    rng_key: random.PRNGKey = None,\n",
    ") -> CFExplanationResults:\n",
    "    return generate_cf_explanations(cf_module, dm, pred_fn=None)\n"
   ]
  },
  {
   "cell_type": "markdown",
   "metadata": {},
   "source": [
    "## Evaluating Metrics"
   ]
  },
  {
   "cell_type": "code",
   "execution_count": null,
   "metadata": {},
   "outputs": [],
   "source": [
    "# | export\n",
    "def compute_predictive_acc(cf_results: CFExplanationResults):\n",
    "    X, y = cf_results.data_module.test_dataset[:]\n",
    "    pred_fn = cf_results.pred_fn\n",
    "\n",
    "    y_pred = pred_fn(X).reshape(-1, 1)\n",
    "    label = y.reshape(-1, 1)\n",
    "    return accuracy(jnp.round(y_pred), label).item()\n",
    "\n",
    "\n",
    "def compute_validity(cf_results: CFExplanationResults):\n",
    "    X, y = cf_results.data_module.test_dataset[:]\n",
    "    pred_fn = cf_results.pred_fn\n",
    "\n",
    "    y_pred = pred_fn(X).reshape(-1, 1).round()\n",
    "    y_prime = 1 - y_pred\n",
    "    cf_y = pred_fn(cf_results.cfs).reshape(-1, 1).round()\n",
    "    return accuracy(y_prime, cf_y).item()\n",
    "\n",
    "\n",
    "def compute_proximity(cf_results: CFExplanationResults):\n",
    "    X, y = cf_results.data_module.test_dataset[:]\n",
    "    return proximity(X, cf_results.cfs).item()\n",
    "\n",
    "\n",
    "def compute_sparsity(cf_results: CFExplanationResults):\n",
    "    X, y = cf_results.data_module.test_dataset[:]\n",
    "    cfs = cf_results.cfs\n",
    "    cat_idx = cf_results.data_module.cat_idx\n",
    "    # calculate sparsity\n",
    "    cat_sparsity = proximity(X[:, cat_idx:], cfs[:, cat_idx:]) / 2\n",
    "    cont_sparsity = jnp.linalg.norm(\n",
    "        jnp.abs(X[:, :cat_idx] - cfs[:, :cat_idx]), ord=0, axis=1\n",
    "    ).mean()\n",
    "    return cont_sparsity + cat_sparsity\n",
    "\n",
    "\n",
    "def compute_manifold_dist(cf_results: CFExplanationResults):\n",
    "    X, y = cf_results.data_module.test_dataset[:]\n",
    "    cfs = cf_results.cfs\n",
    "    knn = NearestNeighbors()\n",
    "    knn.fit(X)\n",
    "    nearest_dist, nearest_points = knn.kneighbors(cfs, 1, return_distance=True)\n",
    "    return jnp.mean(nearest_dist).item()\n",
    "\n",
    "\n",
    "def get_runtime(cf_results: CFExplanationResults):\n",
    "    return cf_results.total_time\n",
    "\n",
    "\n",
    "def _create_second_order_cfs(cf_results: CFExplanationResults, threshold: float = 2.0):\n",
    "    X, y = cf_results.data_module.test_dataset[:]\n",
    "    cfs = cf_results.cfs\n",
    "    scaler = cf_results.data_module.normalizer\n",
    "    cat_idx = cf_results.data_module.cat_idx\n",
    "\n",
    "    # get normalized threshold = threshold / (max - min)\n",
    "    data_range = scaler.data_range_\n",
    "    thredshold_normed = threshold / data_range\n",
    "\n",
    "    # select continous features\n",
    "    x_cont = X[:, :cat_idx]\n",
    "    cf_cont = cfs[:, :cat_idx]\n",
    "    # calculate the diff between x and c\n",
    "    cont_diff = jnp.abs(x_cont - cf_cont) <= thredshold_normed\n",
    "    # new cfs\n",
    "    cfs_cont_hat = jnp.where(cont_diff, x_cont, cf_cont)\n",
    "\n",
    "    cfs_hat = jnp.concatenate((cfs_cont_hat, cfs[:, cat_idx:]), axis=-1)\n",
    "    return cfs_hat\n",
    "\n",
    "\n",
    "def compute_so_validity(cf_results: CFExplanationResults, threshold: float = 2.0):\n",
    "    cfs_hat = _create_second_order_cfs(cf_results, threshold)\n",
    "    cf_results_so = deepcopy(cf_results)\n",
    "    cf_results_so.cfs = cfs_hat\n",
    "    return compute_validity(cf_results_so)\n",
    "\n",
    "\n",
    "def compute_so_proximity(cf_results: CFExplanationResults, threshold: float = 2.0):\n",
    "    cfs_hat = _create_second_order_cfs(cf_results, threshold)\n",
    "    cf_results_so = deepcopy(cf_results)\n",
    "    cf_results_so.cfs = cfs_hat\n",
    "    return compute_proximity(cf_results_so)\n",
    "\n",
    "\n",
    "def compute_so_sparsity(cf_results: CFExplanationResults, threshold: float = 2.0):\n",
    "    cfs_hat = _create_second_order_cfs(cf_results, threshold)\n",
    "    cf_results_so = deepcopy(cf_results)\n",
    "    cf_results_so.cfs = cfs_hat\n",
    "    return compute_sparsity(cf_results_so)\n"
   ]
  },
  {
   "cell_type": "code",
   "execution_count": null,
   "metadata": {},
   "outputs": [],
   "source": [
    "# | export\n",
    "metrics2fn = {\n",
    "    \"acc\": compute_predictive_acc,\n",
    "    \"validity\": compute_validity,\n",
    "    \"proximity\": compute_proximity,\n",
    "    \"runtime\": get_runtime,\n",
    "    \"manifold_dist\": compute_manifold_dist,\n",
    "    \"so_validity\": compute_so_validity,\n",
    "    \"so_proximity\": compute_so_proximity,\n",
    "    \"so_sparsity\": compute_so_sparsity,\n",
    "}\n"
   ]
  },
  {
   "cell_type": "code",
   "execution_count": null,
   "metadata": {},
   "outputs": [],
   "source": [
    "# | export\n",
    "DEFAULT_METRICS = [\"acc\", \"validity\", \"proximity\"]\n",
    "\n",
    "\n",
    "def evaluate_cfs(\n",
    "    cf_results: CFExplanationResults,\n",
    "    metrics: Optional[Iterable[str]] = None,\n",
    "    return_dict: bool = True,\n",
    "    return_df: bool = False,\n",
    "):\n",
    "    cf_name = cf_results.cf_name\n",
    "    data_name = cf_results.data_module.data_name\n",
    "    result_dict = {(data_name, cf_name): dict()}\n",
    "    if metrics is None:\n",
    "        metrics = DEFAULT_METRICS\n",
    "\n",
    "    for metric in metrics:\n",
    "        result_dict[(data_name, cf_name)][metric] = metrics2fn[metric](cf_results)\n",
    "    result_df = pd.DataFrame.from_dict(result_dict, orient=\"index\")\n",
    "    if return_dict and return_df:\n",
    "        return (result_dict, result_df)\n",
    "    elif return_dict or return_df:\n",
    "        return result_df if return_df else result_dict\n"
   ]
  },
  {
   "cell_type": "code",
   "execution_count": null,
   "metadata": {},
   "outputs": [],
   "source": [
    "# | export\n",
    "def benchmark_cfs(\n",
    "    cf_results_list: Iterable[CFExplanationResults],\n",
    "    metrics: Optional[Iterable[str]] = None,\n",
    "):\n",
    "    dfs = [\n",
    "        evaluate_cfs(\n",
    "            cf_results=cf_results, metrics=metrics, return_dict=False, return_df=True\n",
    "        )\n",
    "        for cf_results in cf_results_list\n",
    "    ]\n",
    "    return pd.concat(dfs)"
   ]
  },
  {
   "cell_type": "markdown",
   "metadata": {},
   "source": [
    "## Test"
   ]
  },
  {
   "cell_type": "markdown",
   "metadata": {},
   "source": [
    "### VanillaCF"
   ]
  },
  {
   "cell_type": "code",
   "execution_count": null,
   "metadata": {},
   "outputs": [],
   "source": [
    "data_configs = {\n",
    "    \"data_dir\": \"assets/data/s_adult.csv\",\n",
    "    \"data_name\": \"adult\",\n",
    "    \"batch_size\": 256,\n",
    "    \"sample_frac\": 0.1,\n",
    "    \"continous_cols\": [\"age\", \"hours_per_week\"],\n",
    "    \"discret_cols\": [\n",
    "        \"workclass\",\n",
    "        \"education\",\n",
    "        \"marital_status\",\n",
    "        \"occupation\",\n",
    "        \"race\",\n",
    "        \"gender\",\n",
    "    ],\n",
    "}\n",
    "m_configs = {\"sizes\": [50, 10, 50], \"lr\": 0.003, \"dropout_rate\": 0.3}\n"
   ]
  },
  {
   "cell_type": "code",
   "execution_count": null,
   "metadata": {},
   "outputs": [],
   "source": [
    "from cfnet.training_module import PredictiveTrainingModule\n",
    "from cfnet.utils import load_json\n"
   ]
  },
  {
   "cell_type": "code",
   "execution_count": null,
   "metadata": {},
   "outputs": [],
   "source": [
    "\n",
    "configs = load_json('assets/configs/data_configs/adult.json')\n",
    "m_configs = configs['mlp_configs']\n",
    "data_configs = configs['data_configs']\n",
    "\n",
    "t_configs = {\n",
    "    'n_epochs': 2,\n",
    "    'monitor_metrics': 'val/val_loss',\n",
    "    'seed': 42,\n",
    "    \"batch_size\": 256\n",
    "} \n",
    "\n",
    "training_module = PredictiveTrainingModule(m_configs)\n",
    "dm = TabularDataModule(data_configs)\n",
    "\n",
    "params, opt_state = train_model(\n",
    "    training_module, \n",
    "    dm, \n",
    "    t_configs\n",
    ")\n",
    "pred_fn = lambda x: training_module.forward(params, random.PRNGKey(0), x, is_training=False)"
   ]
  },
  {
   "cell_type": "code",
   "execution_count": null,
   "metadata": {},
   "outputs": [],
   "source": [
    "from cfnet.methods import VanillaCF\n"
   ]
  },
  {
   "cell_type": "code",
   "execution_count": null,
   "metadata": {},
   "outputs": [
    {
     "name": "stderr",
     "output_type": "stream",
     "text": [
      "100%|██████████| 1000/1000 [00:06<00:00, 153.05it/s]\n"
     ]
    }
   ],
   "source": [
    "cf_exp = VanillaCF({\"n_steps\": 1000})\n",
    "cf_res = generate_cf_results_local_exp(cf_exp, dm, pred_fn)\n",
    "assert cf_res.dataset_name == dm.data_name, (\n",
    "    f\"cf_res.dataset_name={cf_res.dataset_name},\" f\"but dm.data_name={dm.data_name}\"\n",
    ")\n"
   ]
  },
  {
   "cell_type": "code",
   "execution_count": null,
   "metadata": {},
   "outputs": [
    {
     "data": {
      "text/plain": [
       "0.7997788786888123"
      ]
     },
     "execution_count": null,
     "metadata": {},
     "output_type": "execute_result"
    }
   ],
   "source": [
    "compute_validity(cf_res)\n"
   ]
  },
  {
   "cell_type": "code",
   "execution_count": null,
   "metadata": {},
   "outputs": [
    {
     "data": {
      "text/html": [
       "<div>\n",
       "<style scoped>\n",
       "    .dataframe tbody tr th:only-of-type {\n",
       "        vertical-align: middle;\n",
       "    }\n",
       "\n",
       "    .dataframe tbody tr th {\n",
       "        vertical-align: top;\n",
       "    }\n",
       "\n",
       "    .dataframe thead th {\n",
       "        text-align: right;\n",
       "    }\n",
       "</style>\n",
       "<table border=\"1\" class=\"dataframe\">\n",
       "  <thead>\n",
       "    <tr style=\"text-align: right;\">\n",
       "      <th></th>\n",
       "      <th>acc</th>\n",
       "      <th>validity</th>\n",
       "      <th>proximity</th>\n",
       "    </tr>\n",
       "  </thead>\n",
       "  <tbody>\n",
       "    <tr>\n",
       "      <th>VanillaCF</th>\n",
       "      <td>0.822012</td>\n",
       "      <td>0.799779</td>\n",
       "      <td>6.929937</td>\n",
       "    </tr>\n",
       "  </tbody>\n",
       "</table>\n",
       "</div>"
      ],
      "text/plain": [
       "                acc  validity  proximity\n",
       "VanillaCF  0.822012  0.799779   6.929937"
      ]
     },
     "execution_count": null,
     "metadata": {},
     "output_type": "execute_result"
    }
   ],
   "source": [
    "evaluate_cfs(cf_res, return_df=True)[1]\n"
   ]
  },
  {
   "cell_type": "markdown",
   "metadata": {},
   "source": [
    "### CounterNet"
   ]
  },
  {
   "cell_type": "code",
   "execution_count": null,
   "metadata": {},
   "outputs": [],
   "source": [
    "m_configs = {\n",
    "    \"enc_sizes\": [50, 10],\n",
    "    \"dec_sizes\": [10],\n",
    "    \"exp_sizes\": [50, 50],\n",
    "    \"dropout_rate\": 0.3,\n",
    "    \"lr\": 0.003,\n",
    "    \"lambda_1\": 1.0,\n",
    "    \"lambda_3\": 0.1,\n",
    "    \"lambda_2\": 0.2,\n",
    "}\n",
    "t_configs = {\n",
    "    \"n_epochs\": 1,\n",
    "    \"monitor_metrics\": \"val/val_loss\",\n",
    "    \"seed\": 42,\n",
    "    \"batch_size\": 256,\n",
    "}\n"
   ]
  },
  {
   "cell_type": "code",
   "execution_count": null,
   "metadata": {},
   "outputs": [],
   "source": [
    "from cfnet.training_module import CounterNetTrainingModule\n"
   ]
  },
  {
   "cell_type": "code",
   "execution_count": null,
   "metadata": {},
   "outputs": [
    {
     "name": "stderr",
     "output_type": "stream",
     "text": [
      "Epoch 99: 100%|██████████| 10/10 [00:00<00:00, 64.40batch/s, train/train_loss_1=0.0485, train/train_loss_2=0.000302, train/train_loss_3=0.105]\n"
     ]
    }
   ],
   "source": [
    "\n",
    "configs = load_json(\"assets/configs/data_configs/adult.json\")\n",
    "m_configs = configs[\"cfnet_configs\"]\n",
    "data_configs = configs[\"data_configs\"]\n",
    "\n",
    "t_configs = {\n",
    "    \"n_epochs\": 2,\n",
    "    \"monitor_metrics\": \"val/val_loss\",\n",
    "    \"seed\": 42,\n",
    "    \"batch_size\": 256,\n",
    "}\n",
    "\n",
    "cfnet = CounterNetTrainingModule(m_configs)\n",
    "dm = TabularDataModule(data_configs)\n",
    "\n",
    "params, opt_state = train_model(cfnet, dm, t_configs)\n"
   ]
  },
  {
   "cell_type": "code",
   "execution_count": null,
   "metadata": {},
   "outputs": [],
   "source": [
    "cf_res = generate_cf_results_cfnet(cfnet, dm, params, random.PRNGKey(0))\n",
    "assert cf_res.dataset_name == dm.data_name, (\n",
    "    f\"cf_res.dataset_name={cf_res.dataset_name},\" f\"but dm.data_name={dm.data_name}\"\n",
    ")\n"
   ]
  },
  {
   "cell_type": "code",
   "execution_count": null,
   "metadata": {},
   "outputs": [
    {
     "data": {
      "text/html": [
       "<div>\n",
       "<style scoped>\n",
       "    .dataframe tbody tr th:only-of-type {\n",
       "        vertical-align: middle;\n",
       "    }\n",
       "\n",
       "    .dataframe tbody tr th {\n",
       "        vertical-align: top;\n",
       "    }\n",
       "\n",
       "    .dataframe thead th {\n",
       "        text-align: right;\n",
       "    }\n",
       "</style>\n",
       "<table border=\"1\" class=\"dataframe\">\n",
       "  <thead>\n",
       "    <tr style=\"text-align: right;\">\n",
       "      <th></th>\n",
       "      <th>acc</th>\n",
       "      <th>validity</th>\n",
       "      <th>proximity</th>\n",
       "    </tr>\n",
       "  </thead>\n",
       "  <tbody>\n",
       "    <tr>\n",
       "      <th>CounterNet</th>\n",
       "      <td>0.81931</td>\n",
       "      <td>0.997912</td>\n",
       "      <td>6.497492</td>\n",
       "    </tr>\n",
       "  </tbody>\n",
       "</table>\n",
       "</div>"
      ],
      "text/plain": [
       "                acc  validity  proximity\n",
       "CounterNet  0.81931  0.997912   6.497492"
      ]
     },
     "execution_count": null,
     "metadata": {},
     "output_type": "execute_result"
    }
   ],
   "source": [
    "evaluate_cfs(cf_res, return_df=True)[1]\n"
   ]
  }
 ],
 "metadata": {
  "kernelspec": {
   "display_name": "Python 3.7.15 ('nbdev2')",
   "language": "python",
   "name": "python3"
  },
  "language_info": {
   "codemirror_mode": {
    "name": "ipython",
    "version": 3
   },
   "file_extension": ".py",
   "mimetype": "text/x-python",
   "name": "python",
   "nbconvert_exporter": "python",
   "pygments_lexer": "ipython3",
   "version": "3.7.15"
  },
  "vscode": {
   "interpreter": {
    "hash": "0ac96ee23b95b4118768073706f37cdea4905e0d36379010678a0d912eb0f9ec"
   }
  }
 },
 "nbformat": 4,
 "nbformat_minor": 2
}
