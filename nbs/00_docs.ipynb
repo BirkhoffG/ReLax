{
 "cells": [
  {
   "attachments": {},
   "cell_type": "markdown",
   "metadata": {},
   "source": [
    "# Docs"
   ]
  },
  {
   "cell_type": "code",
   "execution_count": 75,
   "metadata": {},
   "outputs": [],
   "source": [
    "#| default_exp docs"
   ]
  },
  {
   "cell_type": "code",
   "execution_count": 76,
   "metadata": {},
   "outputs": [
    {
     "name": "stdout",
     "output_type": "stream",
     "text": [
      "The autoreload extension is already loaded. To reload it, use:\n",
      "  %reload_ext autoreload\n"
     ]
    }
   ],
   "source": [
    "#| hide\n",
    "%load_ext autoreload\n",
    "%autoreload 2\n",
    "from ipynb_path import *\n",
    "import warnings\n",
    "\n",
    "warnings.simplefilter(action='ignore', category=FutureWarning)"
   ]
  },
  {
   "cell_type": "code",
   "execution_count": 77,
   "metadata": {},
   "outputs": [],
   "source": [
    "#| export\n",
    "from __future__ import annotations\n",
    "from relax.import_essentials import *\n",
    "import nbdev\n",
    "from fastcore.basics import AttrDict\n",
    "from fastcore.utils import *\n",
    "\n",
    "from nbdev.showdoc import *\n",
    "from nbdev.doclinks import *\n",
    "from inspect import isclass\n",
    "from nbdev.showdoc import (\n",
    "    _ext_link, \n",
    "    _wrap_sig, \n",
    "    _fmt_anno, \n",
    "    _f_name, \n",
    "    DocmentTbl, \n",
    "    _maybe_nm, \n",
    "    _show_param\n",
    ")\n",
    "from nbdev.config import get_config"
   ]
  },
  {
   "cell_type": "code",
   "execution_count": 78,
   "metadata": {},
   "outputs": [],
   "source": [
    "#| exporti\n",
    "def _docment_parser(parser: BaseParser):\n",
    "    p = parser.schema()['properties']\n",
    "    anno = parser.__annotations__\n",
    "    d = { \n",
    "        k: {\n",
    "            'anno': anno[k],\n",
    "            'default': v['default'] if 'default' in v else inspect._empty,\n",
    "            'docment': v['description'] if 'description' in v else inspect._empty,\n",
    "        } for k, v in p.items()\n",
    "    }\n",
    "\n",
    "    d = AttrDict(d)\n",
    "    return d\n"
   ]
  },
  {
   "cell_type": "code",
   "execution_count": 79,
   "metadata": {},
   "outputs": [],
   "source": [
    "#| exporti\n",
    "class ParserMarkdownRenderer(BasicMarkdownRenderer):\n",
    "    def __init__(self, sym, name: str | None = None, title_level: int = 3):\n",
    "        super().__init__(sym, name, title_level)\n",
    "        self.dm.dm = _docment_parser(sym)"
   ]
  },
  {
   "cell_type": "code",
   "execution_count": 80,
   "metadata": {},
   "outputs": [],
   "source": [
    "#| exporti\n",
    "def _italic(s: str): return f'*{s}*' if s.strip() else s\n",
    "\n",
    "def _bold(s: str): return f'**{s}**' if s.strip() else s"
   ]
  },
  {
   "cell_type": "code",
   "execution_count": 81,
   "metadata": {},
   "outputs": [],
   "source": [
    "#| exporti\n",
    "def _show_param(param):\n",
    "    \"Like `Parameter.__str__` except removes: quotes in annos, spaces, ids in reprs\"\n",
    "    kind,res,anno,default = param.kind,param._name,param._annotation,param._default\n",
    "    kind = '*' if kind==inspect._VAR_POSITIONAL else '**' if kind==inspect._VAR_KEYWORD else ''\n",
    "    res = kind+res\n",
    "    # if anno is not inspect._empty: res += f':{_f_name(anno) or _fmt_anno(anno)}'\n",
    "    if default is not inspect._empty: res += f'={_f_name(default) or repr(default)}'\n",
    "    return res\n",
    "\n",
    "\n",
    "def _fmt_sig(sig):\n",
    "    if sig is None: return ''\n",
    "    p = {k:v for k,v in sig.parameters.items()}\n",
    "    _params = [_show_param(p[k]) for k in p.keys() if k != 'self']\n",
    "    return \"(\" + ', '.join(_params)  + \")\"\n"
   ]
  },
  {
   "cell_type": "code",
   "execution_count": 108,
   "metadata": {},
   "outputs": [],
   "source": [
    "#| exporti\n",
    "def _inner_list2mdlist(l: list):\n",
    "    param_name, param_anno, param_default, param_doc = l\n",
    "    # annotation\n",
    "    if param_anno == inspect._empty: param_anno = None\n",
    "    else: param_anno = f\"`{param_anno}`\"\n",
    "    # default value\n",
    "    if param_default == inspect._empty: param_default = None\n",
    "    else: param_default = f\"*default={param_default}*\"\n",
    "\n",
    "    mdoc = \"\"\n",
    "    if param_anno and param_default:\n",
    "        mdoc += f\"* {_bold(param_name)} ({param_anno}, {param_default})\"\n",
    "    elif param_anno:\n",
    "        mdoc += f\"* {_bold(param_name)} ({param_anno})\"\n",
    "    elif param_default:\n",
    "        mdoc += f\"* {_bold(param_name)} ({param_default})\"\n",
    "    else:\n",
    "        mdoc += f\"* {_bold(param_name)}\"\n",
    "    \n",
    "    if not (param_doc == inspect._empty): \n",
    "        mdoc += f\" -- {param_doc}\"\n",
    "    return mdoc\n",
    "\n",
    "def _params_mdlist(tbl: DocmentTbl):\n",
    "    param_list = [\n",
    "        L([k, v['anno'], v['default'], v['docment']])\n",
    "        for k, v in tbl.dm.items() if k != 'return'\n",
    "    ]\n",
    "    # param_list = tbl._row_list\n",
    "    return L(param_list).map(_inner_list2mdlist)\n",
    "\n",
    "def _return_mdlist(tbl: DocmentTbl):\n",
    "    return_list = [tbl.dm['return'][k] for k in ['anno', 'default', 'docment']]\n",
    "    param_anno, param_default, param_doc = return_list\n",
    "    mdoc = \"\"\n",
    "    if not param_anno == inspect._empty: \n",
    "        mdoc += f\"(`{param_anno}`)\"\n",
    "    if param_doc != inspect._empty:\n",
    "        mdoc += f\" -- {param_doc}\"\n",
    "    return mdoc\n",
    "\n",
    "def _show_params_return(tbl: DocmentTbl):\n",
    "    if not tbl.has_docment: return ''\n",
    "    doc = \"\" \n",
    "    doc = \"::: {#docs .callout-note icon=false}\\n\\n\"\n",
    "    doc += '## Parameters:' + '\\n'\n",
    "    doc += _params_mdlist(tbl)\n",
    "    doc += \"\\n\\n:::\\n\\n\"\n",
    "    if tbl.has_return:\n",
    "        doc += \"::: {#docs .callout-note icon=false}\\n\\n\"\n",
    "        doc += '\\n\\n## Returns:\\n'\n",
    "        doc += f\"&ensp;&ensp;&ensp;&ensp;{_return_mdlist(tbl)}\"\n",
    "        doc += \"\\n\\n:::\"\n",
    "    \n",
    "    return '\\n'.join(doc)"
   ]
  },
  {
   "cell_type": "code",
   "execution_count": 119,
   "metadata": {},
   "outputs": [],
   "source": [
    "#| export\n",
    "class CalloutDocument():\n",
    "    def __init__(self, tbl: DocmentTbl):\n",
    "        self.tbl = tbl\n",
    "    \n",
    "    def _repre_mardown(self):\n",
    "        return _show_params_return(self.tbl)\n",
    "\n",
    "    __str__ = _repre_mardown"
   ]
  },
  {
   "cell_type": "code",
   "execution_count": 123,
   "metadata": {},
   "outputs": [],
   "source": [
    "#| export\n",
    "class CustomizedMarkdownRenderer(ShowDocRenderer):\n",
    "    def __init__(self, sym, name:str|None=None, title_level:int=3):\n",
    "        super().__init__(sym, name, title_level)\n",
    "        self.isclass = inspect.isclass(sym)\n",
    "\n",
    "    def _repr_markdown_(self):\n",
    "        doc = '---\\n\\n'\n",
    "        # doc = ''\n",
    "        src = NbdevLookup().code(self.fn)\n",
    "        _look_up = NbdevLookup()[self.fn]\n",
    "        if _look_up: \n",
    "            module_dir = _look_up[1].replace('.py', '').replace('/', '.') + '.'\n",
    "        else:\n",
    "            module_dir = None\n",
    "        \n",
    "        if src: \n",
    "            link = _ext_link(src, 'source', 'style=\"float:right; font-size:smaller\"') + '\\n\\n'\n",
    "        else:\n",
    "            link = ''\n",
    "        doc += link\n",
    "        h = '#'*self.title_level\n",
    "        doc += f'{h} {str(self.nm).upper()}\\n\\n'\n",
    "        # if self.isclass: doc += '> *class* '\n",
    "        # else: doc += '> '\n",
    "        if self.isclass: doc += '::: {.doc-sig}\\n\\n CLASS '\n",
    "        else: doc += '::: {.doc-sig}\\n\\n '\n",
    "        sig = f\"{module_dir}{_bold(self.nm)} *{_fmt_sig(self.sig)}*\\n\\n:::\"\n",
    "        doc += f'{sig}'\n",
    "        if self.docs: doc += f\"\\n\\n{self.docs}\"\n",
    "        # if self.dm.has_docment: doc += f\"\\n\\n{_show_params_return(self.dm)}\"\n",
    "        if self.dm.has_docment: doc += f\"\\n\\n{CalloutDocument(self.dm)}\"\n",
    "\n",
    "        return doc\n",
    "\n",
    "    # __repr__=_repr_markdown_\n"
   ]
  },
  {
   "cell_type": "code",
   "execution_count": 124,
   "metadata": {},
   "outputs": [],
   "source": [
    "def validate_configs(\n",
    "    configs: Dict|BaseParser, # A configuration of the model/data.\n",
    "    config_cls: BaseParser # The desired configuration class.\n",
    ") -> BaseParser:\n",
    "    \"\"\"Return a valid configuration object.\"\"\"\n",
    "    ..."
   ]
  },
  {
   "cell_type": "code",
   "execution_count": 125,
   "metadata": {},
   "outputs": [
    {
     "data": {
      "text/markdown": [
       "---\n",
       "\n",
       "[source](https://github.com/birkhoffg/relax/tree/master/blob/master/relax/utils.py#L17){target=\"_blank\" style=\"float:right; font-size:smaller\"}\n",
       "\n",
       "### VALIDATE_CONFIGS\n",
       "\n",
       "::: {.doc-sig}\n",
       "\n",
       " relax.utils.**validate_configs** *(configs, config_cls)*\n",
       "\n",
       ":::\n",
       "\n",
       "Return a valid configuration object.\n",
       "\n",
       "::: {#docs .callout-note icon=false}\n",
       "\n",
       "## Parameters:\n",
       "\n",
       "* **configs** (`Dict | BaseParser`) -- A configuration of the model/data.\n",
       "* **config_cls** (`BaseParser`) -- The desired configuration class.\n",
       "\n",
       "\n",
       ":::\n",
       "\n",
       "\n",
       "::: {#docs .callout-note icon=false}\n",
       "\n",
       "\n",
       "\n",
       "\n",
       "## Returns:\n",
       "\n",
       "&ensp;&ensp;&ensp;&ensp;(`BaseParser`)\n",
       "\n",
       "\n",
       ":::"
      ],
      "text/plain": [
       "<__main__.CustomizedMarkdownRenderer>"
      ]
     },
     "execution_count": 125,
     "metadata": {},
     "output_type": "execute_result"
    }
   ],
   "source": [
    "CustomizedMarkdownRenderer(validate_configs)"
   ]
  }
 ],
 "metadata": {
  "kernelspec": {
   "display_name": "nbdev2",
   "language": "python",
   "name": "python3"
  },
  "language_info": {
   "codemirror_mode": {
    "name": "ipython",
    "version": 3
   },
   "file_extension": ".py",
   "mimetype": "text/x-python",
   "name": "python",
   "nbconvert_exporter": "python",
   "pygments_lexer": "ipython3",
   "version": "3.7.12"
  },
  "orig_nbformat": 4,
  "vscode": {
   "interpreter": {
    "hash": "3f450d1f6173d6d96822a65433f2c9ed0b856da53e162bc0666cdf9645c72e1e"
   }
  }
 },
 "nbformat": 4,
 "nbformat_minor": 2
}
