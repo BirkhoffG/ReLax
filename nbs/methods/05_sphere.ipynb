{
 "cells": [
  {
   "attachments": {},
   "cell_type": "markdown",
   "metadata": {},
   "source": [
    "# Growing Sphere"
   ]
  },
  {
   "cell_type": "code",
   "execution_count": null,
   "metadata": {},
   "outputs": [],
   "source": [
    "#| default_exp methods.sphere"
   ]
  },
  {
   "cell_type": "code",
   "execution_count": null,
   "metadata": {},
   "outputs": [],
   "source": [
    "#| include: false\n",
    "%load_ext autoreload\n",
    "%autoreload 2\n",
    "from ipynb_path import *\n",
    "from nbdev import show_doc\n",
    "import warnings\n",
    "warnings.simplefilter(action='ignore', category=FutureWarning)"
   ]
  },
  {
   "cell_type": "code",
   "execution_count": null,
   "metadata": {},
   "outputs": [],
   "source": [
    "#| export\n",
    "from __future__ import annotations\n",
    "from relax.import_essentials import *\n",
    "from relax.methods.base import BaseCFModule\n",
    "from relax.utils import *"
   ]
  },
  {
   "cell_type": "code",
   "execution_count": null,
   "metadata": {},
   "outputs": [],
   "source": [
    "#| export\n",
    "@partial(jit, static_argnums=(2, 5))\n",
    "def hyper_sphere_coordindates(\n",
    "    rng_key: jrand.PRNGKey, # Random number generator key\n",
    "    x: Array, # Input instance with only continuous features. Shape: (1, n_features)\n",
    "    n_samples: int, # Number of samples\n",
    "    high: float, # Upper bound\n",
    "    low: float, # Lower bound\n",
    "    p_norm: int = 2 # Norm\n",
    "):\n",
    "    # Adapted from \n",
    "    # https://github.com/carla-recourse/CARLA/blob/24db00aa8616eb2faedea0d6edf6e307cee9d192/carla/recourse_methods/catalog/growing_spheres/library/gs_counterfactuals.py#L8\n",
    "    key_1, key_2 = jrand.split(rng_key)\n",
    "    delta = jrand.normal(key_1, shape=(n_samples, x.shape[-1]))\n",
    "    dist = jrand.uniform(key_2, shape=(n_samples,)) * (high - low) + low\n",
    "    norm_p = jnp.linalg.norm(delta, ord=p_norm, axis=1)\n",
    "    d_norm = jnp.divide(dist, norm_p).reshape(-1, 1)  # rescale/normalize factor\n",
    "    delta = jnp.multiply(delta, d_norm)\n",
    "    candidates = x + delta\n",
    "\n",
    "    return candidates"
   ]
  },
  {
   "cell_type": "code",
   "execution_count": null,
   "metadata": {},
   "outputs": [],
   "source": [
    "#| export\n",
    "@partial(jit, static_argnums=(1, 2))\n",
    "def sample_categorical(rng_key: jrand.PRNGKey, col_size: int, n_samples: int):\n",
    "    rng_key, subkey = jrand.split(rng_key)\n",
    "    prob = jnp.ones(col_size) / col_size\n",
    "    cat_sample = jax.nn.one_hot(\n",
    "        jrand.categorical(rng_key, prob, shape=(n_samples,)), num_classes=col_size\n",
    "    )\n",
    "    return subkey, cat_sample\n",
    "\n",
    "\n",
    "def cat_sample(\n",
    "    rng_key: jrand.PRNGKey, # Random number generator key\n",
    "    cat_array_sizes: List[int],  # A list of the number of categories for each categorical feature\n",
    "    n_samples: int,  # Number of samples to sample\n",
    "):  \n",
    "    candidates = []\n",
    "    for col in cat_array_sizes:\n",
    "        rng_key, cat_sample = sample_categorical(rng_key, col, n_samples)\n",
    "        candidates.append(cat_sample)\n",
    "    candidates = jnp.concatenate(candidates, axis=1)\n",
    "    \n",
    "    return candidates"
   ]
  },
  {
   "cell_type": "code",
   "execution_count": null,
   "metadata": {},
   "outputs": [],
   "source": [
    "#| export\n",
    "@auto_reshaping('x')\n",
    "def _growing_spheres(\n",
    "    rng_key: jrand.PRNGKey, # Random number generator key\n",
    "    x: Array, # Input instance. Shape: (n_features)\n",
    "    pred_fn: Callable, # Prediction function\n",
    "    n_steps: int, # Number of steps\n",
    "    n_samples: int,  # Number of samples to sample\n",
    "    cat_idx: int, # Index of categorical features\n",
    "    cat_arrays: List[List[str]],  # A list of a list of each categorical feature name\n",
    "    step_size: float, # Step size\n",
    "    p_norm: int, # Norm\n",
    "    apply_fn: Callable # Apply immutable constraints\n",
    "):  \n",
    "    @jit\n",
    "    def dist_fn(x, cf):\n",
    "        if p_norm == 1:\n",
    "            return jnp.abs(cf - x).sum(axis=1)\n",
    "        elif p_norm == 2:\n",
    "            return jnp.linalg.norm(cf - x, ord=2, axis=1)\n",
    "        else:\n",
    "            raise ValueError(\"Only p_norm = 1 or 2 is supported\")\n",
    "    \n",
    "    @loop_tqdm(n_steps)\n",
    "    def step(i, state):\n",
    "        candidate_cf, count, rng_key = state\n",
    "        rng_key, subkey_1, subkey_2 = jrand.split(rng_key, num=3)\n",
    "        low, high = step_size * count, step_size * (count + 1)\n",
    "        # Sample around x\n",
    "        cont_candidates = hyper_sphere_coordindates(subkey_1, x[:, :cat_idx], n_samples, high, low, p_norm)\n",
    "        cat_candidates = cat_sample(subkey_2, cat_array_sizes, n_samples)\n",
    "        candidates = jnp.concatenate([cont_candidates, cat_candidates], axis=1)\n",
    "        # Apply immutable constraints\n",
    "        candidates = apply_fn(x=x, cf=candidates)\n",
    "        assert candidates.shape[1] == x.shape[1], f\"candidates.shape = {candidates.shape}, x.shape = {x.shape}\"\n",
    "\n",
    "        # Calculate distance\n",
    "        dist = dist_fn(x, candidates)\n",
    "\n",
    "        # Calculate counterfactual labels\n",
    "        candidate_preds = pred_fn(candidates).round().reshape(-1)\n",
    "        indices = jnp.where(candidate_preds != y_pred, 1, 0).astype(bool)\n",
    "\n",
    "        candidates = jnp.where(indices.reshape(-1, 1), \n",
    "                               candidates, jnp.ones_like(candidates) * jnp.inf)\n",
    "        dist = jnp.where(indices.reshape(-1, 1), dist, jnp.ones_like(dist) * jnp.inf)\n",
    "\n",
    "        closest_idx = dist.argmin()\n",
    "        candidate_cf_update = candidates[closest_idx].reshape(1, -1)\n",
    "\n",
    "        candidate_cf = jnp.where(\n",
    "            dist[closest_idx].mean() < dist_fn(x, candidate_cf).mean(),\n",
    "            candidate_cf_update, \n",
    "            candidate_cf\n",
    "        )\n",
    "        return candidate_cf, count + 1, rng_key\n",
    "    \n",
    "    y_pred = pred_fn(x).round().reshape(-1)\n",
    "    candidate_cf = jnp.ones_like(x) * jnp.inf\n",
    "    cat_array_sizes = [len(cat_array) for cat_array in cat_arrays]\n",
    "    count = 0\n",
    "    state = (candidate_cf, count, rng_key)\n",
    "    candidate_cf, _, _ = lax.fori_loop(0, n_steps, step, state)\n",
    "    # if `inf` is found, return the original input\n",
    "    candidate_cf = jnp.where(jnp.isinf(candidate_cf), x, candidate_cf)\n",
    "    return candidate_cf"
   ]
  },
  {
   "cell_type": "code",
   "execution_count": null,
   "metadata": {},
   "outputs": [],
   "source": [
    "#| export\n",
    "def apply_immutable(x: Array, cf: Array, immutable_idx: List[int]):\n",
    "    if immutable_idx is not None:\n",
    "        cf = cf.at[:, immutable_idx].set(x[:, immutable_idx])\n",
    "    return cf"
   ]
  },
  {
   "cell_type": "code",
   "execution_count": null,
   "metadata": {},
   "outputs": [],
   "source": [
    "#| export\n",
    "class GSConfig(BaseParser):\n",
    "    seed: int = 42\n",
    "    n_steps: int = 100\n",
    "    n_samples: int = 1000\n",
    "    step_size: float = 0.05\n",
    "    p_norm: int = 2\n",
    "    "
   ]
  },
  {
   "cell_type": "code",
   "execution_count": null,
   "metadata": {},
   "outputs": [],
   "source": [
    "#| export\n",
    "class GrowingSphere(BaseCFModule):\n",
    "    name = \"Growing Sphere\"\n",
    "\n",
    "    def __init__(\n",
    "        self,\n",
    "        configs: Dict | GSConfig = None\n",
    "    ):\n",
    "        if configs is None:\n",
    "            configs = GSConfig()\n",
    "        self.configs = validate_configs(configs, GSConfig)\n",
    "        self.rng = jrand.PRNGKey(self.configs.seed)\n",
    "    \n",
    "    def generate_cf(\n",
    "        self,\n",
    "        x: Array,\n",
    "        pred_fn: Callable,\n",
    "    ):\n",
    "        cat_idx = self.data_module.cat_idx\n",
    "        apply_immutable_partial = partial(\n",
    "            apply_immutable, immutable_idx=self.data_module._imutable_idx_list)\n",
    "        cf = _growing_spheres(\n",
    "            self.rng,\n",
    "            x,\n",
    "            pred_fn,\n",
    "            self.configs.n_steps,\n",
    "            self.configs.n_samples,\n",
    "            cat_idx,\n",
    "            self.data_module._cat_arrays,\n",
    "            self.configs.step_size,\n",
    "            self.configs.p_norm,\n",
    "            apply_immutable_partial,\n",
    "        )\n",
    "        return cf\n",
    "    \n",
    "    def generate_cfs(\n",
    "        self, \n",
    "        X: Array, \n",
    "        pred_fn: Callable = None\n",
    "    ) -> jnp.ndarray:\n",
    "        rng_keys = jrand.split(jrand.PRNGKey(self.configs.seed), num=X.shape[0])\n",
    "        generate_cf_partial = jit(partial(self.generate_cf, pred_fn=pred_fn))\n",
    "        cfs = jax.vmap(generate_cf_partial)(X, rng_keys)\n",
    "        # cfs = generate_cf_partial(X[0], rng_keys[0])\n",
    "        return cfs"
   ]
  },
  {
   "attachments": {},
   "cell_type": "markdown",
   "metadata": {},
   "source": [
    "#### Test"
   ]
  },
  {
   "cell_type": "code",
   "execution_count": null,
   "metadata": {},
   "outputs": [],
   "source": [
    "from relax.data import load_data\n",
    "from relax.module import PredictiveTrainingModule, PredictiveTrainingModuleConfigs\n",
    "from relax.evaluate import generate_cf_explanations, benchmark_cfs\n",
    "from relax.trainer import train_model"
   ]
  },
  {
   "cell_type": "code",
   "execution_count": null,
   "metadata": {},
   "outputs": [],
   "source": [
    "dm = load_data('adult', data_configs=dict(sample_frac=0.1))\n",
    "# dm = load_data('adult',)"
   ]
  },
  {
   "cell_type": "code",
   "execution_count": null,
   "metadata": {},
   "outputs": [
    {
     "name": "stderr",
     "output_type": "stream",
     "text": [
      "/home/birk/code/ReLax/relax/_ckpt_manager.py:47: UserWarning: `monitor_metrics` is not specified in `CheckpointManager`. No checkpoints will be stored.\n",
      "  warnings.warn(\n",
      "Epoch 4: 100%|██████████| 10/10 [00:00<00:00, 255.62batch/s, train/train_loss_1=0.072]\n"
     ]
    }
   ],
   "source": [
    "m_config = dict(sizes=[50, 10, 50], lr=0.03)\n",
    "t_config = dict(n_epochs=5, batch_size=256)\n",
    "\n",
    "training_module = PredictiveTrainingModule(m_config)\n",
    "params, opt_state = train_model(\n",
    "    training_module, dm, t_config\n",
    ")\n",
    "# predict function\n",
    "# pred_fn = lambda x: training_module.forward(params, x, is_training=False)\n",
    "pred_fn = lambda x, params, key: training_module.forward(\n",
    "    params, key, x, is_training=False\n",
    ")\n"
   ]
  },
  {
   "cell_type": "code",
   "execution_count": null,
   "metadata": {},
   "outputs": [],
   "source": [
    "#| slow\n",
    "gs = GrowingSphere({'n_steps': 50, 'n_samples': 100, 'step_size': 0.1})\n",
    "# gs.hook_data_module(dm)"
   ]
  },
  {
   "cell_type": "code",
   "execution_count": null,
   "metadata": {},
   "outputs": [
    {
     "data": {
      "application/vnd.jupyter.widget-view+json": {
       "model_id": "846f3e8f9a5548c7b0dab99cf3862fb4",
       "version_major": 2,
       "version_minor": 0
      },
      "text/plain": [
       "  0%|          | 0/50 [00:00<?, ?it/s]"
      ]
     },
     "metadata": {},
     "output_type": "display_data"
    }
   ],
   "source": [
    "#| slow\n",
    "cf_exp = generate_cf_explanations(\n",
    "    gs, dm, pred_fn=pred_fn, \n",
    "    pred_fn_args=dict(\n",
    "        params=params, key=random.PRNGKey(0)\n",
    "    )\n",
    ")\n",
    "assert not np.array_equal(cf_exp.cfs[0], cf_exp.cfs[1])"
   ]
  },
  {
   "cell_type": "code",
   "execution_count": null,
   "metadata": {},
   "outputs": [
    {
     "data": {
      "text/html": [
       "<div>\n",
       "<style scoped>\n",
       "    .dataframe tbody tr th:only-of-type {\n",
       "        vertical-align: middle;\n",
       "    }\n",
       "\n",
       "    .dataframe tbody tr th {\n",
       "        vertical-align: top;\n",
       "    }\n",
       "\n",
       "    .dataframe thead th {\n",
       "        text-align: right;\n",
       "    }\n",
       "</style>\n",
       "<table border=\"1\" class=\"dataframe\">\n",
       "  <thead>\n",
       "    <tr style=\"text-align: right;\">\n",
       "      <th></th>\n",
       "      <th></th>\n",
       "      <th>acc</th>\n",
       "      <th>validity</th>\n",
       "      <th>proximity</th>\n",
       "    </tr>\n",
       "  </thead>\n",
       "  <tbody>\n",
       "    <tr>\n",
       "      <th>adult</th>\n",
       "      <th>Growing Sphere</th>\n",
       "      <td>0.823855</td>\n",
       "      <td>1.0</td>\n",
       "      <td>7.295473</td>\n",
       "    </tr>\n",
       "  </tbody>\n",
       "</table>\n",
       "</div>"
      ],
      "text/plain": [
       "                           acc  validity  proximity\n",
       "adult Growing Sphere  0.823855       1.0   7.295473"
      ]
     },
     "execution_count": null,
     "metadata": {},
     "output_type": "execute_result"
    }
   ],
   "source": [
    "#| slow\n",
    "benchmark_cfs([cf_exp])"
   ]
  },
  {
   "cell_type": "code",
   "execution_count": null,
   "metadata": {},
   "outputs": [
    {
     "data": {
      "application/vnd.jupyter.widget-view+json": {
       "model_id": "f7ba08d86ba84102b8e1aa6189649fb9",
       "version_major": 2,
       "version_minor": 0
      },
      "text/plain": [
       "  0%|          | 0/5 [00:00<?, ?it/s]"
      ]
     },
     "metadata": {},
     "output_type": "display_data"
    }
   ],
   "source": [
    "#| hide\n",
    "gs = GrowingSphere({'n_steps': 5, 'n_samples': 10, 'step_size': 0.1})\n",
    "cf_exp = generate_cf_explanations(\n",
    "    gs, dm, pred_fn=pred_fn, \n",
    "    pred_fn_args=dict(\n",
    "        params=params, key=random.PRNGKey(0)\n",
    "    )\n",
    ")\n",
    "assert not np.array_equal(cf_exp.cfs[0], cf_exp.cfs[1])"
   ]
  }
 ],
 "metadata": {
  "kernelspec": {
   "display_name": "python3",
   "language": "python",
   "name": "python3"
  }
 },
 "nbformat": 4,
 "nbformat_minor": 2
}
