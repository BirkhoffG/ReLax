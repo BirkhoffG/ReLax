{
 "cells": [
  {
   "cell_type": "markdown",
   "metadata": {},
   "source": [
    "# Vanilla CF\n",
    "\n",
    "> Vanilla counterfactual explanation."
   ]
  },
  {
   "cell_type": "code",
   "execution_count": 1,
   "metadata": {},
   "outputs": [],
   "source": [
    "# | default_exp methods.vanilla"
   ]
  },
  {
   "cell_type": "code",
   "execution_count": 2,
   "metadata": {},
   "outputs": [],
   "source": [
    "#| include: false\n",
    "%load_ext autoreload\n",
    "%autoreload 2\n",
    "from ipynb_path import *"
   ]
  },
  {
   "cell_type": "code",
   "execution_count": 3,
   "metadata": {},
   "outputs": [],
   "source": [
    "# | export\n",
    "from __future__ import annotations\n",
    "from cfnet.import_essentials import *\n",
    "from cfnet.methods.base import BaseCFModule\n",
    "from cfnet.data import TabularDataModule\n",
    "from cfnet.utils import validate_configs, binary_cross_entropy, grad_update"
   ]
  },
  {
   "cell_type": "code",
   "execution_count": 4,
   "metadata": {},
   "outputs": [],
   "source": [
    "# | exporti\n",
    "def _vanilla_cf(\n",
    "    x: jnp.DeviceArray,  # `x` shape: (k,), where `k` is the number of features\n",
    "    pred_fn: Callable[[jnp.DeviceArray], jnp.DeviceArray],  # y = pred_fn(x)\n",
    "    n_steps: int,\n",
    "    lr: float,  # learning rate for each `cf` optimization step\n",
    "    lambda_: float,  #  loss = validity_loss + lambda_params * cost\n",
    "    apply_fn: Callable\n",
    ") -> jnp.DeviceArray:  # return `cf` shape: (k,)\n",
    "    def loss_fn_1(cf_y: jnp.DeviceArray, y_prime: jnp.DeviceArray):\n",
    "        return jnp.mean(binary_cross_entropy(y_pred=cf_y, y=y_prime))\n",
    "\n",
    "    def loss_fn_2(x: jnp.DeviceArray, cf: jnp.DeviceArray):\n",
    "        return jnp.mean(optax.l2_loss(cf, x))\n",
    "\n",
    "    def loss_fn(\n",
    "        cf: jnp.DeviceArray,  # `cf` shape: (k, 1)\n",
    "        x: jnp.DeviceArray,  # `x` shape: (k, 1)\n",
    "        pred_fn: Callable[[jnp.DeviceArray], jnp.DeviceArray],\n",
    "    ):\n",
    "        y_pred = pred_fn(x)\n",
    "        y_prime = 1.0 - y_pred\n",
    "        cf_y = pred_fn(cf)\n",
    "        return loss_fn_1(cf_y, y_prime) + lambda_ * loss_fn_2(x, cf)\n",
    "\n",
    "    @jax.jit\n",
    "    def gen_cf_step(\n",
    "        x: jnp.DeviceArray, cf: jnp.DeviceArray, opt_state: optax.OptState\n",
    "    ) -> Tuple[jnp.DeviceArray, optax.OptState]:\n",
    "        cf_grads = jax.grad(loss_fn)(cf, x, pred_fn)\n",
    "        cf, opt_state = grad_update(cf_grads, cf, opt_state, opt)\n",
    "        cf = apply_fn(x, cf, hard=False)\n",
    "        cf = jnp.clip(cf, 0.0, 1.0)\n",
    "        return cf, opt_state\n",
    "\n",
    "    x_size = x.shape\n",
    "    if len(x_size) > 1 and x_size[0] != 1:\n",
    "        raise ValueError(\n",
    "            f\"\"\"Invalid Input Shape: Require `x.shape` = (1, k) or (k, ),\n",
    "but got `x.shape` = {x.shape}. This method expects a single input instance.\"\"\"\n",
    "        )\n",
    "    if len(x_size) == 1:\n",
    "        x = x.reshape(1, -1)\n",
    "    cf = jnp.array(x, copy=True)\n",
    "    opt = optax.rmsprop(lr)\n",
    "    opt_state = opt.init(cf)\n",
    "    for _ in tqdm(range(n_steps)):\n",
    "        cf, opt_state = gen_cf_step(x, cf, opt_state)\n",
    "\n",
    "    cf = apply_fn(x, cf, hard=False)\n",
    "    return cf.reshape(x_size)\n"
   ]
  },
  {
   "cell_type": "code",
   "execution_count": 16,
   "metadata": {},
   "outputs": [],
   "source": [
    "# | export\n",
    "class VanillaCFConfig(BaseParser):\n",
    "    n_steps: int = 1000\n",
    "    lr: float = 0.001\n",
    "    lambda_: float = 0.1  # loss = validity_loss + lambda_ * cost\n"
   ]
  },
  {
   "cell_type": "code",
   "execution_count": 17,
   "metadata": {},
   "outputs": [],
   "source": [
    "# | export\n",
    "class VanillaCF(BaseCFModule):\n",
    "    name = \"VanillaCF\"\n",
    "\n",
    "    def __init__(\n",
    "        self,\n",
    "        configs: dict | VanillaCFConfig = None\n",
    "    ):\n",
    "        if configs is None:\n",
    "            configs = VanillaCFConfig()\n",
    "        self.configs = validate_configs(configs, VanillaCFConfig)\n",
    "\n",
    "    def generate_cf(\n",
    "        self,\n",
    "        x: jnp.ndarray,  # `x` shape: (k,), where `k` is the number of features\n",
    "        pred_fn: Callable[[jnp.DeviceArray], jnp.DeviceArray],\n",
    "    ) -> jnp.DeviceArray:\n",
    "        return _vanilla_cf(\n",
    "            x=x,  # `x` shape: (k,), where `k` is the number of features\n",
    "            pred_fn=pred_fn,  # y = pred_fn(x)\n",
    "            n_steps=self.configs.n_steps,\n",
    "            lr=self.configs.lr,  # learning rate for each `cf` optimization step\n",
    "            lambda_=self.configs.lambda_,  #  loss = validity_loss + lambda_params * cost\n",
    "            apply_fn=self.data_module.apply_constraints\n",
    "        )\n",
    "\n",
    "    def generate_cfs(\n",
    "        self,\n",
    "        X: jnp.DeviceArray,  # `x` shape: (b, k), where `b` is batch size, `k` is the number of features\n",
    "        pred_fn: Callable[[jnp.DeviceArray], jnp.DeviceArray],\n",
    "        is_parallel: bool = False,\n",
    "    ) -> jnp.DeviceArray:\n",
    "        def _generate_cf(x: jnp.DeviceArray) -> jnp.ndarray:\n",
    "            return self.generate_cf(x, pred_fn)\n",
    "\n",
    "        return (\n",
    "            jax.vmap(_generate_cf)(X) if not is_parallel else jax.pmap(_generate_cf)(X)\n",
    "        )\n"
   ]
  },
  {
   "cell_type": "code",
   "execution_count": 18,
   "metadata": {},
   "outputs": [],
   "source": [
    "from cfnet.data import load_data\n",
    "from cfnet.module import PredictiveTrainingModule, PredictiveTrainingModuleConfigs\n",
    "from cfnet.evaluate import generate_cf_explanations, benchmark_cfs\n",
    "from cfnet.train import train_model"
   ]
  },
  {
   "attachments": {},
   "cell_type": "markdown",
   "metadata": {},
   "source": [
    "Load data:"
   ]
  },
  {
   "cell_type": "code",
   "execution_count": 19,
   "metadata": {},
   "outputs": [],
   "source": [
    "dm = load_data('adult', data_configs=dict(sample_frac=0.1))"
   ]
  },
  {
   "attachments": {},
   "cell_type": "markdown",
   "metadata": {},
   "source": [
    "Train predictive model:"
   ]
  },
  {
   "cell_type": "code",
   "execution_count": 9,
   "metadata": {},
   "outputs": [
    {
     "name": "stderr",
     "output_type": "stream",
     "text": [
      "WARNING:absl:No GPU/TPU found, falling back to CPU. (Set TF_CPP_MIN_LOG_LEVEL=0 and rerun for more info.)\n",
      "/home/birk/code/cfnet/cfnet/_ckpt_manager.py:48: UserWarning: `monitor_metrics` is not specified in `CheckpointManager`. No checkpoints will be stored.\n",
      "  \"`monitor_metrics` is not specified in `CheckpointManager`. No checkpoints will be stored.\"\n",
      "Epoch 9: 100%|██████████| 10/10 [00:00<00:00, 87.77batch/s, train/train_loss_1=0.0615]\n"
     ]
    }
   ],
   "source": [
    "#| output: false\n",
    "m_config = dict(sizes=[50, 10, 50], lr=0.03)\n",
    "t_config = dict(n_epochs=10, batch_size=256)\n",
    "\n",
    "training_module = PredictiveTrainingModule(m_config)\n",
    "params, opt_state = train_model(\n",
    "    training_module, dm, t_config\n",
    ")\n",
    "# predict function\n",
    "pred_fn = lambda x, params, key: training_module.forward(\n",
    "    params, key, x, is_training=False\n",
    ")\n"
   ]
  },
  {
   "attachments": {},
   "cell_type": "markdown",
   "metadata": {},
   "source": [
    "Define `VanillaCF`:"
   ]
  },
  {
   "cell_type": "code",
   "execution_count": 20,
   "metadata": {},
   "outputs": [],
   "source": [
    "vanillacf = VanillaCF()"
   ]
  },
  {
   "attachments": {},
   "cell_type": "markdown",
   "metadata": {},
   "source": [
    "Generate explanations:"
   ]
  },
  {
   "cell_type": "code",
   "execution_count": 21,
   "metadata": {},
   "outputs": [
    {
     "name": "stderr",
     "output_type": "stream",
     "text": [
      "100%|██████████| 1000/1000 [00:05<00:00, 185.48it/s]\n"
     ]
    }
   ],
   "source": [
    "#| output: false\n",
    "cf_exp = generate_cf_explanations(\n",
    "    vanillacf, dm, pred_fn=pred_fn, \n",
    "    t_configs=dict(\n",
    "        n_epochs=5, batch_size=128\n",
    "    ), \n",
    "    pred_fn_args=dict(\n",
    "        params=params, key=random.PRNGKey(0)\n",
    "    )\n",
    ")"
   ]
  },
  {
   "attachments": {},
   "cell_type": "markdown",
   "metadata": {},
   "source": [
    "Evaluate explanations:"
   ]
  },
  {
   "cell_type": "code",
   "execution_count": 22,
   "metadata": {},
   "outputs": [
    {
     "data": {
      "text/html": [
       "<div>\n",
       "<style scoped>\n",
       "    .dataframe tbody tr th:only-of-type {\n",
       "        vertical-align: middle;\n",
       "    }\n",
       "\n",
       "    .dataframe tbody tr th {\n",
       "        vertical-align: top;\n",
       "    }\n",
       "\n",
       "    .dataframe thead th {\n",
       "        text-align: right;\n",
       "    }\n",
       "</style>\n",
       "<table border=\"1\" class=\"dataframe\">\n",
       "  <thead>\n",
       "    <tr style=\"text-align: right;\">\n",
       "      <th></th>\n",
       "      <th></th>\n",
       "      <th>acc</th>\n",
       "      <th>validity</th>\n",
       "      <th>proximity</th>\n",
       "    </tr>\n",
       "  </thead>\n",
       "  <tbody>\n",
       "    <tr>\n",
       "      <th>adult</th>\n",
       "      <th>VanillaCF</th>\n",
       "      <td>0.825329</td>\n",
       "      <td>0.167424</td>\n",
       "      <td>7.3851247</td>\n",
       "    </tr>\n",
       "  </tbody>\n",
       "</table>\n",
       "</div>"
      ],
      "text/plain": [
       "                      acc  validity  proximity\n",
       "adult VanillaCF  0.825329  0.167424  7.3851247"
      ]
     },
     "execution_count": 22,
     "metadata": {},
     "output_type": "execute_result"
    }
   ],
   "source": [
    "benchmark_cfs([cf_exp])"
   ]
  }
 ],
 "metadata": {
  "kernelspec": {
   "display_name": "nbdev2",
   "language": "python",
   "name": "python3"
  },
  "language_info": {
   "codemirror_mode": {
    "name": "ipython",
    "version": 3
   },
   "file_extension": ".py",
   "mimetype": "text/x-python",
   "name": "python",
   "nbconvert_exporter": "python",
   "pygments_lexer": "ipython3",
   "version": "3.7.12"
  },
  "vscode": {
   "interpreter": {
    "hash": "3f450d1f6173d6d96822a65433f2c9ed0b856da53e162bc0666cdf9645c72e1e"
   }
  }
 },
 "nbformat": 4,
 "nbformat_minor": 2
}
